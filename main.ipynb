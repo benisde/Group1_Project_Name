{
 "cells": [
  {
   "cell_type": "code",
   "execution_count": 81,
   "metadata": {},
   "outputs": [],
   "source": [
    "import q1 \n",
    "import pandas as pd\n",
    "import numpy as np\n",
    "from pathlib import Path\n",
    "import hvplot.pandas\n",
    "\n",
    "#import make_model_count as mm\n",
    "\n",
    "#const variables \n",
    "col_recall_number = \"RecallCount\"\n",
    "col_make = \"Make\"\n",
    "col_model = \"Model\"\n",
    "\n",
    "def get_df():\n",
    "    # get_df function load the csv file and creates the panda dataframe and return it\n",
    "    # Furthermore, it also change the names of the columns in order to make these names are more readable\n",
    "    vehicle_df = pd.read_csv(\"./resources/vrdb_60days_daily.csv\")\n",
    "    vehicle_df.head()\n",
    "    vehicle_df = vehicle_df[[\"RECALL_NUMBER_NUM\", \"MAKE_NAME_NM\",\"MODEL_NAME_NM\"]]\n",
    "    vehicle_df.columns = [col_recall_number, col_make, col_model]\n",
    "    vehicle_df = vehicle_df.groupby([col_make, col_model]).count()\n",
    "    vehicle_df = vehicle_df.sort_values(by=col_recall_number)\n",
    "    vehicle_df = vehicle_df[vehicle_df.RecallCount>= 17]\n",
    "\n",
    "    return vehicle_df\n"
   ]
  },
  {
   "cell_type": "code",
   "execution_count": 80,
   "metadata": {},
   "outputs": [
    {
     "data": {},
     "metadata": {},
     "output_type": "display_data"
    },
    {
     "data": {
      "application/vnd.holoviews_exec.v0+json": "",
      "text/html": [
       "<div id='7336'>\n",
       "  <div class=\"bk-root\" id=\"e22ef567-28d6-49e7-b821-e53dfb092c8e\" data-root-id=\"7336\"></div>\n",
       "</div>\n",
       "<script type=\"application/javascript\">(function(root) {\n",
       "  function embed_document(root) {\n",
       "    var docs_json = {\"039047db-88d7-450f-86b8-3ac071079be2\":{\"defs\":[{\"extends\":null,\"module\":null,\"name\":\"ReactiveHTML1\",\"overrides\":[],\"properties\":[]},{\"extends\":null,\"module\":null,\"name\":\"FlexBox1\",\"overrides\":[],\"properties\":[{\"default\":\"flex-start\",\"kind\":null,\"name\":\"align_content\"},{\"default\":\"flex-start\",\"kind\":null,\"name\":\"align_items\"},{\"default\":\"row\",\"kind\":null,\"name\":\"flex_direction\"},{\"default\":\"wrap\",\"kind\":null,\"name\":\"flex_wrap\"},{\"default\":\"flex-start\",\"kind\":null,\"name\":\"justify_content\"}]},{\"extends\":null,\"module\":null,\"name\":\"GridStack1\",\"overrides\":[],\"properties\":[{\"default\":\"warn\",\"kind\":null,\"name\":\"mode\"},{\"default\":null,\"kind\":null,\"name\":\"ncols\"},{\"default\":null,\"kind\":null,\"name\":\"nrows\"},{\"default\":true,\"kind\":null,\"name\":\"allow_resize\"},{\"default\":true,\"kind\":null,\"name\":\"allow_drag\"},{\"default\":[],\"kind\":null,\"name\":\"state\"}]},{\"extends\":null,\"module\":null,\"name\":\"click1\",\"overrides\":[],\"properties\":[{\"default\":\"\",\"kind\":null,\"name\":\"terminal_output\"},{\"default\":\"\",\"kind\":null,\"name\":\"debug_name\"},{\"default\":0,\"kind\":null,\"name\":\"clears\"}]},{\"extends\":null,\"module\":null,\"name\":\"NotificationAreaBase1\",\"overrides\":[],\"properties\":[{\"default\":\"bottom-right\",\"kind\":null,\"name\":\"position\"},{\"default\":0,\"kind\":null,\"name\":\"_clear\"}]},{\"extends\":null,\"module\":null,\"name\":\"NotificationArea1\",\"overrides\":[],\"properties\":[{\"default\":[],\"kind\":null,\"name\":\"notifications\"},{\"default\":\"bottom-right\",\"kind\":null,\"name\":\"position\"},{\"default\":0,\"kind\":null,\"name\":\"_clear\"},{\"default\":[{\"background\":\"#ffc107\",\"icon\":{\"className\":\"fas fa-exclamation-triangle\",\"color\":\"white\",\"tagName\":\"i\"},\"type\":\"warning\"},{\"background\":\"#007bff\",\"icon\":{\"className\":\"fas fa-info-circle\",\"color\":\"white\",\"tagName\":\"i\"},\"type\":\"info\"}],\"kind\":null,\"name\":\"types\"}]},{\"extends\":null,\"module\":null,\"name\":\"Notification\",\"overrides\":[],\"properties\":[{\"default\":null,\"kind\":null,\"name\":\"background\"},{\"default\":3000,\"kind\":null,\"name\":\"duration\"},{\"default\":null,\"kind\":null,\"name\":\"icon\"},{\"default\":\"\",\"kind\":null,\"name\":\"message\"},{\"default\":null,\"kind\":null,\"name\":\"notification_type\"},{\"default\":false,\"kind\":null,\"name\":\"_destroyed\"}]},{\"extends\":null,\"module\":null,\"name\":\"TemplateActions1\",\"overrides\":[],\"properties\":[{\"default\":0,\"kind\":null,\"name\":\"open_modal\"},{\"default\":0,\"kind\":null,\"name\":\"close_modal\"}]},{\"extends\":null,\"module\":null,\"name\":\"MaterialTemplateActions1\",\"overrides\":[],\"properties\":[{\"default\":0,\"kind\":null,\"name\":\"open_modal\"},{\"default\":0,\"kind\":null,\"name\":\"close_modal\"}]}],\"roots\":{\"references\":[{\"attributes\":{},\"id\":\"7361\",\"type\":\"ResetTool\"},{\"attributes\":{\"source\":{\"id\":\"7370\"}},\"id\":\"7377\",\"type\":\"CDSView\"},{\"attributes\":{},\"id\":\"7359\",\"type\":\"WheelZoomTool\"},{\"attributes\":{\"axis\":{\"id\":\"7350\"},\"coordinates\":null,\"grid_line_color\":null,\"group\":null,\"ticker\":null},\"id\":\"7352\",\"type\":\"Grid\"},{\"attributes\":{\"overlay\":{\"id\":\"7362\"}},\"id\":\"7360\",\"type\":\"BoxZoomTool\"},{\"attributes\":{\"axis_label\":\"Make\",\"axis_label_text_font_size\":\"25px\",\"coordinates\":null,\"formatter\":{\"id\":\"7381\"},\"group\":null,\"group_text_font_size\":\"20pt\",\"major_label_orientation\":0.7853981633974483,\"major_label_policy\":{\"id\":\"7382\"},\"major_label_text_font_size\":\"20pt\",\"ticker\":{\"id\":\"7351\"}},\"id\":\"7350\",\"type\":\"CategoricalAxis\"},{\"attributes\":{},\"id\":\"7346\",\"type\":\"CategoricalScale\"},{\"attributes\":{\"fill_color\":{\"value\":\"#0000FF\"},\"hatch_color\":{\"value\":\"#0000FF\"},\"top\":{\"field\":\"RecallCount\"},\"width\":{\"value\":0.8},\"x\":{\"field\":\"Make\"}},\"id\":\"7373\",\"type\":\"VBar\"},{\"attributes\":{\"coordinates\":null,\"group\":null,\"text\":\"Number of vehicle recalls by make\",\"text_color\":\"black\",\"text_font_size\":\"35pt\"},\"id\":\"7342\",\"type\":\"Title\"},{\"attributes\":{},\"id\":\"7385\",\"type\":\"AllLabels\"},{\"attributes\":{},\"id\":\"7381\",\"type\":\"CategoricalTickFormatter\"},{\"attributes\":{},\"id\":\"7371\",\"type\":\"Selection\"},{\"attributes\":{},\"id\":\"7348\",\"type\":\"LinearScale\"},{\"attributes\":{\"end\":120,\"reset_end\":120,\"reset_start\":20,\"start\":20,\"tags\":[[[\"RecallCount\",\"RecallCount\",null]]]},\"id\":\"7339\",\"type\":\"Range1d\"},{\"attributes\":{},\"id\":\"7354\",\"type\":\"BasicTicker\"},{\"attributes\":{\"format\":\"%.0f\"},\"id\":\"7379\",\"type\":\"PrintfTickFormatter\"},{\"attributes\":{},\"id\":\"7351\",\"type\":\"CategoricalTicker\"},{\"attributes\":{\"axis_label\":\"Number of recalls\",\"axis_label_text_font_size\":\"25px\",\"coordinates\":null,\"formatter\":{\"id\":\"7379\"},\"group\":null,\"major_label_policy\":{\"id\":\"7385\"},\"major_label_text_font_size\":\"20pt\",\"ticker\":{\"id\":\"7354\"}},\"id\":\"7353\",\"type\":\"LinearAxis\"},{\"attributes\":{\"fill_alpha\":{\"value\":0.1},\"fill_color\":{\"value\":\"#0000FF\"},\"hatch_alpha\":{\"value\":0.1},\"hatch_color\":{\"value\":\"#0000FF\"},\"line_alpha\":{\"value\":0.1},\"top\":{\"field\":\"RecallCount\"},\"width\":{\"value\":0.8},\"x\":{\"field\":\"Make\"}},\"id\":\"7374\",\"type\":\"VBar\"},{\"attributes\":{\"axis\":{\"id\":\"7353\"},\"coordinates\":null,\"dimension\":1,\"grid_line_color\":null,\"group\":null,\"ticker\":null},\"id\":\"7356\",\"type\":\"Grid\"},{\"attributes\":{\"coordinates\":null,\"data_source\":{\"id\":\"7370\"},\"glyph\":{\"id\":\"7373\"},\"group\":null,\"hover_glyph\":null,\"muted_glyph\":{\"id\":\"7375\"},\"nonselection_glyph\":{\"id\":\"7374\"},\"selection_glyph\":{\"id\":\"7378\"},\"view\":{\"id\":\"7377\"}},\"id\":\"7376\",\"type\":\"GlyphRenderer\"},{\"attributes\":{\"children\":[{\"id\":\"7337\"},{\"id\":\"7341\"},{\"id\":\"7397\"}],\"margin\":[0,0,0,0],\"name\":\"Row07105\",\"tags\":[\"embedded\"]},\"id\":\"7336\",\"type\":\"Row\"},{\"attributes\":{},\"id\":\"7358\",\"type\":\"PanTool\"},{\"attributes\":{},\"id\":\"7394\",\"type\":\"UnionRenderers\"},{\"attributes\":{\"bottom\":{\"value\":0},\"fill_alpha\":{\"value\":1.0},\"fill_color\":{\"value\":\"#0000FF\"},\"hatch_alpha\":{\"value\":1.0},\"hatch_color\":{\"value\":\"#0000FF\"},\"hatch_scale\":{\"value\":12.0},\"hatch_weight\":{\"value\":1.0},\"line_alpha\":{\"value\":1.0},\"line_cap\":{\"value\":\"butt\"},\"line_color\":{\"value\":\"black\"},\"line_dash\":{\"value\":[]},\"line_dash_offset\":{\"value\":0},\"line_join\":{\"value\":\"bevel\"},\"line_width\":{\"value\":1},\"top\":{\"field\":\"RecallCount\"},\"width\":{\"value\":0.8},\"x\":{\"field\":\"Make\"}},\"id\":\"7378\",\"type\":\"VBar\"},{\"attributes\":{\"callback\":null,\"renderers\":[{\"id\":\"7376\"}],\"tags\":[\"hv_created\"],\"tooltips\":[[\"Make\",\"@{Make}\"],[\"RecallCount\",\"@{RecallCount}\"]]},\"id\":\"7340\",\"type\":\"HoverTool\"},{\"attributes\":{\"margin\":[5,5,5,5],\"name\":\"HSpacer07109\",\"sizing_mode\":\"stretch_width\"},\"id\":\"7337\",\"type\":\"Spacer\"},{\"attributes\":{},\"id\":\"7382\",\"type\":\"AllLabels\"},{\"attributes\":{\"data\":{\"Make\":[\"BMW\",\"CAMPAGNA MOTORS\",\"FORD\",\"HYUNDAI\",\"MERCEDES-BENZ\",\"NOVA BUS\",\"PORSCHE\"],\"RecallCount\":[74,24,69,106,88,28,102]},\"selected\":{\"id\":\"7371\"},\"selection_policy\":{\"id\":\"7394\"}},\"id\":\"7370\",\"type\":\"ColumnDataSource\"},{\"attributes\":{\"fill_alpha\":{\"value\":0.2},\"fill_color\":{\"value\":\"#0000FF\"},\"hatch_alpha\":{\"value\":0.2},\"hatch_color\":{\"value\":\"#0000FF\"},\"line_alpha\":{\"value\":0.2},\"top\":{\"field\":\"RecallCount\"},\"width\":{\"value\":0.8},\"x\":{\"field\":\"Make\"}},\"id\":\"7375\",\"type\":\"VBar\"},{\"attributes\":{\"tools\":[{\"id\":\"7340\"},{\"id\":\"7357\"},{\"id\":\"7358\"},{\"id\":\"7359\"},{\"id\":\"7360\"},{\"id\":\"7361\"}]},\"id\":\"7363\",\"type\":\"Toolbar\"},{\"attributes\":{\"margin\":[5,5,5,5],\"name\":\"HSpacer07110\",\"sizing_mode\":\"stretch_width\"},\"id\":\"7397\",\"type\":\"Spacer\"},{\"attributes\":{\"below\":[{\"id\":\"7350\"}],\"center\":[{\"id\":\"7352\"},{\"id\":\"7356\"}],\"height\":768,\"left\":[{\"id\":\"7353\"}],\"margin\":[5,5,5,5],\"min_border_bottom\":10,\"min_border_left\":10,\"min_border_right\":10,\"min_border_top\":10,\"renderers\":[{\"id\":\"7376\"}],\"sizing_mode\":\"fixed\",\"title\":{\"id\":\"7342\"},\"toolbar\":{\"id\":\"7363\"},\"width\":2048,\"x_range\":{\"id\":\"7338\"},\"x_scale\":{\"id\":\"7346\"},\"y_range\":{\"id\":\"7339\"},\"y_scale\":{\"id\":\"7348\"}},\"id\":\"7341\",\"subtype\":\"Figure\",\"type\":\"Plot\"},{\"attributes\":{\"bottom_units\":\"screen\",\"coordinates\":null,\"fill_alpha\":0.5,\"fill_color\":\"lightgrey\",\"group\":null,\"left_units\":\"screen\",\"level\":\"overlay\",\"line_alpha\":1.0,\"line_color\":\"black\",\"line_dash\":[4,4],\"line_width\":2,\"right_units\":\"screen\",\"syncable\":false,\"top_units\":\"screen\"},\"id\":\"7362\",\"type\":\"BoxAnnotation\"},{\"attributes\":{},\"id\":\"7357\",\"type\":\"SaveTool\"},{\"attributes\":{\"factors\":[\"BMW\",\"CAMPAGNA MOTORS\",\"FORD\",\"HYUNDAI\",\"MERCEDES-BENZ\",\"NOVA BUS\",\"PORSCHE\"],\"tags\":[[[\"Make\",\"Make\",null]]]},\"id\":\"7338\",\"type\":\"FactorRange\"}],\"root_ids\":[\"7336\"]},\"title\":\"Bokeh Application\",\"version\":\"2.4.3\"}};\n",
       "    var render_items = [{\"docid\":\"039047db-88d7-450f-86b8-3ac071079be2\",\"root_ids\":[\"7336\"],\"roots\":{\"7336\":\"e22ef567-28d6-49e7-b821-e53dfb092c8e\"}}];\n",
       "    root.Bokeh.embed.embed_items_notebook(docs_json, render_items);\n",
       "    for (const render_item of render_items) {\n",
       "      for (const root_id of render_item.root_ids) {\n",
       "\tconst id_el = document.getElementById(root_id)\n",
       "\tif (id_el.children.length && (id_el.children[0].className === 'bk-root')) {\n",
       "\t  const root_el = id_el.children[0]\n",
       "\t  root_el.id = root_el.id + '-rendered'\n",
       "\t}\n",
       "      }\n",
       "    }\n",
       "  }\n",
       "  if (root.Bokeh !== undefined && root.Bokeh.Panel !== undefined) {\n",
       "    embed_document(root);\n",
       "  } else {\n",
       "    var attempts = 0;\n",
       "    var timer = setInterval(function(root) {\n",
       "      if (root.Bokeh !== undefined && root.Bokeh.Panel !== undefined) {\n",
       "        clearInterval(timer);\n",
       "        embed_document(root);\n",
       "      } else if (document.readyState == \"complete\") {\n",
       "        attempts++;\n",
       "        if (attempts > 200) {\n",
       "          clearInterval(timer);\n",
       "          console.log(\"Bokeh: ERROR: Unable to run BokehJS code because BokehJS library is missing\");\n",
       "        }\n",
       "      }\n",
       "    }, 25, root)\n",
       "  }\n",
       "})(window);</script>"
      ],
      "text/plain": [
       ":Bars   [Make]   (RecallCount)"
      ]
     },
     "execution_count": 80,
     "metadata": {
      "application/vnd.holoviews_exec.v0+json": {
       "id": "7336"
      }
     },
     "output_type": "execute_result"
    }
   ],
   "source": [
    "def bar():\n",
    "    # bar function plot a bar chart for number of recall count vs brand \n",
    "    # In order to achive this, the vehicle_df is grouped by make with sum function \n",
    "    #  to get the total number of recalls\n",
    "    vehicle_df = get_df()\n",
    "    vehicle_df.reset_index(inplace=True)\n",
    "\n",
    "    # to group by the vehicle brand to the the total number of recalls for a given brand \n",
    "    vehicle_df = vehicle_df.groupby([col_make]).sum()\n",
    "\n",
    "    return vehicle_df.hvplot.bar(\n",
    "        y=col_recall_number,\n",
    "        x=col_make,\n",
    "        width=2*1024, height=512+256,\n",
    "        xlabel=\"Make\", ylabel=\"Number of recalls\",\n",
    "        title=\"Number of vehicle recalls by make\",\n",
    "        fontsize={'title': '35pt', 'ylabel': '25px',\n",
    "                'xlabel': '25px', 'ticks': 20},\n",
    "        ylim=(20, 120),\n",
    "        color=[\"#0000FF\"],\n",
    "        padding=0.4,\n",
    "        yformatter=\"%.0f\",\n",
    "    ).opts(xrotation=45)\n",
    "\n",
    "\n",
    "bar()"
   ]
  },
  {
   "cell_type": "code",
   "execution_count": 82,
   "metadata": {},
   "outputs": [
    {
     "data": {},
     "metadata": {},
     "output_type": "display_data"
    },
    {
     "data": {
      "application/vnd.holoviews_exec.v0+json": "",
      "text/html": [
       "<div id='7444'>\n",
       "  <div class=\"bk-root\" id=\"51461092-d8c4-426d-a5c2-2102fda37981\" data-root-id=\"7444\"></div>\n",
       "</div>\n",
       "<script type=\"application/javascript\">(function(root) {\n",
       "  function embed_document(root) {\n",
       "    var docs_json = {\"271b27b8-19c4-4f5f-a1ac-b36475b6c59e\":{\"defs\":[{\"extends\":null,\"module\":null,\"name\":\"ReactiveHTML1\",\"overrides\":[],\"properties\":[]},{\"extends\":null,\"module\":null,\"name\":\"FlexBox1\",\"overrides\":[],\"properties\":[{\"default\":\"flex-start\",\"kind\":null,\"name\":\"align_content\"},{\"default\":\"flex-start\",\"kind\":null,\"name\":\"align_items\"},{\"default\":\"row\",\"kind\":null,\"name\":\"flex_direction\"},{\"default\":\"wrap\",\"kind\":null,\"name\":\"flex_wrap\"},{\"default\":\"flex-start\",\"kind\":null,\"name\":\"justify_content\"}]},{\"extends\":null,\"module\":null,\"name\":\"GridStack1\",\"overrides\":[],\"properties\":[{\"default\":\"warn\",\"kind\":null,\"name\":\"mode\"},{\"default\":null,\"kind\":null,\"name\":\"ncols\"},{\"default\":null,\"kind\":null,\"name\":\"nrows\"},{\"default\":true,\"kind\":null,\"name\":\"allow_resize\"},{\"default\":true,\"kind\":null,\"name\":\"allow_drag\"},{\"default\":[],\"kind\":null,\"name\":\"state\"}]},{\"extends\":null,\"module\":null,\"name\":\"click1\",\"overrides\":[],\"properties\":[{\"default\":\"\",\"kind\":null,\"name\":\"terminal_output\"},{\"default\":\"\",\"kind\":null,\"name\":\"debug_name\"},{\"default\":0,\"kind\":null,\"name\":\"clears\"}]},{\"extends\":null,\"module\":null,\"name\":\"NotificationAreaBase1\",\"overrides\":[],\"properties\":[{\"default\":\"bottom-right\",\"kind\":null,\"name\":\"position\"},{\"default\":0,\"kind\":null,\"name\":\"_clear\"}]},{\"extends\":null,\"module\":null,\"name\":\"NotificationArea1\",\"overrides\":[],\"properties\":[{\"default\":[],\"kind\":null,\"name\":\"notifications\"},{\"default\":\"bottom-right\",\"kind\":null,\"name\":\"position\"},{\"default\":0,\"kind\":null,\"name\":\"_clear\"},{\"default\":[{\"background\":\"#ffc107\",\"icon\":{\"className\":\"fas fa-exclamation-triangle\",\"color\":\"white\",\"tagName\":\"i\"},\"type\":\"warning\"},{\"background\":\"#007bff\",\"icon\":{\"className\":\"fas fa-info-circle\",\"color\":\"white\",\"tagName\":\"i\"},\"type\":\"info\"}],\"kind\":null,\"name\":\"types\"}]},{\"extends\":null,\"module\":null,\"name\":\"Notification\",\"overrides\":[],\"properties\":[{\"default\":null,\"kind\":null,\"name\":\"background\"},{\"default\":3000,\"kind\":null,\"name\":\"duration\"},{\"default\":null,\"kind\":null,\"name\":\"icon\"},{\"default\":\"\",\"kind\":null,\"name\":\"message\"},{\"default\":null,\"kind\":null,\"name\":\"notification_type\"},{\"default\":false,\"kind\":null,\"name\":\"_destroyed\"}]},{\"extends\":null,\"module\":null,\"name\":\"TemplateActions1\",\"overrides\":[],\"properties\":[{\"default\":0,\"kind\":null,\"name\":\"open_modal\"},{\"default\":0,\"kind\":null,\"name\":\"close_modal\"}]},{\"extends\":null,\"module\":null,\"name\":\"MaterialTemplateActions1\",\"overrides\":[],\"properties\":[{\"default\":0,\"kind\":null,\"name\":\"open_modal\"},{\"default\":0,\"kind\":null,\"name\":\"close_modal\"}]}],\"roots\":{\"references\":[{\"attributes\":{\"source\":{\"id\":\"7478\"}},\"id\":\"7485\",\"type\":\"CDSView\"},{\"attributes\":{},\"id\":\"7462\",\"type\":\"BasicTicker\"},{\"attributes\":{},\"id\":\"7491\",\"type\":\"BasicTickFormatter\"},{\"attributes\":{\"axis_label\":\"Number of recalls\",\"axis_label_text_font_size\":\"25px\",\"coordinates\":null,\"formatter\":{\"id\":\"7491\"},\"group\":null,\"major_label_policy\":{\"id\":\"7492\"},\"major_label_text_font_size\":\"20pt\",\"ticker\":{\"id\":\"7462\"}},\"id\":\"7461\",\"type\":\"LinearAxis\"},{\"attributes\":{\"below\":[{\"id\":\"7458\"}],\"center\":[{\"id\":\"7460\"},{\"id\":\"7464\"}],\"height\":768,\"left\":[{\"id\":\"7461\"}],\"margin\":[5,5,5,5],\"min_border_bottom\":10,\"min_border_left\":10,\"min_border_right\":10,\"min_border_top\":10,\"renderers\":[{\"id\":\"7484\"}],\"sizing_mode\":\"fixed\",\"title\":{\"id\":\"7450\"},\"toolbar\":{\"id\":\"7471\"},\"width\":1536,\"x_range\":{\"id\":\"7446\"},\"x_scale\":{\"id\":\"7454\"},\"y_range\":{\"id\":\"7447\"},\"y_scale\":{\"id\":\"7456\"}},\"id\":\"7449\",\"subtype\":\"Figure\",\"type\":\"Plot\"},{\"attributes\":{\"margin\":[5,5,5,5],\"name\":\"VSpacer07158\",\"sizing_mode\":\"stretch_height\"},\"id\":\"7511\",\"type\":\"Spacer\"},{\"attributes\":{\"axis\":{\"id\":\"7461\"},\"coordinates\":null,\"dimension\":1,\"grid_line_color\":null,\"group\":null,\"ticker\":null},\"id\":\"7464\",\"type\":\"Grid\"},{\"attributes\":{\"children\":[{\"id\":\"7513\"}],\"css_classes\":[\"panel-widget-box\"],\"margin\":[5,5,5,5],\"name\":\"WidgetBox07153\"},\"id\":\"7512\",\"type\":\"Column\"},{\"attributes\":{},\"id\":\"7489\",\"type\":\"AllLabels\"},{\"attributes\":{\"margin\":[20,20,20,20],\"min_width\":250,\"options\":[\"FORD\",\"HYUNDAI\",\"PORSCHE\",\"MERCEDES-BENZ\",\"CAMPAGNA MOTORS\",\"NOVA BUS\",\"BMW\"],\"title\":\"Make\",\"value\":\"FORD\",\"width\":250},\"id\":\"7513\",\"type\":\"panel.models.widgets.CustomSelect\"},{\"attributes\":{\"line_alpha\":0.2,\"line_color\":\"#30a2da\",\"line_width\":2,\"x\":{\"field\":\"Model\"},\"y\":{\"field\":\"RecallCount\"}},\"id\":\"7483\",\"type\":\"Line\"},{\"attributes\":{\"end\":27.9,\"reset_end\":27.9,\"reset_start\":17.1,\"start\":17.1,\"tags\":[[[\"RecallCount\",\"RecallCount\",null]]]},\"id\":\"7447\",\"type\":\"Range1d\"},{\"attributes\":{},\"id\":\"7506\",\"type\":\"UnionRenderers\"},{\"attributes\":{},\"id\":\"7492\",\"type\":\"AllLabels\"},{\"attributes\":{\"margin\":[5,5,5,5],\"name\":\"HSpacer07162\",\"sizing_mode\":\"stretch_width\"},\"id\":\"7509\",\"type\":\"Spacer\"},{\"attributes\":{\"coordinates\":null,\"data_source\":{\"id\":\"7478\"},\"glyph\":{\"id\":\"7481\"},\"group\":null,\"hover_glyph\":null,\"muted_glyph\":{\"id\":\"7483\"},\"nonselection_glyph\":{\"id\":\"7482\"},\"selection_glyph\":{\"id\":\"7486\"},\"view\":{\"id\":\"7485\"}},\"id\":\"7484\",\"type\":\"GlyphRenderer\"},{\"attributes\":{},\"id\":\"7488\",\"type\":\"CategoricalTickFormatter\"},{\"attributes\":{\"line_color\":\"#30a2da\",\"line_width\":2,\"x\":{\"field\":\"Model\"},\"y\":{\"field\":\"RecallCount\"}},\"id\":\"7486\",\"type\":\"Line\"},{\"attributes\":{},\"id\":\"7479\",\"type\":\"Selection\"},{\"attributes\":{\"tools\":[{\"id\":\"7448\"},{\"id\":\"7465\"},{\"id\":\"7466\"},{\"id\":\"7467\"},{\"id\":\"7468\"},{\"id\":\"7469\"}]},\"id\":\"7471\",\"type\":\"Toolbar\"},{\"attributes\":{\"bottom_units\":\"screen\",\"coordinates\":null,\"fill_alpha\":0.5,\"fill_color\":\"lightgrey\",\"group\":null,\"left_units\":\"screen\",\"level\":\"overlay\",\"line_alpha\":1.0,\"line_color\":\"black\",\"line_dash\":[4,4],\"line_width\":2,\"right_units\":\"screen\",\"syncable\":false,\"top_units\":\"screen\"},\"id\":\"7470\",\"type\":\"BoxAnnotation\"},{\"attributes\":{\"line_alpha\":0.1,\"line_color\":\"#30a2da\",\"line_width\":2,\"x\":{\"field\":\"Model\"},\"y\":{\"field\":\"RecallCount\"}},\"id\":\"7482\",\"type\":\"Line\"},{\"attributes\":{},\"id\":\"7465\",\"type\":\"SaveTool\"},{\"attributes\":{},\"id\":\"7466\",\"type\":\"PanTool\"},{\"attributes\":{\"margin\":[5,5,5,5],\"name\":\"VSpacer07159\",\"sizing_mode\":\"stretch_height\"},\"id\":\"7514\",\"type\":\"Spacer\"},{\"attributes\":{},\"id\":\"7469\",\"type\":\"ResetTool\"},{\"attributes\":{},\"id\":\"7459\",\"type\":\"CategoricalTicker\"},{\"attributes\":{},\"id\":\"7467\",\"type\":\"WheelZoomTool\"},{\"attributes\":{\"children\":[{\"id\":\"7445\"},{\"id\":\"7449\"},{\"id\":\"7509\"},{\"id\":\"7510\"}],\"margin\":[0,0,0,0],\"name\":\"Row07152\"},\"id\":\"7444\",\"type\":\"Row\"},{\"attributes\":{\"overlay\":{\"id\":\"7470\"}},\"id\":\"7468\",\"type\":\"BoxZoomTool\"},{\"attributes\":{\"line_color\":\"#30a2da\",\"line_width\":2,\"x\":{\"field\":\"Model\"},\"y\":{\"field\":\"RecallCount\"}},\"id\":\"7481\",\"type\":\"Line\"},{\"attributes\":{\"margin\":[5,5,5,5],\"name\":\"HSpacer07161\",\"sizing_mode\":\"stretch_width\"},\"id\":\"7445\",\"type\":\"Spacer\"},{\"attributes\":{\"axis_label\":\"Model Name\",\"axis_label_text_font_size\":\"25px\",\"coordinates\":null,\"formatter\":{\"id\":\"7488\"},\"group\":null,\"group_text_font_size\":\"20pt\",\"major_label_policy\":{\"id\":\"7489\"},\"major_label_text_font_size\":\"20pt\",\"ticker\":{\"id\":\"7459\"}},\"id\":\"7458\",\"type\":\"CategoricalAxis\"},{\"attributes\":{},\"id\":\"7454\",\"type\":\"CategoricalScale\"},{\"attributes\":{\"client_comm_id\":\"b5ba9458fcd84189ad5f9e4ae015d7f5\",\"comm_id\":\"0aaabc2eabcb4c02b9d42b0f6727adee\",\"plot_id\":\"7444\"},\"id\":\"7545\",\"type\":\"panel.models.comm_manager.CommManager\"},{\"attributes\":{\"coordinates\":null,\"group\":null,\"text\":\"Number of recalls for a specific brand models\",\"text_color\":\"black\",\"text_font_size\":\"35pt\"},\"id\":\"7450\",\"type\":\"Title\"},{\"attributes\":{\"data\":{\"Model\":[\"C-MAX\",\"ESCAPE\",\"TRANSIT CONNECT\"],\"RecallCount\":[18,24,27]},\"selected\":{\"id\":\"7479\"},\"selection_policy\":{\"id\":\"7506\"}},\"id\":\"7478\",\"type\":\"ColumnDataSource\"},{\"attributes\":{\"factors\":[\"C-MAX\",\"ESCAPE\",\"TRANSIT CONNECT\"],\"tags\":[[[\"Model\",\"Model\",null]]]},\"id\":\"7446\",\"type\":\"FactorRange\"},{\"attributes\":{\"axis\":{\"id\":\"7458\"},\"coordinates\":null,\"grid_line_color\":null,\"group\":null,\"ticker\":null},\"id\":\"7460\",\"type\":\"Grid\"},{\"attributes\":{\"callback\":null,\"renderers\":[{\"id\":\"7484\"}],\"tags\":[\"hv_created\"],\"tooltips\":[[\"Model\",\"@{Model}\"],[\"RecallCount\",\"@{RecallCount}\"]]},\"id\":\"7448\",\"type\":\"HoverTool\"},{\"attributes\":{},\"id\":\"7456\",\"type\":\"LinearScale\"},{\"attributes\":{\"children\":[{\"id\":\"7511\"},{\"id\":\"7512\"},{\"id\":\"7514\"}],\"margin\":[0,0,0,0],\"name\":\"Column07160\"},\"id\":\"7510\",\"type\":\"Column\"}],\"root_ids\":[\"7444\",\"7545\"]},\"title\":\"Bokeh Application\",\"version\":\"2.4.3\"}};\n",
       "    var render_items = [{\"docid\":\"271b27b8-19c4-4f5f-a1ac-b36475b6c59e\",\"root_ids\":[\"7444\"],\"roots\":{\"7444\":\"51461092-d8c4-426d-a5c2-2102fda37981\"}}];\n",
       "    root.Bokeh.embed.embed_items_notebook(docs_json, render_items);\n",
       "    for (const render_item of render_items) {\n",
       "      for (const root_id of render_item.root_ids) {\n",
       "\tconst id_el = document.getElementById(root_id)\n",
       "\tif (id_el.children.length && (id_el.children[0].className === 'bk-root')) {\n",
       "\t  const root_el = id_el.children[0]\n",
       "\t  root_el.id = root_el.id + '-rendered'\n",
       "\t}\n",
       "      }\n",
       "    }\n",
       "  }\n",
       "  if (root.Bokeh !== undefined && root.Bokeh.Panel !== undefined) {\n",
       "    embed_document(root);\n",
       "  } else {\n",
       "    var attempts = 0;\n",
       "    var timer = setInterval(function(root) {\n",
       "      if (root.Bokeh !== undefined && root.Bokeh.Panel !== undefined) {\n",
       "        clearInterval(timer);\n",
       "        embed_document(root);\n",
       "      } else if (document.readyState == \"complete\") {\n",
       "        attempts++;\n",
       "        if (attempts > 200) {\n",
       "          clearInterval(timer);\n",
       "          console.log(\"Bokeh: ERROR: Unable to run BokehJS code because BokehJS library is missing\");\n",
       "        }\n",
       "      }\n",
       "    }, 25, root)\n",
       "  }\n",
       "})(window);</script>"
      ],
      "text/plain": [
       ":DynamicMap   [Make]\n",
       "   :Curve   [Model]   (RecallCount)"
      ]
     },
     "execution_count": 82,
     "metadata": {
      "application/vnd.holoviews_exec.v0+json": {
       "id": "7444"
      }
     },
     "output_type": "execute_result"
    }
   ],
   "source": [
    "def line():\n",
    "    # line function plot an interactive line graph to get the recall count for a selected brand\n",
    "    vehicle_df = get_df()\n",
    "    return vehicle_df.hvplot.line(\n",
    "    groupby=col_make,\n",
    "    width=1024+512, height=512+256,\n",
    "    xlabel=\"Model Name\", ylabel=\"Number of recalls\",\n",
    "    title=\"Number of recalls for a specific brand models\",\n",
    "    fontsize={'title': '35pt', 'ylabel': '25px',\n",
    "              'xlabel': '25px', 'ticks': 20},\n",
    "    )\n",
    "\n",
    "\n",
    "\n",
    "line()"
   ]
  },
  {
   "cell_type": "code",
   "execution_count": 70,
   "metadata": {},
   "outputs": [
    {
     "data": {},
     "metadata": {},
     "output_type": "display_data"
    },
    {
     "data": {
      "application/vnd.holoviews_exec.v0+json": "",
      "text/html": [
       "<div id='6217'>\n",
       "  <div class=\"bk-root\" id=\"39a02e50-19b3-41ac-8b65-764efb5840d6\" data-root-id=\"6217\"></div>\n",
       "</div>\n",
       "<script type=\"application/javascript\">(function(root) {\n",
       "  function embed_document(root) {\n",
       "    var docs_json = {\"ff5c0d30-9436-4dd1-a337-066ba06c03ad\":{\"defs\":[{\"extends\":null,\"module\":null,\"name\":\"ReactiveHTML1\",\"overrides\":[],\"properties\":[]},{\"extends\":null,\"module\":null,\"name\":\"FlexBox1\",\"overrides\":[],\"properties\":[{\"default\":\"flex-start\",\"kind\":null,\"name\":\"align_content\"},{\"default\":\"flex-start\",\"kind\":null,\"name\":\"align_items\"},{\"default\":\"row\",\"kind\":null,\"name\":\"flex_direction\"},{\"default\":\"wrap\",\"kind\":null,\"name\":\"flex_wrap\"},{\"default\":\"flex-start\",\"kind\":null,\"name\":\"justify_content\"}]},{\"extends\":null,\"module\":null,\"name\":\"GridStack1\",\"overrides\":[],\"properties\":[{\"default\":\"warn\",\"kind\":null,\"name\":\"mode\"},{\"default\":null,\"kind\":null,\"name\":\"ncols\"},{\"default\":null,\"kind\":null,\"name\":\"nrows\"},{\"default\":true,\"kind\":null,\"name\":\"allow_resize\"},{\"default\":true,\"kind\":null,\"name\":\"allow_drag\"},{\"default\":[],\"kind\":null,\"name\":\"state\"}]},{\"extends\":null,\"module\":null,\"name\":\"click1\",\"overrides\":[],\"properties\":[{\"default\":\"\",\"kind\":null,\"name\":\"terminal_output\"},{\"default\":\"\",\"kind\":null,\"name\":\"debug_name\"},{\"default\":0,\"kind\":null,\"name\":\"clears\"}]},{\"extends\":null,\"module\":null,\"name\":\"NotificationAreaBase1\",\"overrides\":[],\"properties\":[{\"default\":\"bottom-right\",\"kind\":null,\"name\":\"position\"},{\"default\":0,\"kind\":null,\"name\":\"_clear\"}]},{\"extends\":null,\"module\":null,\"name\":\"NotificationArea1\",\"overrides\":[],\"properties\":[{\"default\":[],\"kind\":null,\"name\":\"notifications\"},{\"default\":\"bottom-right\",\"kind\":null,\"name\":\"position\"},{\"default\":0,\"kind\":null,\"name\":\"_clear\"},{\"default\":[{\"background\":\"#ffc107\",\"icon\":{\"className\":\"fas fa-exclamation-triangle\",\"color\":\"white\",\"tagName\":\"i\"},\"type\":\"warning\"},{\"background\":\"#007bff\",\"icon\":{\"className\":\"fas fa-info-circle\",\"color\":\"white\",\"tagName\":\"i\"},\"type\":\"info\"}],\"kind\":null,\"name\":\"types\"}]},{\"extends\":null,\"module\":null,\"name\":\"Notification\",\"overrides\":[],\"properties\":[{\"default\":null,\"kind\":null,\"name\":\"background\"},{\"default\":3000,\"kind\":null,\"name\":\"duration\"},{\"default\":null,\"kind\":null,\"name\":\"icon\"},{\"default\":\"\",\"kind\":null,\"name\":\"message\"},{\"default\":null,\"kind\":null,\"name\":\"notification_type\"},{\"default\":false,\"kind\":null,\"name\":\"_destroyed\"}]},{\"extends\":null,\"module\":null,\"name\":\"TemplateActions1\",\"overrides\":[],\"properties\":[{\"default\":0,\"kind\":null,\"name\":\"open_modal\"},{\"default\":0,\"kind\":null,\"name\":\"close_modal\"}]},{\"extends\":null,\"module\":null,\"name\":\"MaterialTemplateActions1\",\"overrides\":[],\"properties\":[{\"default\":0,\"kind\":null,\"name\":\"open_modal\"},{\"default\":0,\"kind\":null,\"name\":\"close_modal\"}]}],\"roots\":{\"references\":[{\"attributes\":{\"fill_alpha\":{\"value\":0.1},\"fill_color\":{\"value\":\"#9467bd\"},\"hatch_alpha\":{\"value\":0.1},\"hatch_color\":{\"value\":\"#9467bd\"},\"line_alpha\":{\"value\":0.1},\"line_color\":{\"value\":\"#9467bd\"},\"size\":{\"value\":5.477225575051661},\"x\":{\"field\":\"Make\"},\"y\":{\"field\":\"RecallCount\"}},\"id\":\"6418\",\"type\":\"Scatter\"},{\"attributes\":{\"tools\":[{\"id\":\"6221\"},{\"id\":\"6244\"},{\"id\":\"6245\"},{\"id\":\"6246\"},{\"id\":\"6247\"},{\"id\":\"6248\"}]},\"id\":\"6250\",\"type\":\"Toolbar\"},{\"attributes\":{\"source\":{\"id\":\"6284\"}},\"id\":\"6291\",\"type\":\"CDSView\"},{\"attributes\":{\"angle\":{\"value\":0.0},\"fill_alpha\":{\"value\":1.0},\"fill_color\":{\"value\":\"#e5ae38\"},\"hatch_alpha\":{\"value\":1.0},\"hatch_color\":{\"value\":\"#e5ae38\"},\"hatch_scale\":{\"value\":12.0},\"hatch_weight\":{\"value\":1.0},\"line_alpha\":{\"value\":1.0},\"line_cap\":{\"value\":\"butt\"},\"line_color\":{\"value\":\"#e5ae38\"},\"line_dash\":{\"value\":[]},\"line_dash_offset\":{\"value\":0},\"line_join\":{\"value\":\"bevel\"},\"line_width\":{\"value\":1},\"marker\":{\"value\":\"circle\"},\"size\":{\"value\":5.477225575051661},\"x\":{\"field\":\"Make\"},\"y\":{\"field\":\"RecallCount\"}},\"id\":\"6329\",\"type\":\"Scatter\"},{\"attributes\":{\"bottom_units\":\"screen\",\"coordinates\":null,\"fill_alpha\":0.5,\"fill_color\":\"lightgrey\",\"group\":null,\"left_units\":\"screen\",\"level\":\"overlay\",\"line_alpha\":1.0,\"line_color\":\"black\",\"line_dash\":[4,4],\"line_width\":2,\"right_units\":\"screen\",\"syncable\":false,\"top_units\":\"screen\"},\"id\":\"6249\",\"type\":\"BoxAnnotation\"},{\"attributes\":{\"click_policy\":\"mute\",\"coordinates\":null,\"group\":null,\"items\":[{\"id\":\"6282\"},{\"id\":\"6304\"},{\"id\":\"6328\"},{\"id\":\"6354\"},{\"id\":\"6382\"},{\"id\":\"6412\"},{\"id\":\"6444\"}],\"location\":[0,0],\"orientation\":\"horizontal\",\"title\":\"Make\"},\"id\":\"6281\",\"type\":\"Legend\"},{\"attributes\":{},\"id\":\"6244\",\"type\":\"SaveTool\"},{\"attributes\":{},\"id\":\"6245\",\"type\":\"PanTool\"},{\"attributes\":{\"label\":{\"value\":\"CAMPAGNA MOTORS\"},\"renderers\":[{\"id\":\"6290\"}]},\"id\":\"6304\",\"type\":\"LegendItem\"},{\"attributes\":{\"source\":{\"id\":\"6263\"}},\"id\":\"6270\",\"type\":\"CDSView\"},{\"attributes\":{\"angle\":{\"value\":0.0},\"fill_alpha\":{\"value\":1.0},\"fill_color\":{\"value\":\"#fc4f30\"},\"hatch_alpha\":{\"value\":1.0},\"hatch_color\":{\"value\":\"#fc4f30\"},\"hatch_scale\":{\"value\":12.0},\"hatch_weight\":{\"value\":1.0},\"line_alpha\":{\"value\":1.0},\"line_cap\":{\"value\":\"butt\"},\"line_color\":{\"value\":\"#fc4f30\"},\"line_dash\":{\"value\":[]},\"line_dash_offset\":{\"value\":0},\"line_join\":{\"value\":\"bevel\"},\"line_width\":{\"value\":1},\"marker\":{\"value\":\"circle\"},\"size\":{\"value\":5.477225575051661},\"x\":{\"field\":\"Make\"},\"y\":{\"field\":\"RecallCount\"}},\"id\":\"6305\",\"type\":\"Scatter\"},{\"attributes\":{},\"id\":\"6248\",\"type\":\"ResetTool\"},{\"attributes\":{\"data\":{\"Make\":[\"BMW\",\"BMW\"],\"RecallCount\":[30,44]},\"selected\":{\"id\":\"6264\"},\"selection_policy\":{\"id\":\"6278\"}},\"id\":\"6263\",\"type\":\"ColumnDataSource\"},{\"attributes\":{\"source\":{\"id\":\"6306\"}},\"id\":\"6313\",\"type\":\"CDSView\"},{\"attributes\":{\"fill_color\":{\"value\":\"#e5ae38\"},\"hatch_color\":{\"value\":\"#e5ae38\"},\"line_color\":{\"value\":\"#e5ae38\"},\"size\":{\"value\":5.477225575051661},\"x\":{\"field\":\"Make\"},\"y\":{\"field\":\"RecallCount\"}},\"id\":\"6309\",\"type\":\"Scatter\"},{\"attributes\":{},\"id\":\"6246\",\"type\":\"WheelZoomTool\"},{\"attributes\":{\"angle\":{\"value\":0.0},\"fill_alpha\":{\"value\":1.0},\"fill_color\":{\"value\":\"#30a2da\"},\"hatch_alpha\":{\"value\":1.0},\"hatch_color\":{\"value\":\"#30a2da\"},\"hatch_scale\":{\"value\":12.0},\"hatch_weight\":{\"value\":1.0},\"line_alpha\":{\"value\":1.0},\"line_cap\":{\"value\":\"butt\"},\"line_color\":{\"value\":\"#30a2da\"},\"line_dash\":{\"value\":[]},\"line_dash_offset\":{\"value\":0},\"line_join\":{\"value\":\"bevel\"},\"line_width\":{\"value\":1},\"marker\":{\"value\":\"circle\"},\"size\":{\"value\":5.477225575051661},\"x\":{\"field\":\"Make\"},\"y\":{\"field\":\"RecallCount\"}},\"id\":\"6283\",\"type\":\"Scatter\"},{\"attributes\":{\"fill_alpha\":{\"value\":0.2},\"fill_color\":{\"value\":\"#17becf\"},\"hatch_alpha\":{\"value\":0.2},\"hatch_color\":{\"value\":\"#17becf\"},\"line_alpha\":{\"value\":0.2},\"line_color\":{\"value\":\"#17becf\"},\"size\":{\"value\":5.477225575051661},\"x\":{\"field\":\"Make\"},\"y\":{\"field\":\"RecallCount\"}},\"id\":\"6389\",\"type\":\"Scatter\"},{\"attributes\":{},\"id\":\"6351\",\"type\":\"UnionRenderers\"},{\"attributes\":{\"coordinates\":null,\"data_source\":{\"id\":\"6356\"},\"glyph\":{\"id\":\"6359\"},\"group\":null,\"hover_glyph\":null,\"muted_glyph\":{\"id\":\"6361\"},\"nonselection_glyph\":{\"id\":\"6360\"},\"selection_glyph\":{\"id\":\"6383\"},\"view\":{\"id\":\"6363\"}},\"id\":\"6362\",\"type\":\"GlyphRenderer\"},{\"attributes\":{\"fill_alpha\":{\"value\":0.2},\"fill_color\":{\"value\":\"#fc4f30\"},\"hatch_alpha\":{\"value\":0.2},\"hatch_color\":{\"value\":\"#fc4f30\"},\"line_alpha\":{\"value\":0.2},\"line_color\":{\"value\":\"#fc4f30\"},\"size\":{\"value\":5.477225575051661},\"x\":{\"field\":\"Make\"},\"y\":{\"field\":\"RecallCount\"}},\"id\":\"6289\",\"type\":\"Scatter\"},{\"attributes\":{\"overlay\":{\"id\":\"6249\"}},\"id\":\"6247\",\"type\":\"BoxZoomTool\"},{\"attributes\":{\"angle\":{\"value\":0.0},\"fill_alpha\":{\"value\":1.0},\"fill_color\":{\"value\":\"#17becf\"},\"hatch_alpha\":{\"value\":1.0},\"hatch_color\":{\"value\":\"#17becf\"},\"hatch_scale\":{\"value\":12.0},\"hatch_weight\":{\"value\":1.0},\"line_alpha\":{\"value\":1.0},\"line_cap\":{\"value\":\"butt\"},\"line_color\":{\"value\":\"#17becf\"},\"line_dash\":{\"value\":[]},\"line_dash_offset\":{\"value\":0},\"line_join\":{\"value\":\"bevel\"},\"line_width\":{\"value\":1},\"marker\":{\"value\":\"circle\"},\"size\":{\"value\":5.477225575051661},\"x\":{\"field\":\"Make\"},\"y\":{\"field\":\"RecallCount\"}},\"id\":\"6413\",\"type\":\"Scatter\"},{\"attributes\":{},\"id\":\"6258\",\"type\":\"CategoricalTickFormatter\"},{\"attributes\":{\"fill_color\":{\"value\":\"#fc4f30\"},\"hatch_color\":{\"value\":\"#fc4f30\"},\"line_color\":{\"value\":\"#fc4f30\"},\"size\":{\"value\":5.477225575051661},\"x\":{\"field\":\"Make\"},\"y\":{\"field\":\"RecallCount\"}},\"id\":\"6287\",\"type\":\"Scatter\"},{\"attributes\":{\"coordinates\":null,\"data_source\":{\"id\":\"6384\"},\"glyph\":{\"id\":\"6387\"},\"group\":null,\"hover_glyph\":null,\"muted_glyph\":{\"id\":\"6389\"},\"nonselection_glyph\":{\"id\":\"6388\"},\"selection_glyph\":{\"id\":\"6413\"},\"view\":{\"id\":\"6391\"}},\"id\":\"6390\",\"type\":\"GlyphRenderer\"},{\"attributes\":{\"fill_color\":{\"value\":\"#6d904f\"},\"hatch_color\":{\"value\":\"#6d904f\"},\"line_color\":{\"value\":\"#6d904f\"},\"size\":{\"value\":5.477225575051661},\"x\":{\"field\":\"Make\"},\"y\":{\"field\":\"RecallCount\"}},\"id\":\"6333\",\"type\":\"Scatter\"},{\"attributes\":{\"fill_alpha\":{\"value\":0.1},\"fill_color\":{\"value\":\"#8b8b8b\"},\"hatch_alpha\":{\"value\":0.1},\"hatch_color\":{\"value\":\"#8b8b8b\"},\"line_alpha\":{\"value\":0.1},\"line_color\":{\"value\":\"#8b8b8b\"},\"size\":{\"value\":5.477225575051661},\"x\":{\"field\":\"Make\"},\"y\":{\"field\":\"RecallCount\"}},\"id\":\"6360\",\"type\":\"Scatter\"},{\"attributes\":{\"data\":{\"Make\":[\"MERCEDES-BENZ\",\"MERCEDES-BENZ\",\"MERCEDES-BENZ\",\"MERCEDES-BENZ\"],\"RecallCount\":[22,22,22,22]},\"selected\":{\"id\":\"6357\"},\"selection_policy\":{\"id\":\"6379\"}},\"id\":\"6356\",\"type\":\"ColumnDataSource\"},{\"attributes\":{},\"id\":\"6385\",\"type\":\"Selection\"},{\"attributes\":{},\"id\":\"6259\",\"type\":\"AllLabels\"},{\"attributes\":{},\"id\":\"6301\",\"type\":\"UnionRenderers\"},{\"attributes\":{\"fill_alpha\":{\"value\":0.2},\"fill_color\":{\"value\":\"#6d904f\"},\"hatch_alpha\":{\"value\":0.2},\"hatch_color\":{\"value\":\"#6d904f\"},\"line_alpha\":{\"value\":0.2},\"line_color\":{\"value\":\"#6d904f\"},\"size\":{\"value\":5.477225575051661},\"x\":{\"field\":\"Make\"},\"y\":{\"field\":\"RecallCount\"}},\"id\":\"6335\",\"type\":\"Scatter\"},{\"attributes\":{\"fill_alpha\":{\"value\":0.2},\"fill_color\":{\"value\":\"#e5ae38\"},\"hatch_alpha\":{\"value\":0.2},\"hatch_color\":{\"value\":\"#e5ae38\"},\"line_alpha\":{\"value\":0.2},\"line_color\":{\"value\":\"#e5ae38\"},\"size\":{\"value\":5.477225575051661},\"x\":{\"field\":\"Make\"},\"y\":{\"field\":\"RecallCount\"}},\"id\":\"6311\",\"type\":\"Scatter\"},{\"attributes\":{\"margin\":[5,5,5,5],\"name\":\"HSpacer06029\",\"sizing_mode\":\"stretch_width\"},\"id\":\"6468\",\"type\":\"Spacer\"},{\"attributes\":{\"axis\":{\"id\":\"6237\"},\"coordinates\":null,\"grid_line_color\":null,\"group\":null,\"ticker\":null},\"id\":\"6239\",\"type\":\"Grid\"},{\"attributes\":{\"fill_alpha\":{\"value\":0.1},\"fill_color\":{\"value\":\"#30a2da\"},\"hatch_alpha\":{\"value\":0.1},\"hatch_color\":{\"value\":\"#30a2da\"},\"line_alpha\":{\"value\":0.1},\"line_color\":{\"value\":\"#30a2da\"},\"size\":{\"value\":5.477225575051661},\"x\":{\"field\":\"Make\"},\"y\":{\"field\":\"RecallCount\"}},\"id\":\"6267\",\"type\":\"Scatter\"},{\"attributes\":{},\"id\":\"6325\",\"type\":\"UnionRenderers\"},{\"attributes\":{\"coordinates\":null,\"data_source\":{\"id\":\"6306\"},\"glyph\":{\"id\":\"6309\"},\"group\":null,\"hover_glyph\":null,\"muted_glyph\":{\"id\":\"6311\"},\"nonselection_glyph\":{\"id\":\"6310\"},\"selection_glyph\":{\"id\":\"6329\"},\"view\":{\"id\":\"6313\"}},\"id\":\"6312\",\"type\":\"GlyphRenderer\"},{\"attributes\":{},\"id\":\"6278\",\"type\":\"UnionRenderers\"},{\"attributes\":{\"coordinates\":null,\"data_source\":{\"id\":\"6284\"},\"glyph\":{\"id\":\"6287\"},\"group\":null,\"hover_glyph\":null,\"muted_glyph\":{\"id\":\"6289\"},\"nonselection_glyph\":{\"id\":\"6288\"},\"selection_glyph\":{\"id\":\"6305\"},\"view\":{\"id\":\"6291\"}},\"id\":\"6290\",\"type\":\"GlyphRenderer\"},{\"attributes\":{},\"id\":\"6307\",\"type\":\"Selection\"},{\"attributes\":{\"fill_alpha\":{\"value\":0.1},\"fill_color\":{\"value\":\"#17becf\"},\"hatch_alpha\":{\"value\":0.1},\"hatch_color\":{\"value\":\"#17becf\"},\"line_alpha\":{\"value\":0.1},\"line_color\":{\"value\":\"#17becf\"},\"size\":{\"value\":5.477225575051661},\"x\":{\"field\":\"Make\"},\"y\":{\"field\":\"RecallCount\"}},\"id\":\"6388\",\"type\":\"Scatter\"},{\"attributes\":{\"coordinates\":null,\"data_source\":{\"id\":\"6414\"},\"glyph\":{\"id\":\"6417\"},\"group\":null,\"hover_glyph\":null,\"muted_glyph\":{\"id\":\"6419\"},\"nonselection_glyph\":{\"id\":\"6418\"},\"selection_glyph\":{\"id\":\"6445\"},\"view\":{\"id\":\"6421\"}},\"id\":\"6420\",\"type\":\"GlyphRenderer\"},{\"attributes\":{},\"id\":\"6285\",\"type\":\"Selection\"},{\"attributes\":{\"fill_color\":{\"value\":\"#9467bd\"},\"hatch_color\":{\"value\":\"#9467bd\"},\"line_color\":{\"value\":\"#9467bd\"},\"size\":{\"value\":5.477225575051661},\"x\":{\"field\":\"Make\"},\"y\":{\"field\":\"RecallCount\"}},\"id\":\"6417\",\"type\":\"Scatter\"},{\"attributes\":{\"children\":[{\"id\":\"6218\"},{\"id\":\"6228\"},{\"id\":\"6468\"}],\"margin\":[0,0,0,0],\"name\":\"Row06024\",\"tags\":[\"embedded\"]},\"id\":\"6217\",\"type\":\"Row\"},{\"attributes\":{},\"id\":\"6415\",\"type\":\"Selection\"},{\"attributes\":{\"fill_alpha\":{\"value\":0.2},\"fill_color\":{\"value\":\"#9467bd\"},\"hatch_alpha\":{\"value\":0.2},\"hatch_color\":{\"value\":\"#9467bd\"},\"line_alpha\":{\"value\":0.2},\"line_color\":{\"value\":\"#9467bd\"},\"size\":{\"value\":5.477225575051661},\"x\":{\"field\":\"Make\"},\"y\":{\"field\":\"RecallCount\"}},\"id\":\"6419\",\"type\":\"Scatter\"},{\"attributes\":{},\"id\":\"6264\",\"type\":\"Selection\"},{\"attributes\":{\"coordinates\":null,\"data_source\":{\"id\":\"6263\"},\"glyph\":{\"id\":\"6266\"},\"group\":null,\"hover_glyph\":null,\"muted_glyph\":{\"id\":\"6268\"},\"nonselection_glyph\":{\"id\":\"6267\"},\"selection_glyph\":{\"id\":\"6283\"},\"view\":{\"id\":\"6270\"}},\"id\":\"6269\",\"type\":\"GlyphRenderer\"},{\"attributes\":{\"fill_color\":{\"value\":\"#17becf\"},\"hatch_color\":{\"value\":\"#17becf\"},\"line_color\":{\"value\":\"#17becf\"},\"size\":{\"value\":5.477225575051661},\"x\":{\"field\":\"Make\"},\"y\":{\"field\":\"RecallCount\"}},\"id\":\"6387\",\"type\":\"Scatter\"},{\"attributes\":{\"fill_color\":{\"value\":\"#8b8b8b\"},\"hatch_color\":{\"value\":\"#8b8b8b\"},\"line_color\":{\"value\":\"#8b8b8b\"},\"size\":{\"value\":5.477225575051661},\"x\":{\"field\":\"Make\"},\"y\":{\"field\":\"RecallCount\"}},\"id\":\"6359\",\"type\":\"Scatter\"},{\"attributes\":{\"source\":{\"id\":\"6330\"}},\"id\":\"6337\",\"type\":\"CDSView\"},{\"attributes\":{\"fill_alpha\":{\"value\":0.2},\"fill_color\":{\"value\":\"#8b8b8b\"},\"hatch_alpha\":{\"value\":0.2},\"hatch_color\":{\"value\":\"#8b8b8b\"},\"line_alpha\":{\"value\":0.2},\"line_color\":{\"value\":\"#8b8b8b\"},\"size\":{\"value\":5.477225575051661},\"x\":{\"field\":\"Make\"},\"y\":{\"field\":\"RecallCount\"}},\"id\":\"6361\",\"type\":\"Scatter\"},{\"attributes\":{\"fill_color\":{\"value\":\"#30a2da\"},\"hatch_color\":{\"value\":\"#30a2da\"},\"line_color\":{\"value\":\"#30a2da\"},\"size\":{\"value\":5.477225575051661},\"x\":{\"field\":\"Make\"},\"y\":{\"field\":\"RecallCount\"}},\"id\":\"6266\",\"type\":\"Scatter\"},{\"attributes\":{\"fill_alpha\":{\"value\":0.1},\"fill_color\":{\"value\":\"#e5ae38\"},\"hatch_alpha\":{\"value\":0.1},\"hatch_color\":{\"value\":\"#e5ae38\"},\"line_alpha\":{\"value\":0.1},\"line_color\":{\"value\":\"#e5ae38\"},\"size\":{\"value\":5.477225575051661},\"x\":{\"field\":\"Make\"},\"y\":{\"field\":\"RecallCount\"}},\"id\":\"6310\",\"type\":\"Scatter\"},{\"attributes\":{\"end\":46.6,\"reset_end\":46.6,\"reset_start\":15.4,\"start\":15.4,\"tags\":[[[\"RecallCount\",\"RecallCount\",null]]]},\"id\":\"6220\",\"type\":\"Range1d\"},{\"attributes\":{\"fill_alpha\":{\"value\":0.1},\"fill_color\":{\"value\":\"#6d904f\"},\"hatch_alpha\":{\"value\":0.1},\"hatch_color\":{\"value\":\"#6d904f\"},\"line_alpha\":{\"value\":0.1},\"line_color\":{\"value\":\"#6d904f\"},\"size\":{\"value\":5.477225575051661},\"x\":{\"field\":\"Make\"},\"y\":{\"field\":\"RecallCount\"}},\"id\":\"6334\",\"type\":\"Scatter\"},{\"attributes\":{},\"id\":\"6261\",\"type\":\"BasicTickFormatter\"},{\"attributes\":{},\"id\":\"6357\",\"type\":\"Selection\"},{\"attributes\":{\"data\":{\"Make\":[\"FORD\",\"FORD\",\"FORD\"],\"RecallCount\":[18,24,27]},\"selected\":{\"id\":\"6307\"},\"selection_policy\":{\"id\":\"6325\"}},\"id\":\"6306\",\"type\":\"ColumnDataSource\"},{\"attributes\":{\"coordinates\":null,\"data_source\":{\"id\":\"6330\"},\"glyph\":{\"id\":\"6333\"},\"group\":null,\"hover_glyph\":null,\"muted_glyph\":{\"id\":\"6335\"},\"nonselection_glyph\":{\"id\":\"6334\"},\"selection_glyph\":{\"id\":\"6355\"},\"view\":{\"id\":\"6337\"}},\"id\":\"6336\",\"type\":\"GlyphRenderer\"},{\"attributes\":{},\"id\":\"6331\",\"type\":\"Selection\"},{\"attributes\":{\"data\":{\"Make\":[\"NOVA BUS\"],\"RecallCount\":[28]},\"selected\":{\"id\":\"6385\"},\"selection_policy\":{\"id\":\"6409\"}},\"id\":\"6384\",\"type\":\"ColumnDataSource\"},{\"attributes\":{\"fill_alpha\":{\"value\":0.2},\"fill_color\":{\"value\":\"#30a2da\"},\"hatch_alpha\":{\"value\":0.2},\"hatch_color\":{\"value\":\"#30a2da\"},\"line_alpha\":{\"value\":0.2},\"line_color\":{\"value\":\"#30a2da\"},\"size\":{\"value\":5.477225575051661},\"x\":{\"field\":\"Make\"},\"y\":{\"field\":\"RecallCount\"}},\"id\":\"6268\",\"type\":\"Scatter\"},{\"attributes\":{},\"id\":\"6262\",\"type\":\"AllLabels\"},{\"attributes\":{\"data\":{\"Make\":[\"CAMPAGNA MOTORS\"],\"RecallCount\":[24]},\"selected\":{\"id\":\"6285\"},\"selection_policy\":{\"id\":\"6301\"}},\"id\":\"6284\",\"type\":\"ColumnDataSource\"},{\"attributes\":{\"axis_label\":\"Make\",\"coordinates\":null,\"formatter\":{\"id\":\"6258\"},\"group\":null,\"major_label_policy\":{\"id\":\"6259\"},\"ticker\":{\"id\":\"6238\"}},\"id\":\"6237\",\"type\":\"CategoricalAxis\"},{\"attributes\":{\"source\":{\"id\":\"6414\"}},\"id\":\"6421\",\"type\":\"CDSView\"},{\"attributes\":{},\"id\":\"6233\",\"type\":\"CategoricalScale\"},{\"attributes\":{\"coordinates\":null,\"group\":null,\"text_color\":\"black\",\"text_font_size\":\"12pt\"},\"id\":\"6229\",\"type\":\"Title\"},{\"attributes\":{\"label\":{\"value\":\"PORSCHE\"},\"renderers\":[{\"id\":\"6420\"}]},\"id\":\"6444\",\"type\":\"LegendItem\"},{\"attributes\":{\"factors\":[\"BMW\",\"CAMPAGNA MOTORS\",\"FORD\",\"HYUNDAI\",\"MERCEDES-BENZ\",\"NOVA BUS\",\"PORSCHE\"],\"tags\":[[[\"Make\",\"Make\",null]]]},\"id\":\"6219\",\"type\":\"FactorRange\"},{\"attributes\":{\"data\":{\"Make\":[\"PORSCHE\",\"PORSCHE\",\"PORSCHE\",\"PORSCHE\"],\"RecallCount\":[18,26,26,32]},\"selected\":{\"id\":\"6415\"},\"selection_policy\":{\"id\":\"6441\"}},\"id\":\"6414\",\"type\":\"ColumnDataSource\"},{\"attributes\":{},\"id\":\"6441\",\"type\":\"UnionRenderers\"},{\"attributes\":{},\"id\":\"6235\",\"type\":\"LinearScale\"},{\"attributes\":{\"source\":{\"id\":\"6356\"}},\"id\":\"6363\",\"type\":\"CDSView\"},{\"attributes\":{\"source\":{\"id\":\"6384\"}},\"id\":\"6391\",\"type\":\"CDSView\"},{\"attributes\":{\"angle\":{\"value\":0.0},\"fill_alpha\":{\"value\":1.0},\"fill_color\":{\"value\":\"#9467bd\"},\"hatch_alpha\":{\"value\":1.0},\"hatch_color\":{\"value\":\"#9467bd\"},\"hatch_scale\":{\"value\":12.0},\"hatch_weight\":{\"value\":1.0},\"line_alpha\":{\"value\":1.0},\"line_cap\":{\"value\":\"butt\"},\"line_color\":{\"value\":\"#9467bd\"},\"line_dash\":{\"value\":[]},\"line_dash_offset\":{\"value\":0},\"line_join\":{\"value\":\"bevel\"},\"line_width\":{\"value\":1},\"marker\":{\"value\":\"circle\"},\"size\":{\"value\":5.477225575051661},\"x\":{\"field\":\"Make\"},\"y\":{\"field\":\"RecallCount\"}},\"id\":\"6445\",\"type\":\"Scatter\"},{\"attributes\":{},\"id\":\"6241\",\"type\":\"BasicTicker\"},{\"attributes\":{},\"id\":\"6379\",\"type\":\"UnionRenderers\"},{\"attributes\":{},\"id\":\"6238\",\"type\":\"CategoricalTicker\"},{\"attributes\":{\"label\":{\"value\":\"BMW\"},\"renderers\":[{\"id\":\"6269\"}]},\"id\":\"6282\",\"type\":\"LegendItem\"},{\"attributes\":{\"axis_label\":\"RecallCount\",\"coordinates\":null,\"formatter\":{\"id\":\"6261\"},\"group\":null,\"major_label_policy\":{\"id\":\"6262\"},\"ticker\":{\"id\":\"6241\"}},\"id\":\"6240\",\"type\":\"LinearAxis\"},{\"attributes\":{\"data\":{\"Make\":[\"HYUNDAI\",\"HYUNDAI\",\"HYUNDAI\",\"HYUNDAI\"],\"RecallCount\":[18,21,31,36]},\"selected\":{\"id\":\"6331\"},\"selection_policy\":{\"id\":\"6351\"}},\"id\":\"6330\",\"type\":\"ColumnDataSource\"},{\"attributes\":{\"label\":{\"value\":\"MERCEDES-BENZ\"},\"renderers\":[{\"id\":\"6362\"}]},\"id\":\"6382\",\"type\":\"LegendItem\"},{\"attributes\":{},\"id\":\"6409\",\"type\":\"UnionRenderers\"},{\"attributes\":{\"callback\":null,\"renderers\":[{\"id\":\"6269\"},{\"id\":\"6290\"},{\"id\":\"6312\"},{\"id\":\"6336\"},{\"id\":\"6362\"},{\"id\":\"6390\"},{\"id\":\"6420\"}],\"tags\":[\"hv_created\"],\"tooltips\":[[\"Make\",\"@{Make}\"],[\"RecallCount\",\"@{RecallCount}\"]]},\"id\":\"6221\",\"type\":\"HoverTool\"},{\"attributes\":{\"axis\":{\"id\":\"6240\"},\"coordinates\":null,\"dimension\":1,\"grid_line_color\":null,\"group\":null,\"ticker\":null},\"id\":\"6243\",\"type\":\"Grid\"},{\"attributes\":{\"label\":{\"value\":\"NOVA BUS\"},\"renderers\":[{\"id\":\"6390\"}]},\"id\":\"6412\",\"type\":\"LegendItem\"},{\"attributes\":{\"label\":{\"value\":\"HYUNDAI\"},\"renderers\":[{\"id\":\"6336\"}]},\"id\":\"6354\",\"type\":\"LegendItem\"},{\"attributes\":{\"margin\":[5,5,5,5],\"name\":\"HSpacer06028\",\"sizing_mode\":\"stretch_width\"},\"id\":\"6218\",\"type\":\"Spacer\"},{\"attributes\":{\"angle\":{\"value\":0.0},\"fill_alpha\":{\"value\":1.0},\"fill_color\":{\"value\":\"#6d904f\"},\"hatch_alpha\":{\"value\":1.0},\"hatch_color\":{\"value\":\"#6d904f\"},\"hatch_scale\":{\"value\":12.0},\"hatch_weight\":{\"value\":1.0},\"line_alpha\":{\"value\":1.0},\"line_cap\":{\"value\":\"butt\"},\"line_color\":{\"value\":\"#6d904f\"},\"line_dash\":{\"value\":[]},\"line_dash_offset\":{\"value\":0},\"line_join\":{\"value\":\"bevel\"},\"line_width\":{\"value\":1},\"marker\":{\"value\":\"circle\"},\"size\":{\"value\":5.477225575051661},\"x\":{\"field\":\"Make\"},\"y\":{\"field\":\"RecallCount\"}},\"id\":\"6355\",\"type\":\"Scatter\"},{\"attributes\":{\"above\":[{\"id\":\"6281\"}],\"below\":[{\"id\":\"6237\"}],\"center\":[{\"id\":\"6239\"},{\"id\":\"6243\"}],\"height\":768,\"left\":[{\"id\":\"6240\"}],\"margin\":[5,5,5,5],\"min_border_bottom\":10,\"min_border_left\":10,\"min_border_right\":10,\"min_border_top\":10,\"renderers\":[{\"id\":\"6269\"},{\"id\":\"6290\"},{\"id\":\"6312\"},{\"id\":\"6336\"},{\"id\":\"6362\"},{\"id\":\"6390\"},{\"id\":\"6420\"}],\"sizing_mode\":\"fixed\",\"title\":{\"id\":\"6229\"},\"toolbar\":{\"id\":\"6250\"},\"width\":1536,\"x_range\":{\"id\":\"6219\"},\"x_scale\":{\"id\":\"6233\"},\"y_range\":{\"id\":\"6220\"},\"y_scale\":{\"id\":\"6235\"}},\"id\":\"6228\",\"subtype\":\"Figure\",\"type\":\"Plot\"},{\"attributes\":{\"angle\":{\"value\":0.0},\"fill_alpha\":{\"value\":1.0},\"fill_color\":{\"value\":\"#8b8b8b\"},\"hatch_alpha\":{\"value\":1.0},\"hatch_color\":{\"value\":\"#8b8b8b\"},\"hatch_scale\":{\"value\":12.0},\"hatch_weight\":{\"value\":1.0},\"line_alpha\":{\"value\":1.0},\"line_cap\":{\"value\":\"butt\"},\"line_color\":{\"value\":\"#8b8b8b\"},\"line_dash\":{\"value\":[]},\"line_dash_offset\":{\"value\":0},\"line_join\":{\"value\":\"bevel\"},\"line_width\":{\"value\":1},\"marker\":{\"value\":\"circle\"},\"size\":{\"value\":5.477225575051661},\"x\":{\"field\":\"Make\"},\"y\":{\"field\":\"RecallCount\"}},\"id\":\"6383\",\"type\":\"Scatter\"},{\"attributes\":{\"fill_alpha\":{\"value\":0.1},\"fill_color\":{\"value\":\"#fc4f30\"},\"hatch_alpha\":{\"value\":0.1},\"hatch_color\":{\"value\":\"#fc4f30\"},\"line_alpha\":{\"value\":0.1},\"line_color\":{\"value\":\"#fc4f30\"},\"size\":{\"value\":5.477225575051661},\"x\":{\"field\":\"Make\"},\"y\":{\"field\":\"RecallCount\"}},\"id\":\"6288\",\"type\":\"Scatter\"},{\"attributes\":{\"label\":{\"value\":\"FORD\"},\"renderers\":[{\"id\":\"6312\"}]},\"id\":\"6328\",\"type\":\"LegendItem\"}],\"root_ids\":[\"6217\"]},\"title\":\"Bokeh Application\",\"version\":\"2.4.3\"}};\n",
       "    var render_items = [{\"docid\":\"ff5c0d30-9436-4dd1-a337-066ba06c03ad\",\"root_ids\":[\"6217\"],\"roots\":{\"6217\":\"39a02e50-19b3-41ac-8b65-764efb5840d6\"}}];\n",
       "    root.Bokeh.embed.embed_items_notebook(docs_json, render_items);\n",
       "    for (const render_item of render_items) {\n",
       "      for (const root_id of render_item.root_ids) {\n",
       "\tconst id_el = document.getElementById(root_id)\n",
       "\tif (id_el.children.length && (id_el.children[0].className === 'bk-root')) {\n",
       "\t  const root_el = id_el.children[0]\n",
       "\t  root_el.id = root_el.id + '-rendered'\n",
       "\t}\n",
       "      }\n",
       "    }\n",
       "  }\n",
       "  if (root.Bokeh !== undefined && root.Bokeh.Panel !== undefined) {\n",
       "    embed_document(root);\n",
       "  } else {\n",
       "    var attempts = 0;\n",
       "    var timer = setInterval(function(root) {\n",
       "      if (root.Bokeh !== undefined && root.Bokeh.Panel !== undefined) {\n",
       "        clearInterval(timer);\n",
       "        embed_document(root);\n",
       "      } else if (document.readyState == \"complete\") {\n",
       "        attempts++;\n",
       "        if (attempts > 200) {\n",
       "          clearInterval(timer);\n",
       "          console.log(\"Bokeh: ERROR: Unable to run BokehJS code because BokehJS library is missing\");\n",
       "        }\n",
       "      }\n",
       "    }, 25, root)\n",
       "  }\n",
       "})(window);</script>"
      ],
      "text/plain": [
       ":NdOverlay   [Make]\n",
       "   :Scatter   [Make]   (RecallCount)"
      ]
     },
     "execution_count": 70,
     "metadata": {
      "application/vnd.holoviews_exec.v0+json": {
       "id": "6217"
      }
     },
     "output_type": "execute_result"
    }
   ],
   "source": [
    "def scatter_chart():\n",
    "    vehicle_df = get_df()\n",
    "    return vehicle_df.hvplot.scatter(x=col_make, y=col_recall_number, by=col_make, \n",
    "                  legend='top', width=1024+512, height=512+256,)\n",
    "\n",
    "scatter_chart()"
   ]
  }
 ],
 "metadata": {
  "kernelspec": {
   "display_name": "Python 3.7.15 ('dev')",
   "language": "python",
   "name": "python3"
  },
  "language_info": {
   "codemirror_mode": {
    "name": "ipython",
    "version": 3
   },
   "file_extension": ".py",
   "mimetype": "text/x-python",
   "name": "python",
   "nbconvert_exporter": "python",
   "pygments_lexer": "ipython3",
   "version": "3.7.15"
  },
  "orig_nbformat": 4,
  "vscode": {
   "interpreter": {
    "hash": "30b884da31d8c13a610cda2d27fe25286c638aaabfac5f03b43d7871615fddd8"
   }
  }
 },
 "nbformat": 4,
 "nbformat_minor": 2
}
