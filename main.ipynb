{
 "cells": [
  {
   "cell_type": "code",
   "execution_count": 30,
   "metadata": {},
   "outputs": [
    {
     "name": "stdout",
     "output_type": "stream",
     "text": [
      "       MAKE_NAME_NM    MODEL_NAME_NM  RECALL_NUMBER_NUM\n",
      "0              FORD            C-MAX                 18\n",
      "1           HYUNDAI         VELOSTER                 18\n",
      "2           PORSCHE           CAYMAN                 18\n",
      "3           HYUNDAI         SANTA FE                 21\n",
      "4     MERCEDES-BENZ        CLK CLASS                 22\n",
      "5     MERCEDES-BENZ          C CLASS                 22\n",
      "6     MERCEDES-BENZ          E CLASS                 22\n",
      "7     MERCEDES-BENZ        CLS CLASS                 22\n",
      "8              FORD           ESCAPE                 24\n",
      "9   CAMPAGNA MOTORS        T-REX 16S                 24\n",
      "10          PORSCHE         PANAMERA                 26\n",
      "11          PORSCHE          BOXSTER                 26\n",
      "12             FORD  TRANSIT CONNECT                 27\n",
      "13         NOVA BUS              LFS                 28\n",
      "14              BMW               X5                 30\n",
      "15          HYUNDAI           SONATA                 31\n",
      "16          PORSCHE          CAYENNE                 32\n",
      "17          HYUNDAI           TUCSON                 36\n",
      "18              BMW         3 SERIES                 44\n"
     ]
    },
    {
     "data": {},
     "metadata": {},
     "output_type": "display_data"
    },
    {
     "data": {
      "application/vnd.holoviews_exec.v0+json": "",
      "text/html": [
       "<div id='1758'>\n",
       "  <div class=\"bk-root\" id=\"33623bb1-fc3b-4b04-950c-3eb4b727e6b1\" data-root-id=\"1758\"></div>\n",
       "</div>\n",
       "<script type=\"application/javascript\">(function(root) {\n",
       "  function embed_document(root) {\n",
       "    var docs_json = {\"a8d452e3-b878-45c6-848f-04dd74722902\":{\"defs\":[{\"extends\":null,\"module\":null,\"name\":\"ReactiveHTML1\",\"overrides\":[],\"properties\":[]},{\"extends\":null,\"module\":null,\"name\":\"FlexBox1\",\"overrides\":[],\"properties\":[{\"default\":\"flex-start\",\"kind\":null,\"name\":\"align_content\"},{\"default\":\"flex-start\",\"kind\":null,\"name\":\"align_items\"},{\"default\":\"row\",\"kind\":null,\"name\":\"flex_direction\"},{\"default\":\"wrap\",\"kind\":null,\"name\":\"flex_wrap\"},{\"default\":\"flex-start\",\"kind\":null,\"name\":\"justify_content\"}]},{\"extends\":null,\"module\":null,\"name\":\"GridStack1\",\"overrides\":[],\"properties\":[{\"default\":\"warn\",\"kind\":null,\"name\":\"mode\"},{\"default\":null,\"kind\":null,\"name\":\"ncols\"},{\"default\":null,\"kind\":null,\"name\":\"nrows\"},{\"default\":true,\"kind\":null,\"name\":\"allow_resize\"},{\"default\":true,\"kind\":null,\"name\":\"allow_drag\"},{\"default\":[],\"kind\":null,\"name\":\"state\"}]},{\"extends\":null,\"module\":null,\"name\":\"click1\",\"overrides\":[],\"properties\":[{\"default\":\"\",\"kind\":null,\"name\":\"terminal_output\"},{\"default\":\"\",\"kind\":null,\"name\":\"debug_name\"},{\"default\":0,\"kind\":null,\"name\":\"clears\"}]},{\"extends\":null,\"module\":null,\"name\":\"NotificationAreaBase1\",\"overrides\":[],\"properties\":[{\"default\":\"bottom-right\",\"kind\":null,\"name\":\"position\"},{\"default\":0,\"kind\":null,\"name\":\"_clear\"}]},{\"extends\":null,\"module\":null,\"name\":\"NotificationArea1\",\"overrides\":[],\"properties\":[{\"default\":[],\"kind\":null,\"name\":\"notifications\"},{\"default\":\"bottom-right\",\"kind\":null,\"name\":\"position\"},{\"default\":0,\"kind\":null,\"name\":\"_clear\"},{\"default\":[{\"background\":\"#ffc107\",\"icon\":{\"className\":\"fas fa-exclamation-triangle\",\"color\":\"white\",\"tagName\":\"i\"},\"type\":\"warning\"},{\"background\":\"#007bff\",\"icon\":{\"className\":\"fas fa-info-circle\",\"color\":\"white\",\"tagName\":\"i\"},\"type\":\"info\"}],\"kind\":null,\"name\":\"types\"}]},{\"extends\":null,\"module\":null,\"name\":\"Notification\",\"overrides\":[],\"properties\":[{\"default\":null,\"kind\":null,\"name\":\"background\"},{\"default\":3000,\"kind\":null,\"name\":\"duration\"},{\"default\":null,\"kind\":null,\"name\":\"icon\"},{\"default\":\"\",\"kind\":null,\"name\":\"message\"},{\"default\":null,\"kind\":null,\"name\":\"notification_type\"},{\"default\":false,\"kind\":null,\"name\":\"_destroyed\"}]},{\"extends\":null,\"module\":null,\"name\":\"TemplateActions1\",\"overrides\":[],\"properties\":[{\"default\":0,\"kind\":null,\"name\":\"open_modal\"},{\"default\":0,\"kind\":null,\"name\":\"close_modal\"}]},{\"extends\":null,\"module\":null,\"name\":\"MaterialTemplateActions1\",\"overrides\":[],\"properties\":[{\"default\":0,\"kind\":null,\"name\":\"open_modal\"},{\"default\":0,\"kind\":null,\"name\":\"close_modal\"}]}],\"roots\":{\"references\":[{\"attributes\":{},\"id\":\"1773\",\"type\":\"CategoricalTicker\"},{\"attributes\":{\"tools\":[{\"id\":\"1762\"},{\"id\":\"1779\"},{\"id\":\"1780\"},{\"id\":\"1781\"},{\"id\":\"1782\"},{\"id\":\"1783\"}]},\"id\":\"1785\",\"type\":\"Toolbar\"},{\"attributes\":{\"axis_label\":\"Housing Units\",\"axis_label_text_font_size\":\"25px\",\"coordinates\":null,\"formatter\":{\"id\":\"1801\"},\"group\":null,\"major_label_policy\":{\"id\":\"1807\"},\"major_label_text_font_size\":\"20pt\",\"ticker\":{\"id\":\"1776\"}},\"id\":\"1775\",\"type\":\"LinearAxis\"},{\"attributes\":{\"end\":50,\"reset_end\":50,\"reset_start\":0,\"tags\":[[[\"RECALL_NUMBER_NUM\",\"RECALL_NUMBER_NUM\",null]]]},\"id\":\"1761\",\"type\":\"Range1d\"},{\"attributes\":{},\"id\":\"1816\",\"type\":\"UnionRenderers\"},{\"attributes\":{\"axis\":{\"id\":\"1775\"},\"coordinates\":null,\"dimension\":1,\"grid_line_color\":null,\"group\":null,\"ticker\":null},\"id\":\"1778\",\"type\":\"Grid\"},{\"attributes\":{\"fill_alpha\":{\"value\":0.2},\"fill_color\":{\"value\":\"#0000FF\"},\"hatch_alpha\":{\"value\":0.2},\"hatch_color\":{\"value\":\"#0000FF\"},\"line_alpha\":{\"value\":0.2},\"top\":{\"field\":\"RECALL_NUMBER_NUM\"},\"width\":{\"value\":0.8},\"x\":{\"field\":\"MAKE_NAME_NM\"}},\"id\":\"1797\",\"type\":\"VBar\"},{\"attributes\":{},\"id\":\"1807\",\"type\":\"AllLabels\"},{\"attributes\":{\"children\":[{\"id\":\"1759\"},{\"id\":\"1763\"},{\"id\":\"1819\"}],\"margin\":[0,0,0,0],\"name\":\"Row01705\",\"tags\":[\"embedded\"]},\"id\":\"1758\",\"type\":\"Row\"},{\"attributes\":{\"bottom\":{\"value\":0},\"fill_alpha\":{\"value\":1.0},\"fill_color\":{\"value\":\"#0000FF\"},\"hatch_alpha\":{\"value\":1.0},\"hatch_color\":{\"value\":\"#0000FF\"},\"hatch_scale\":{\"value\":12.0},\"hatch_weight\":{\"value\":1.0},\"line_alpha\":{\"value\":1.0},\"line_cap\":{\"value\":\"butt\"},\"line_color\":{\"value\":\"black\"},\"line_dash\":{\"value\":[]},\"line_dash_offset\":{\"value\":0},\"line_join\":{\"value\":\"bevel\"},\"line_width\":{\"value\":1},\"top\":{\"field\":\"RECALL_NUMBER_NUM\"},\"width\":{\"value\":0.8},\"x\":{\"field\":\"MAKE_NAME_NM\"}},\"id\":\"1800\",\"type\":\"VBar\"},{\"attributes\":{\"format\":\"%.0f\"},\"id\":\"1801\",\"type\":\"PrintfTickFormatter\"},{\"attributes\":{\"fill_color\":{\"value\":\"#0000FF\"},\"hatch_color\":{\"value\":\"#0000FF\"},\"top\":{\"field\":\"RECALL_NUMBER_NUM\"},\"width\":{\"value\":0.8},\"x\":{\"field\":\"MAKE_NAME_NM\"}},\"id\":\"1795\",\"type\":\"VBar\"},{\"attributes\":{\"callback\":null,\"renderers\":[{\"id\":\"1798\"}],\"tags\":[\"hv_created\"],\"tooltips\":[[\"MAKE_NAME_NM\",\"@{MAKE_NAME_NM}\"],[\"RECALL_NUMBER_NUM\",\"@{RECALL_NUMBER_NUM}\"]]},\"id\":\"1762\",\"type\":\"HoverTool\"},{\"attributes\":{},\"id\":\"1793\",\"type\":\"Selection\"},{\"attributes\":{\"below\":[{\"id\":\"1772\"}],\"center\":[{\"id\":\"1774\"},{\"id\":\"1778\"}],\"height\":768,\"left\":[{\"id\":\"1775\"}],\"margin\":[5,5,5,5],\"min_border_bottom\":10,\"min_border_left\":10,\"min_border_right\":10,\"min_border_top\":10,\"renderers\":[{\"id\":\"1798\"}],\"sizing_mode\":\"fixed\",\"title\":{\"id\":\"1764\"},\"toolbar\":{\"id\":\"1785\"},\"width\":2048,\"x_range\":{\"id\":\"1760\"},\"x_scale\":{\"id\":\"1768\"},\"y_range\":{\"id\":\"1761\"},\"y_scale\":{\"id\":\"1770\"}},\"id\":\"1763\",\"subtype\":\"Figure\",\"type\":\"Plot\"},{\"attributes\":{\"source\":{\"id\":\"1792\"}},\"id\":\"1799\",\"type\":\"CDSView\"},{\"attributes\":{\"coordinates\":null,\"data_source\":{\"id\":\"1792\"},\"glyph\":{\"id\":\"1795\"},\"group\":null,\"hover_glyph\":null,\"muted_glyph\":{\"id\":\"1797\"},\"nonselection_glyph\":{\"id\":\"1796\"},\"selection_glyph\":{\"id\":\"1800\"},\"view\":{\"id\":\"1799\"}},\"id\":\"1798\",\"type\":\"GlyphRenderer\"},{\"attributes\":{\"bottom_units\":\"screen\",\"coordinates\":null,\"fill_alpha\":0.5,\"fill_color\":\"lightgrey\",\"group\":null,\"left_units\":\"screen\",\"level\":\"overlay\",\"line_alpha\":1.0,\"line_color\":\"black\",\"line_dash\":[4,4],\"line_width\":2,\"right_units\":\"screen\",\"syncable\":false,\"top_units\":\"screen\"},\"id\":\"1784\",\"type\":\"BoxAnnotation\"},{\"attributes\":{\"factors\":[\"FORD\",\"HYUNDAI\",\"PORSCHE\",\"MERCEDES-BENZ\",\"CAMPAGNA MOTORS\",\"NOVA BUS\",\"BMW\"],\"tags\":[[[\"MAKE_NAME_NM\",\"MAKE_NAME_NM\",null]]]},\"id\":\"1760\",\"type\":\"FactorRange\"},{\"attributes\":{},\"id\":\"1779\",\"type\":\"SaveTool\"},{\"attributes\":{},\"id\":\"1780\",\"type\":\"PanTool\"},{\"attributes\":{},\"id\":\"1803\",\"type\":\"CategoricalTickFormatter\"},{\"attributes\":{},\"id\":\"1783\",\"type\":\"ResetTool\"},{\"attributes\":{\"margin\":[5,5,5,5],\"name\":\"HSpacer01710\",\"sizing_mode\":\"stretch_width\"},\"id\":\"1819\",\"type\":\"Spacer\"},{\"attributes\":{},\"id\":\"1781\",\"type\":\"WheelZoomTool\"},{\"attributes\":{\"axis\":{\"id\":\"1772\"},\"coordinates\":null,\"grid_line_color\":null,\"group\":null,\"ticker\":null},\"id\":\"1774\",\"type\":\"Grid\"},{\"attributes\":{\"margin\":[5,5,5,5],\"name\":\"HSpacer01709\",\"sizing_mode\":\"stretch_width\"},\"id\":\"1759\",\"type\":\"Spacer\"},{\"attributes\":{\"fill_alpha\":{\"value\":0.1},\"fill_color\":{\"value\":\"#0000FF\"},\"hatch_alpha\":{\"value\":0.1},\"hatch_color\":{\"value\":\"#0000FF\"},\"line_alpha\":{\"value\":0.1},\"top\":{\"field\":\"RECALL_NUMBER_NUM\"},\"width\":{\"value\":0.8},\"x\":{\"field\":\"MAKE_NAME_NM\"}},\"id\":\"1796\",\"type\":\"VBar\"},{\"attributes\":{\"overlay\":{\"id\":\"1784\"}},\"id\":\"1782\",\"type\":\"BoxZoomTool\"},{\"attributes\":{},\"id\":\"1804\",\"type\":\"AllLabels\"},{\"attributes\":{\"axis_label\":\"Year\",\"axis_label_text_font_size\":\"25px\",\"coordinates\":null,\"formatter\":{\"id\":\"1803\"},\"group\":null,\"group_text_font_size\":\"20pt\",\"major_label_policy\":{\"id\":\"1804\"},\"major_label_text_font_size\":\"20pt\",\"ticker\":{\"id\":\"1773\"}},\"id\":\"1772\",\"type\":\"CategoricalAxis\"},{\"attributes\":{},\"id\":\"1768\",\"type\":\"CategoricalScale\"},{\"attributes\":{\"coordinates\":null,\"group\":null,\"text\":\"Housing Units in San Francisco from 2010 to 2016\",\"text_color\":\"black\",\"text_font_size\":\"35pt\"},\"id\":\"1764\",\"type\":\"Title\"},{\"attributes\":{\"data\":{\"MAKE_NAME_NM\":[\"FORD\",\"HYUNDAI\",\"PORSCHE\",\"HYUNDAI\",\"MERCEDES-BENZ\",\"MERCEDES-BENZ\",\"MERCEDES-BENZ\",\"MERCEDES-BENZ\",\"FORD\",\"CAMPAGNA MOTORS\",\"PORSCHE\",\"PORSCHE\",\"FORD\",\"NOVA BUS\",\"BMW\",\"HYUNDAI\",\"PORSCHE\",\"HYUNDAI\",\"BMW\"],\"RECALL_NUMBER_NUM\":[18,18,18,21,22,22,22,22,24,24,26,26,27,28,30,31,32,36,44]},\"selected\":{\"id\":\"1793\"},\"selection_policy\":{\"id\":\"1816\"}},\"id\":\"1792\",\"type\":\"ColumnDataSource\"},{\"attributes\":{},\"id\":\"1770\",\"type\":\"LinearScale\"},{\"attributes\":{},\"id\":\"1776\",\"type\":\"BasicTicker\"}],\"root_ids\":[\"1758\"]},\"title\":\"Bokeh Application\",\"version\":\"2.4.3\"}};\n",
       "    var render_items = [{\"docid\":\"a8d452e3-b878-45c6-848f-04dd74722902\",\"root_ids\":[\"1758\"],\"roots\":{\"1758\":\"33623bb1-fc3b-4b04-950c-3eb4b727e6b1\"}}];\n",
       "    root.Bokeh.embed.embed_items_notebook(docs_json, render_items);\n",
       "    for (const render_item of render_items) {\n",
       "      for (const root_id of render_item.root_ids) {\n",
       "\tconst id_el = document.getElementById(root_id)\n",
       "\tif (id_el.children.length && (id_el.children[0].className === 'bk-root')) {\n",
       "\t  const root_el = id_el.children[0]\n",
       "\t  root_el.id = root_el.id + '-rendered'\n",
       "\t}\n",
       "      }\n",
       "    }\n",
       "  }\n",
       "  if (root.Bokeh !== undefined && root.Bokeh.Panel !== undefined) {\n",
       "    embed_document(root);\n",
       "  } else {\n",
       "    var attempts = 0;\n",
       "    var timer = setInterval(function(root) {\n",
       "      if (root.Bokeh !== undefined && root.Bokeh.Panel !== undefined) {\n",
       "        clearInterval(timer);\n",
       "        embed_document(root);\n",
       "      } else if (document.readyState == \"complete\") {\n",
       "        attempts++;\n",
       "        if (attempts > 200) {\n",
       "          clearInterval(timer);\n",
       "          console.log(\"Bokeh: ERROR: Unable to run BokehJS code because BokehJS library is missing\");\n",
       "        }\n",
       "      }\n",
       "    }, 25, root)\n",
       "  }\n",
       "})(window);</script>"
      ],
      "text/plain": [
       ":Bars   [MAKE_NAME_NM]   (RECALL_NUMBER_NUM)"
      ]
     },
     "execution_count": 30,
     "metadata": {
      "application/vnd.holoviews_exec.v0+json": {
       "id": "1758"
      }
     },
     "output_type": "execute_result"
    }
   ],
   "source": [
    "import q1 \n",
    "import pandas as pd\n",
    "import numpy as np\n",
    "from pathlib import Path\n",
    "import hvplot.pandas\n",
    "\n",
    "#import make_model_count as mm\n",
    "\n",
    "#const variables \n",
    "col_recall_number = \"RECALL_NUMBER_NUM\"\n",
    "col_make = \"MAKE_NAME_NM\"\n",
    "col_model = \"MODEL_NAME_NM\"\n",
    "\n",
    "def get_df():\n",
    "    vehicle_df = pd.read_csv(\"./resources/vrdb_60days_daily.csv\")\n",
    "    vehicle_df.head()\n",
    "    vehicle_df = vehicle_df[[\"RECALL_NUMBER_NUM\", \"MAKE_NAME_NM\",\"MODEL_NAME_NM\"]]\n",
    "    vehicle_df = vehicle_df.groupby([\"MAKE_NAME_NM\",\"MODEL_NAME_NM\"]).count()\n",
    "    vehicle_df = vehicle_df.sort_values(by=\"RECALL_NUMBER_NUM\")\n",
    "    vehicle_df = vehicle_df[vehicle_df.RECALL_NUMBER_NUM >= 17]\n",
    "\n",
    "    #vehicle_df.hvplot.bar(kind=\"bar\", figsize=(20, 4)).xticks(rotation = 45)\n",
    "\n",
    "    return vehicle_df\n",
    "\n",
    "\n",
    "\n",
    "def bar():\n",
    "    vehicle_df = get_df()\n",
    "    vehicle_df.reset_index(inplace=True)\n",
    "\n",
    "    print(vehicle_df)\n",
    "\n",
    "    # return vehicle_df.head()\n",
    "\n",
    "    return vehicle_df.hvplot.bar(\n",
    "    y=col_recall_number,\n",
    "    x=col_make,\n",
    "    width=2*1024, height=512+256,\n",
    "    xlabel=\"Year\", ylabel=\"Housing Units\",\n",
    "    title=\"Housing Units in San Francisco from 2010 to 2016\",\n",
    "    fontsize={'title': '35pt', 'ylabel': '25px',\n",
    "              'xlabel': '25px', 'ticks': 20},\n",
    "    ylim=(\n",
    "        0,\n",
    "        50\n",
    "    ),\n",
    "    color=[\"#0000FF\"],\n",
    "    padding=0.4,\n",
    "    yformatter=\"%.0f\",\n",
    "    )\n",
    "\n",
    "\n",
    "bar()"
   ]
  },
  {
   "cell_type": "code",
   "execution_count": 37,
   "metadata": {},
   "outputs": [
    {
     "data": {},
     "metadata": {},
     "output_type": "display_data"
    },
    {
     "data": {
      "application/vnd.holoviews_exec.v0+json": "",
      "text/html": [
       "<div id='2322'>\n",
       "  <div class=\"bk-root\" id=\"205365d8-a971-42f8-bd93-0dd509707f20\" data-root-id=\"2322\"></div>\n",
       "</div>\n",
       "<script type=\"application/javascript\">(function(root) {\n",
       "  function embed_document(root) {\n",
       "    var docs_json = {\"80dd4803-d75f-4aa4-9a5e-387fc7021132\":{\"defs\":[{\"extends\":null,\"module\":null,\"name\":\"ReactiveHTML1\",\"overrides\":[],\"properties\":[]},{\"extends\":null,\"module\":null,\"name\":\"FlexBox1\",\"overrides\":[],\"properties\":[{\"default\":\"flex-start\",\"kind\":null,\"name\":\"align_content\"},{\"default\":\"flex-start\",\"kind\":null,\"name\":\"align_items\"},{\"default\":\"row\",\"kind\":null,\"name\":\"flex_direction\"},{\"default\":\"wrap\",\"kind\":null,\"name\":\"flex_wrap\"},{\"default\":\"flex-start\",\"kind\":null,\"name\":\"justify_content\"}]},{\"extends\":null,\"module\":null,\"name\":\"GridStack1\",\"overrides\":[],\"properties\":[{\"default\":\"warn\",\"kind\":null,\"name\":\"mode\"},{\"default\":null,\"kind\":null,\"name\":\"ncols\"},{\"default\":null,\"kind\":null,\"name\":\"nrows\"},{\"default\":true,\"kind\":null,\"name\":\"allow_resize\"},{\"default\":true,\"kind\":null,\"name\":\"allow_drag\"},{\"default\":[],\"kind\":null,\"name\":\"state\"}]},{\"extends\":null,\"module\":null,\"name\":\"click1\",\"overrides\":[],\"properties\":[{\"default\":\"\",\"kind\":null,\"name\":\"terminal_output\"},{\"default\":\"\",\"kind\":null,\"name\":\"debug_name\"},{\"default\":0,\"kind\":null,\"name\":\"clears\"}]},{\"extends\":null,\"module\":null,\"name\":\"NotificationAreaBase1\",\"overrides\":[],\"properties\":[{\"default\":\"bottom-right\",\"kind\":null,\"name\":\"position\"},{\"default\":0,\"kind\":null,\"name\":\"_clear\"}]},{\"extends\":null,\"module\":null,\"name\":\"NotificationArea1\",\"overrides\":[],\"properties\":[{\"default\":[],\"kind\":null,\"name\":\"notifications\"},{\"default\":\"bottom-right\",\"kind\":null,\"name\":\"position\"},{\"default\":0,\"kind\":null,\"name\":\"_clear\"},{\"default\":[{\"background\":\"#ffc107\",\"icon\":{\"className\":\"fas fa-exclamation-triangle\",\"color\":\"white\",\"tagName\":\"i\"},\"type\":\"warning\"},{\"background\":\"#007bff\",\"icon\":{\"className\":\"fas fa-info-circle\",\"color\":\"white\",\"tagName\":\"i\"},\"type\":\"info\"}],\"kind\":null,\"name\":\"types\"}]},{\"extends\":null,\"module\":null,\"name\":\"Notification\",\"overrides\":[],\"properties\":[{\"default\":null,\"kind\":null,\"name\":\"background\"},{\"default\":3000,\"kind\":null,\"name\":\"duration\"},{\"default\":null,\"kind\":null,\"name\":\"icon\"},{\"default\":\"\",\"kind\":null,\"name\":\"message\"},{\"default\":null,\"kind\":null,\"name\":\"notification_type\"},{\"default\":false,\"kind\":null,\"name\":\"_destroyed\"}]},{\"extends\":null,\"module\":null,\"name\":\"TemplateActions1\",\"overrides\":[],\"properties\":[{\"default\":0,\"kind\":null,\"name\":\"open_modal\"},{\"default\":0,\"kind\":null,\"name\":\"close_modal\"}]},{\"extends\":null,\"module\":null,\"name\":\"MaterialTemplateActions1\",\"overrides\":[],\"properties\":[{\"default\":0,\"kind\":null,\"name\":\"open_modal\"},{\"default\":0,\"kind\":null,\"name\":\"close_modal\"}]}],\"roots\":{\"references\":[{\"attributes\":{\"data\":{\"MODEL_NAME_NM\":[\"C-MAX\",\"ESCAPE\",\"TRANSIT CONNECT\"],\"RECALL_NUMBER_NUM\":[18,24,27]},\"selected\":{\"id\":\"2357\"},\"selection_policy\":{\"id\":\"2384\"}},\"id\":\"2356\",\"type\":\"ColumnDataSource\"},{\"attributes\":{},\"id\":\"2343\",\"type\":\"SaveTool\"},{\"attributes\":{},\"id\":\"2347\",\"type\":\"ResetTool\"},{\"attributes\":{\"margin\":[20,20,20,20],\"min_width\":250,\"options\":[\"FORD\",\"HYUNDAI\",\"PORSCHE\",\"MERCEDES-BENZ\",\"CAMPAGNA MOTORS\",\"NOVA BUS\",\"BMW\"],\"title\":\"MAKE_NAME_NM\",\"value\":\"FORD\",\"width\":250},\"id\":\"2391\",\"type\":\"panel.models.widgets.CustomSelect\"},{\"attributes\":{\"bottom_units\":\"screen\",\"coordinates\":null,\"fill_alpha\":0.5,\"fill_color\":\"lightgrey\",\"group\":null,\"left_units\":\"screen\",\"level\":\"overlay\",\"line_alpha\":1.0,\"line_color\":\"black\",\"line_dash\":[4,4],\"line_width\":2,\"right_units\":\"screen\",\"syncable\":false,\"top_units\":\"screen\"},\"id\":\"2348\",\"type\":\"BoxAnnotation\"},{\"attributes\":{\"line_alpha\":0.2,\"line_color\":\"#30a2da\",\"line_width\":2,\"x\":{\"field\":\"MODEL_NAME_NM\"},\"y\":{\"field\":\"RECALL_NUMBER_NUM\"}},\"id\":\"2361\",\"type\":\"Line\"},{\"attributes\":{\"overlay\":{\"id\":\"2348\"}},\"id\":\"2346\",\"type\":\"BoxZoomTool\"},{\"attributes\":{\"coordinates\":null,\"data_source\":{\"id\":\"2356\"},\"glyph\":{\"id\":\"2359\"},\"group\":null,\"hover_glyph\":null,\"muted_glyph\":{\"id\":\"2361\"},\"nonselection_glyph\":{\"id\":\"2360\"},\"selection_glyph\":{\"id\":\"2364\"},\"view\":{\"id\":\"2363\"}},\"id\":\"2362\",\"type\":\"GlyphRenderer\"},{\"attributes\":{\"axis\":{\"id\":\"2339\"},\"coordinates\":null,\"dimension\":1,\"grid_line_color\":null,\"group\":null,\"ticker\":null},\"id\":\"2342\",\"type\":\"Grid\"},{\"attributes\":{\"children\":[{\"id\":\"2389\"},{\"id\":\"2390\"},{\"id\":\"2392\"}],\"margin\":[0,0,0,0],\"name\":\"Column02196\"},\"id\":\"2388\",\"type\":\"Column\"},{\"attributes\":{\"line_color\":\"#30a2da\",\"line_width\":2,\"x\":{\"field\":\"MODEL_NAME_NM\"},\"y\":{\"field\":\"RECALL_NUMBER_NUM\"}},\"id\":\"2364\",\"type\":\"Line\"},{\"attributes\":{},\"id\":\"2332\",\"type\":\"CategoricalScale\"},{\"attributes\":{\"line_alpha\":0.1,\"line_color\":\"#30a2da\",\"line_width\":2,\"x\":{\"field\":\"MODEL_NAME_NM\"},\"y\":{\"field\":\"RECALL_NUMBER_NUM\"}},\"id\":\"2360\",\"type\":\"Line\"},{\"attributes\":{},\"id\":\"2345\",\"type\":\"WheelZoomTool\"},{\"attributes\":{\"tools\":[{\"id\":\"2326\"},{\"id\":\"2343\"},{\"id\":\"2344\"},{\"id\":\"2345\"},{\"id\":\"2346\"},{\"id\":\"2347\"}]},\"id\":\"2349\",\"type\":\"Toolbar\"},{\"attributes\":{\"line_color\":\"#30a2da\",\"line_width\":2,\"x\":{\"field\":\"MODEL_NAME_NM\"},\"y\":{\"field\":\"RECALL_NUMBER_NUM\"}},\"id\":\"2359\",\"type\":\"Line\"},{\"attributes\":{},\"id\":\"2366\",\"type\":\"CategoricalTickFormatter\"},{\"attributes\":{\"children\":[{\"id\":\"2391\"}],\"css_classes\":[\"panel-widget-box\"],\"margin\":[5,5,5,5],\"name\":\"WidgetBox02189\"},\"id\":\"2390\",\"type\":\"Column\"},{\"attributes\":{},\"id\":\"2334\",\"type\":\"LinearScale\"},{\"attributes\":{\"axis\":{\"id\":\"2336\"},\"coordinates\":null,\"grid_line_color\":null,\"group\":null,\"ticker\":null},\"id\":\"2338\",\"type\":\"Grid\"},{\"attributes\":{\"margin\":[5,5,5,5],\"name\":\"VSpacer02195\",\"sizing_mode\":\"stretch_height\"},\"id\":\"2392\",\"type\":\"Spacer\"},{\"attributes\":{},\"id\":\"2370\",\"type\":\"AllLabels\"},{\"attributes\":{\"coordinates\":null,\"group\":null,\"text\":\"Number of recalls for a specific brand models\",\"text_color\":\"black\",\"text_font_size\":\"35pt\"},\"id\":\"2328\",\"type\":\"Title\"},{\"attributes\":{},\"id\":\"2384\",\"type\":\"UnionRenderers\"},{\"attributes\":{},\"id\":\"2357\",\"type\":\"Selection\"},{\"attributes\":{\"below\":[{\"id\":\"2336\"}],\"center\":[{\"id\":\"2338\"},{\"id\":\"2342\"}],\"height\":768,\"left\":[{\"id\":\"2339\"}],\"margin\":[5,5,5,5],\"min_border_bottom\":10,\"min_border_left\":10,\"min_border_right\":10,\"min_border_top\":10,\"renderers\":[{\"id\":\"2362\"}],\"sizing_mode\":\"fixed\",\"title\":{\"id\":\"2328\"},\"toolbar\":{\"id\":\"2349\"},\"width\":1536,\"x_range\":{\"id\":\"2324\"},\"x_scale\":{\"id\":\"2332\"},\"y_range\":{\"id\":\"2325\"},\"y_scale\":{\"id\":\"2334\"}},\"id\":\"2327\",\"subtype\":\"Figure\",\"type\":\"Plot\"},{\"attributes\":{\"margin\":[5,5,5,5],\"name\":\"HSpacer02198\",\"sizing_mode\":\"stretch_width\"},\"id\":\"2387\",\"type\":\"Spacer\"},{\"attributes\":{\"axis_label\":\"Number of recalls\",\"axis_label_text_font_size\":\"25px\",\"coordinates\":null,\"formatter\":{\"id\":\"2369\"},\"group\":null,\"major_label_policy\":{\"id\":\"2370\"},\"major_label_text_font_size\":\"20pt\",\"ticker\":{\"id\":\"2340\"}},\"id\":\"2339\",\"type\":\"LinearAxis\"},{\"attributes\":{\"callback\":null,\"renderers\":[{\"id\":\"2362\"}],\"tags\":[\"hv_created\"],\"tooltips\":[[\"MODEL_NAME_NM\",\"@{MODEL_NAME_NM}\"],[\"RECALL_NUMBER_NUM\",\"@{RECALL_NUMBER_NUM}\"]]},\"id\":\"2326\",\"type\":\"HoverTool\"},{\"attributes\":{\"source\":{\"id\":\"2356\"}},\"id\":\"2363\",\"type\":\"CDSView\"},{\"attributes\":{\"client_comm_id\":\"093f7ed1a0744da58f962aabcd3c516b\",\"comm_id\":\"82a3741e4d51487fbedaa1685e2954ef\",\"plot_id\":\"2322\"},\"id\":\"2423\",\"type\":\"panel.models.comm_manager.CommManager\"},{\"attributes\":{},\"id\":\"2340\",\"type\":\"BasicTicker\"},{\"attributes\":{},\"id\":\"2369\",\"type\":\"BasicTickFormatter\"},{\"attributes\":{\"margin\":[5,5,5,5],\"name\":\"HSpacer02197\",\"sizing_mode\":\"stretch_width\"},\"id\":\"2323\",\"type\":\"Spacer\"},{\"attributes\":{\"factors\":[\"C-MAX\",\"ESCAPE\",\"TRANSIT CONNECT\"],\"tags\":[[[\"MODEL_NAME_NM\",\"MODEL_NAME_NM\",null]]]},\"id\":\"2324\",\"type\":\"FactorRange\"},{\"attributes\":{},\"id\":\"2367\",\"type\":\"AllLabels\"},{\"attributes\":{\"axis_label\":\"Model Name\",\"axis_label_text_font_size\":\"25px\",\"coordinates\":null,\"formatter\":{\"id\":\"2366\"},\"group\":null,\"group_text_font_size\":\"20pt\",\"major_label_policy\":{\"id\":\"2367\"},\"major_label_text_font_size\":\"20pt\",\"ticker\":{\"id\":\"2337\"}},\"id\":\"2336\",\"type\":\"CategoricalAxis\"},{\"attributes\":{},\"id\":\"2337\",\"type\":\"CategoricalTicker\"},{\"attributes\":{},\"id\":\"2344\",\"type\":\"PanTool\"},{\"attributes\":{\"margin\":[5,5,5,5],\"name\":\"VSpacer02194\",\"sizing_mode\":\"stretch_height\"},\"id\":\"2389\",\"type\":\"Spacer\"},{\"attributes\":{\"end\":27.9,\"reset_end\":27.9,\"reset_start\":17.1,\"start\":17.1,\"tags\":[[[\"RECALL_NUMBER_NUM\",\"RECALL_NUMBER_NUM\",null]]]},\"id\":\"2325\",\"type\":\"Range1d\"},{\"attributes\":{\"children\":[{\"id\":\"2323\"},{\"id\":\"2327\"},{\"id\":\"2387\"},{\"id\":\"2388\"}],\"margin\":[0,0,0,0],\"name\":\"Row02188\"},\"id\":\"2322\",\"type\":\"Row\"}],\"root_ids\":[\"2322\",\"2423\"]},\"title\":\"Bokeh Application\",\"version\":\"2.4.3\"}};\n",
       "    var render_items = [{\"docid\":\"80dd4803-d75f-4aa4-9a5e-387fc7021132\",\"root_ids\":[\"2322\"],\"roots\":{\"2322\":\"205365d8-a971-42f8-bd93-0dd509707f20\"}}];\n",
       "    root.Bokeh.embed.embed_items_notebook(docs_json, render_items);\n",
       "    for (const render_item of render_items) {\n",
       "      for (const root_id of render_item.root_ids) {\n",
       "\tconst id_el = document.getElementById(root_id)\n",
       "\tif (id_el.children.length && (id_el.children[0].className === 'bk-root')) {\n",
       "\t  const root_el = id_el.children[0]\n",
       "\t  root_el.id = root_el.id + '-rendered'\n",
       "\t}\n",
       "      }\n",
       "    }\n",
       "  }\n",
       "  if (root.Bokeh !== undefined && root.Bokeh.Panel !== undefined) {\n",
       "    embed_document(root);\n",
       "  } else {\n",
       "    var attempts = 0;\n",
       "    var timer = setInterval(function(root) {\n",
       "      if (root.Bokeh !== undefined && root.Bokeh.Panel !== undefined) {\n",
       "        clearInterval(timer);\n",
       "        embed_document(root);\n",
       "      } else if (document.readyState == \"complete\") {\n",
       "        attempts++;\n",
       "        if (attempts > 200) {\n",
       "          clearInterval(timer);\n",
       "          console.log(\"Bokeh: ERROR: Unable to run BokehJS code because BokehJS library is missing\");\n",
       "        }\n",
       "      }\n",
       "    }, 25, root)\n",
       "  }\n",
       "})(window);</script>"
      ],
      "text/plain": [
       ":DynamicMap   [MAKE_NAME_NM]\n",
       "   :Curve   [MODEL_NAME_NM]   (RECALL_NUMBER_NUM)"
      ]
     },
     "execution_count": 37,
     "metadata": {
      "application/vnd.holoviews_exec.v0+json": {
       "id": "2322"
      }
     },
     "output_type": "execute_result"
    }
   ],
   "source": [
    "def line_chart():\n",
    "    vehicle_df = get_df()\n",
    "    return vehicle_df.hvplot.line(\n",
    "    groupby=col_make,\n",
    "    width=1024+512, height=512+256,\n",
    "    xlabel=\"Model Name\", ylabel=\"Number of recalls\",\n",
    "    title=\"Number of recalls for a specific brand models\",\n",
    "    fontsize={'title': '35pt', 'ylabel': '25px',\n",
    "              'xlabel': '25px', 'ticks': 20},\n",
    "    )\n",
    "\n",
    "\n",
    "\n",
    "line_chart()"
   ]
  }
 ],
 "metadata": {
  "kernelspec": {
   "display_name": "Python 3.7.15 ('dev')",
   "language": "python",
   "name": "python3"
  },
  "language_info": {
   "codemirror_mode": {
    "name": "ipython",
    "version": 3
   },
   "file_extension": ".py",
   "mimetype": "text/x-python",
   "name": "python",
   "nbconvert_exporter": "python",
   "pygments_lexer": "ipython3",
   "version": "3.7.15"
  },
  "orig_nbformat": 4,
  "vscode": {
   "interpreter": {
    "hash": "30b884da31d8c13a610cda2d27fe25286c638aaabfac5f03b43d7871615fddd8"
   }
  }
 },
 "nbformat": 4,
 "nbformat_minor": 2
}
