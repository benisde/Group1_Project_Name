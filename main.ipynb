{
 "cells": [
  {
   "cell_type": "code",
   "execution_count": 58,
   "metadata": {},
   "outputs": [
    {
     "name": "stdout",
     "output_type": "stream",
     "text": [
      "                 RECALL_NUMBER_NUM\n",
      "MAKE_NAME_NM                      \n",
      "BMW                             74\n",
      "CAMPAGNA MOTORS                 24\n",
      "FORD                            69\n",
      "HYUNDAI                        106\n",
      "MERCEDES-BENZ                   88\n",
      "NOVA BUS                        28\n",
      "PORSCHE                        102\n"
     ]
    },
    {
     "data": {},
     "metadata": {},
     "output_type": "display_data"
    },
    {
     "data": {
      "application/vnd.holoviews_exec.v0+json": "",
      "text/html": [
       "<div id='5741'>\n",
       "  <div class=\"bk-root\" id=\"db873505-e237-4392-b8dd-3d074064601d\" data-root-id=\"5741\"></div>\n",
       "</div>\n",
       "<script type=\"application/javascript\">(function(root) {\n",
       "  function embed_document(root) {\n",
       "    var docs_json = {\"f3785ebb-a00f-46ef-ae4a-78b090b43338\":{\"defs\":[{\"extends\":null,\"module\":null,\"name\":\"ReactiveHTML1\",\"overrides\":[],\"properties\":[]},{\"extends\":null,\"module\":null,\"name\":\"FlexBox1\",\"overrides\":[],\"properties\":[{\"default\":\"flex-start\",\"kind\":null,\"name\":\"align_content\"},{\"default\":\"flex-start\",\"kind\":null,\"name\":\"align_items\"},{\"default\":\"row\",\"kind\":null,\"name\":\"flex_direction\"},{\"default\":\"wrap\",\"kind\":null,\"name\":\"flex_wrap\"},{\"default\":\"flex-start\",\"kind\":null,\"name\":\"justify_content\"}]},{\"extends\":null,\"module\":null,\"name\":\"GridStack1\",\"overrides\":[],\"properties\":[{\"default\":\"warn\",\"kind\":null,\"name\":\"mode\"},{\"default\":null,\"kind\":null,\"name\":\"ncols\"},{\"default\":null,\"kind\":null,\"name\":\"nrows\"},{\"default\":true,\"kind\":null,\"name\":\"allow_resize\"},{\"default\":true,\"kind\":null,\"name\":\"allow_drag\"},{\"default\":[],\"kind\":null,\"name\":\"state\"}]},{\"extends\":null,\"module\":null,\"name\":\"click1\",\"overrides\":[],\"properties\":[{\"default\":\"\",\"kind\":null,\"name\":\"terminal_output\"},{\"default\":\"\",\"kind\":null,\"name\":\"debug_name\"},{\"default\":0,\"kind\":null,\"name\":\"clears\"}]},{\"extends\":null,\"module\":null,\"name\":\"NotificationAreaBase1\",\"overrides\":[],\"properties\":[{\"default\":\"bottom-right\",\"kind\":null,\"name\":\"position\"},{\"default\":0,\"kind\":null,\"name\":\"_clear\"}]},{\"extends\":null,\"module\":null,\"name\":\"NotificationArea1\",\"overrides\":[],\"properties\":[{\"default\":[],\"kind\":null,\"name\":\"notifications\"},{\"default\":\"bottom-right\",\"kind\":null,\"name\":\"position\"},{\"default\":0,\"kind\":null,\"name\":\"_clear\"},{\"default\":[{\"background\":\"#ffc107\",\"icon\":{\"className\":\"fas fa-exclamation-triangle\",\"color\":\"white\",\"tagName\":\"i\"},\"type\":\"warning\"},{\"background\":\"#007bff\",\"icon\":{\"className\":\"fas fa-info-circle\",\"color\":\"white\",\"tagName\":\"i\"},\"type\":\"info\"}],\"kind\":null,\"name\":\"types\"}]},{\"extends\":null,\"module\":null,\"name\":\"Notification\",\"overrides\":[],\"properties\":[{\"default\":null,\"kind\":null,\"name\":\"background\"},{\"default\":3000,\"kind\":null,\"name\":\"duration\"},{\"default\":null,\"kind\":null,\"name\":\"icon\"},{\"default\":\"\",\"kind\":null,\"name\":\"message\"},{\"default\":null,\"kind\":null,\"name\":\"notification_type\"},{\"default\":false,\"kind\":null,\"name\":\"_destroyed\"}]},{\"extends\":null,\"module\":null,\"name\":\"TemplateActions1\",\"overrides\":[],\"properties\":[{\"default\":0,\"kind\":null,\"name\":\"open_modal\"},{\"default\":0,\"kind\":null,\"name\":\"close_modal\"}]},{\"extends\":null,\"module\":null,\"name\":\"MaterialTemplateActions1\",\"overrides\":[],\"properties\":[{\"default\":0,\"kind\":null,\"name\":\"open_modal\"},{\"default\":0,\"kind\":null,\"name\":\"close_modal\"}]}],\"roots\":{\"references\":[{\"attributes\":{\"axis_label\":\"Housing Units\",\"axis_label_text_font_size\":\"25px\",\"coordinates\":null,\"formatter\":{\"id\":\"5784\"},\"group\":null,\"major_label_policy\":{\"id\":\"5790\"},\"major_label_text_font_size\":\"20pt\",\"ticker\":{\"id\":\"5759\"}},\"id\":\"5758\",\"type\":\"LinearAxis\"},{\"attributes\":{},\"id\":\"5762\",\"type\":\"SaveTool\"},{\"attributes\":{},\"id\":\"5799\",\"type\":\"UnionRenderers\"},{\"attributes\":{\"fill_alpha\":{\"value\":0.2},\"fill_color\":{\"value\":\"#0000FF\"},\"hatch_alpha\":{\"value\":0.2},\"hatch_color\":{\"value\":\"#0000FF\"},\"line_alpha\":{\"value\":0.2},\"top\":{\"field\":\"RECALL_NUMBER_NUM\"},\"width\":{\"value\":0.8},\"x\":{\"field\":\"MAKE_NAME_NM\"}},\"id\":\"5780\",\"type\":\"VBar\"},{\"attributes\":{\"bottom_units\":\"screen\",\"coordinates\":null,\"fill_alpha\":0.5,\"fill_color\":\"lightgrey\",\"group\":null,\"left_units\":\"screen\",\"level\":\"overlay\",\"line_alpha\":1.0,\"line_color\":\"black\",\"line_dash\":[4,4],\"line_width\":2,\"right_units\":\"screen\",\"syncable\":false,\"top_units\":\"screen\"},\"id\":\"5767\",\"type\":\"BoxAnnotation\"},{\"attributes\":{\"coordinates\":null,\"group\":null,\"text\":\"Housing Units in San Francisco from 2010 to 2016\",\"text_color\":\"black\",\"text_font_size\":\"35pt\"},\"id\":\"5747\",\"type\":\"Title\"},{\"attributes\":{\"margin\":[5,5,5,5],\"name\":\"HSpacer05453\",\"sizing_mode\":\"stretch_width\"},\"id\":\"5802\",\"type\":\"Spacer\"},{\"attributes\":{\"axis_label\":\"Year\",\"axis_label_text_font_size\":\"25px\",\"coordinates\":null,\"formatter\":{\"id\":\"5786\"},\"group\":null,\"group_text_font_size\":\"20pt\",\"major_label_policy\":{\"id\":\"5787\"},\"major_label_text_font_size\":\"20pt\",\"ticker\":{\"id\":\"5756\"}},\"id\":\"5755\",\"type\":\"CategoricalAxis\"},{\"attributes\":{\"overlay\":{\"id\":\"5767\"}},\"id\":\"5765\",\"type\":\"BoxZoomTool\"},{\"attributes\":{\"source\":{\"id\":\"5775\"}},\"id\":\"5782\",\"type\":\"CDSView\"},{\"attributes\":{},\"id\":\"5763\",\"type\":\"PanTool\"},{\"attributes\":{},\"id\":\"5759\",\"type\":\"BasicTicker\"},{\"attributes\":{\"children\":[{\"id\":\"5742\"},{\"id\":\"5746\"},{\"id\":\"5802\"}],\"margin\":[0,0,0,0],\"name\":\"Row05448\",\"tags\":[\"embedded\"]},\"id\":\"5741\",\"type\":\"Row\"},{\"attributes\":{\"axis\":{\"id\":\"5755\"},\"coordinates\":null,\"grid_line_color\":null,\"group\":null,\"ticker\":null},\"id\":\"5757\",\"type\":\"Grid\"},{\"attributes\":{},\"id\":\"5766\",\"type\":\"ResetTool\"},{\"attributes\":{\"factors\":[\"BMW\",\"CAMPAGNA MOTORS\",\"FORD\",\"HYUNDAI\",\"MERCEDES-BENZ\",\"NOVA BUS\",\"PORSCHE\"],\"tags\":[[[\"MAKE_NAME_NM\",\"MAKE_NAME_NM\",null]]]},\"id\":\"5743\",\"type\":\"FactorRange\"},{\"attributes\":{\"bottom\":{\"value\":0},\"fill_alpha\":{\"value\":1.0},\"fill_color\":{\"value\":\"#0000FF\"},\"hatch_alpha\":{\"value\":1.0},\"hatch_color\":{\"value\":\"#0000FF\"},\"hatch_scale\":{\"value\":12.0},\"hatch_weight\":{\"value\":1.0},\"line_alpha\":{\"value\":1.0},\"line_cap\":{\"value\":\"butt\"},\"line_color\":{\"value\":\"black\"},\"line_dash\":{\"value\":[]},\"line_dash_offset\":{\"value\":0},\"line_join\":{\"value\":\"bevel\"},\"line_width\":{\"value\":1},\"top\":{\"field\":\"RECALL_NUMBER_NUM\"},\"width\":{\"value\":0.8},\"x\":{\"field\":\"MAKE_NAME_NM\"}},\"id\":\"5783\",\"type\":\"VBar\"},{\"attributes\":{\"below\":[{\"id\":\"5755\"}],\"center\":[{\"id\":\"5757\"},{\"id\":\"5761\"}],\"height\":768,\"left\":[{\"id\":\"5758\"}],\"margin\":[5,5,5,5],\"min_border_bottom\":10,\"min_border_left\":10,\"min_border_right\":10,\"min_border_top\":10,\"renderers\":[{\"id\":\"5781\"}],\"sizing_mode\":\"fixed\",\"title\":{\"id\":\"5747\"},\"toolbar\":{\"id\":\"5768\"},\"width\":2048,\"x_range\":{\"id\":\"5743\"},\"x_scale\":{\"id\":\"5751\"},\"y_range\":{\"id\":\"5744\"},\"y_scale\":{\"id\":\"5753\"}},\"id\":\"5746\",\"subtype\":\"Figure\",\"type\":\"Plot\"},{\"attributes\":{\"coordinates\":null,\"data_source\":{\"id\":\"5775\"},\"glyph\":{\"id\":\"5778\"},\"group\":null,\"hover_glyph\":null,\"muted_glyph\":{\"id\":\"5780\"},\"nonselection_glyph\":{\"id\":\"5779\"},\"selection_glyph\":{\"id\":\"5783\"},\"view\":{\"id\":\"5782\"}},\"id\":\"5781\",\"type\":\"GlyphRenderer\"},{\"attributes\":{\"tools\":[{\"id\":\"5745\"},{\"id\":\"5762\"},{\"id\":\"5763\"},{\"id\":\"5764\"},{\"id\":\"5765\"},{\"id\":\"5766\"}]},\"id\":\"5768\",\"type\":\"Toolbar\"},{\"attributes\":{\"margin\":[5,5,5,5],\"name\":\"HSpacer05452\",\"sizing_mode\":\"stretch_width\"},\"id\":\"5742\",\"type\":\"Spacer\"},{\"attributes\":{},\"id\":\"5753\",\"type\":\"LinearScale\"},{\"attributes\":{},\"id\":\"5786\",\"type\":\"CategoricalTickFormatter\"},{\"attributes\":{\"callback\":null,\"renderers\":[{\"id\":\"5781\"}],\"tags\":[\"hv_created\"],\"tooltips\":[[\"MAKE_NAME_NM\",\"@{MAKE_NAME_NM}\"],[\"RECALL_NUMBER_NUM\",\"@{RECALL_NUMBER_NUM}\"]]},\"id\":\"5745\",\"type\":\"HoverTool\"},{\"attributes\":{\"axis\":{\"id\":\"5758\"},\"coordinates\":null,\"dimension\":1,\"grid_line_color\":null,\"group\":null,\"ticker\":null},\"id\":\"5761\",\"type\":\"Grid\"},{\"attributes\":{},\"id\":\"5787\",\"type\":\"AllLabels\"},{\"attributes\":{\"fill_alpha\":{\"value\":0.1},\"fill_color\":{\"value\":\"#0000FF\"},\"hatch_alpha\":{\"value\":0.1},\"hatch_color\":{\"value\":\"#0000FF\"},\"line_alpha\":{\"value\":0.1},\"top\":{\"field\":\"RECALL_NUMBER_NUM\"},\"width\":{\"value\":0.8},\"x\":{\"field\":\"MAKE_NAME_NM\"}},\"id\":\"5779\",\"type\":\"VBar\"},{\"attributes\":{},\"id\":\"5790\",\"type\":\"AllLabels\"},{\"attributes\":{\"fill_color\":{\"value\":\"#0000FF\"},\"hatch_color\":{\"value\":\"#0000FF\"},\"top\":{\"field\":\"RECALL_NUMBER_NUM\"},\"width\":{\"value\":0.8},\"x\":{\"field\":\"MAKE_NAME_NM\"}},\"id\":\"5778\",\"type\":\"VBar\"},{\"attributes\":{},\"id\":\"5776\",\"type\":\"Selection\"},{\"attributes\":{\"end\":120,\"reset_end\":120,\"reset_start\":20,\"start\":20,\"tags\":[[[\"RECALL_NUMBER_NUM\",\"RECALL_NUMBER_NUM\",null]]]},\"id\":\"5744\",\"type\":\"Range1d\"},{\"attributes\":{\"format\":\"%.0f\"},\"id\":\"5784\",\"type\":\"PrintfTickFormatter\"},{\"attributes\":{},\"id\":\"5764\",\"type\":\"WheelZoomTool\"},{\"attributes\":{},\"id\":\"5756\",\"type\":\"CategoricalTicker\"},{\"attributes\":{},\"id\":\"5751\",\"type\":\"CategoricalScale\"},{\"attributes\":{\"data\":{\"MAKE_NAME_NM\":[\"BMW\",\"CAMPAGNA MOTORS\",\"FORD\",\"HYUNDAI\",\"MERCEDES-BENZ\",\"NOVA BUS\",\"PORSCHE\"],\"RECALL_NUMBER_NUM\":[74,24,69,106,88,28,102]},\"selected\":{\"id\":\"5776\"},\"selection_policy\":{\"id\":\"5799\"}},\"id\":\"5775\",\"type\":\"ColumnDataSource\"}],\"root_ids\":[\"5741\"]},\"title\":\"Bokeh Application\",\"version\":\"2.4.3\"}};\n",
       "    var render_items = [{\"docid\":\"f3785ebb-a00f-46ef-ae4a-78b090b43338\",\"root_ids\":[\"5741\"],\"roots\":{\"5741\":\"db873505-e237-4392-b8dd-3d074064601d\"}}];\n",
       "    root.Bokeh.embed.embed_items_notebook(docs_json, render_items);\n",
       "    for (const render_item of render_items) {\n",
       "      for (const root_id of render_item.root_ids) {\n",
       "\tconst id_el = document.getElementById(root_id)\n",
       "\tif (id_el.children.length && (id_el.children[0].className === 'bk-root')) {\n",
       "\t  const root_el = id_el.children[0]\n",
       "\t  root_el.id = root_el.id + '-rendered'\n",
       "\t}\n",
       "      }\n",
       "    }\n",
       "  }\n",
       "  if (root.Bokeh !== undefined && root.Bokeh.Panel !== undefined) {\n",
       "    embed_document(root);\n",
       "  } else {\n",
       "    var attempts = 0;\n",
       "    var timer = setInterval(function(root) {\n",
       "      if (root.Bokeh !== undefined && root.Bokeh.Panel !== undefined) {\n",
       "        clearInterval(timer);\n",
       "        embed_document(root);\n",
       "      } else if (document.readyState == \"complete\") {\n",
       "        attempts++;\n",
       "        if (attempts > 200) {\n",
       "          clearInterval(timer);\n",
       "          console.log(\"Bokeh: ERROR: Unable to run BokehJS code because BokehJS library is missing\");\n",
       "        }\n",
       "      }\n",
       "    }, 25, root)\n",
       "  }\n",
       "})(window);</script>"
      ],
      "text/plain": [
       ":Bars   [MAKE_NAME_NM]   (RECALL_NUMBER_NUM)"
      ]
     },
     "execution_count": 58,
     "metadata": {
      "application/vnd.holoviews_exec.v0+json": {
       "id": "5741"
      }
     },
     "output_type": "execute_result"
    }
   ],
   "source": [
    "import q1 \n",
    "import pandas as pd\n",
    "import numpy as np\n",
    "from pathlib import Path\n",
    "import hvplot.pandas\n",
    "\n",
    "#import make_model_count as mm\n",
    "\n",
    "#const variables \n",
    "col_recall_number = \"RECALL_NUMBER_NUM\"\n",
    "col_make = \"MAKE_NAME_NM\"\n",
    "col_model = \"MODEL_NAME_NM\"\n",
    "\n",
    "def get_df():\n",
    "    vehicle_df = pd.read_csv(\"./resources/vrdb_60days_daily.csv\")\n",
    "    vehicle_df.head()\n",
    "    vehicle_df = vehicle_df[[\"RECALL_NUMBER_NUM\", \"MAKE_NAME_NM\",\"MODEL_NAME_NM\"]]\n",
    "    vehicle_df.columns = [col_recall_number, col_make, col_model]\n",
    "    vehicle_df = vehicle_df.groupby([\"MAKE_NAME_NM\",\"MODEL_NAME_NM\"]).count()\n",
    "    vehicle_df = vehicle_df.sort_values(by=\"RECALL_NUMBER_NUM\")\n",
    "    vehicle_df = vehicle_df[vehicle_df.RECALL_NUMBER_NUM >= 17]\n",
    "\n",
    "    #vehicle_df.hvplot.bar(kind=\"bar\", figsize=(20, 4)).xticks(rotation = 45)\n",
    "\n",
    "    return vehicle_df\n",
    "\n",
    "\n",
    "\n",
    "def bar():\n",
    "    vehicle_df = get_df()\n",
    "    vehicle_df.reset_index(inplace=True)\n",
    "    vehicle_df = vehicle_df.groupby([col_make]).sum()\n",
    "\n",
    "    print(vehicle_df)\n",
    "\n",
    "    # return vehicle_df.head()\n",
    "\n",
    "    return vehicle_df.hvplot.bar(\n",
    "    y=col_recall_number,\n",
    "    x=col_make,\n",
    "    width=2*1024, height=512+256,\n",
    "    xlabel=\"Year\", ylabel=\"Housing Units\",\n",
    "    title=\"Housing Units in San Francisco from 2010 to 2016\",\n",
    "    fontsize={'title': '35pt', 'ylabel': '25px',\n",
    "              'xlabel': '25px', 'ticks': 20},\n",
    "    ylim=(20, 120),\n",
    "    color=[\"#0000FF\"],\n",
    "    padding=0.4,\n",
    "    yformatter=\"%.0f\",\n",
    "    )\n",
    "\n",
    "\n",
    "bar()"
   ]
  },
  {
   "cell_type": "code",
   "execution_count": 37,
   "metadata": {},
   "outputs": [
    {
     "data": {},
     "metadata": {},
     "output_type": "display_data"
    },
    {
     "data": {
      "application/vnd.holoviews_exec.v0+json": "",
      "text/html": [
       "<div id='2322'>\n",
       "  <div class=\"bk-root\" id=\"205365d8-a971-42f8-bd93-0dd509707f20\" data-root-id=\"2322\"></div>\n",
       "</div>\n",
       "<script type=\"application/javascript\">(function(root) {\n",
       "  function embed_document(root) {\n",
       "    var docs_json = {\"80dd4803-d75f-4aa4-9a5e-387fc7021132\":{\"defs\":[{\"extends\":null,\"module\":null,\"name\":\"ReactiveHTML1\",\"overrides\":[],\"properties\":[]},{\"extends\":null,\"module\":null,\"name\":\"FlexBox1\",\"overrides\":[],\"properties\":[{\"default\":\"flex-start\",\"kind\":null,\"name\":\"align_content\"},{\"default\":\"flex-start\",\"kind\":null,\"name\":\"align_items\"},{\"default\":\"row\",\"kind\":null,\"name\":\"flex_direction\"},{\"default\":\"wrap\",\"kind\":null,\"name\":\"flex_wrap\"},{\"default\":\"flex-start\",\"kind\":null,\"name\":\"justify_content\"}]},{\"extends\":null,\"module\":null,\"name\":\"GridStack1\",\"overrides\":[],\"properties\":[{\"default\":\"warn\",\"kind\":null,\"name\":\"mode\"},{\"default\":null,\"kind\":null,\"name\":\"ncols\"},{\"default\":null,\"kind\":null,\"name\":\"nrows\"},{\"default\":true,\"kind\":null,\"name\":\"allow_resize\"},{\"default\":true,\"kind\":null,\"name\":\"allow_drag\"},{\"default\":[],\"kind\":null,\"name\":\"state\"}]},{\"extends\":null,\"module\":null,\"name\":\"click1\",\"overrides\":[],\"properties\":[{\"default\":\"\",\"kind\":null,\"name\":\"terminal_output\"},{\"default\":\"\",\"kind\":null,\"name\":\"debug_name\"},{\"default\":0,\"kind\":null,\"name\":\"clears\"}]},{\"extends\":null,\"module\":null,\"name\":\"NotificationAreaBase1\",\"overrides\":[],\"properties\":[{\"default\":\"bottom-right\",\"kind\":null,\"name\":\"position\"},{\"default\":0,\"kind\":null,\"name\":\"_clear\"}]},{\"extends\":null,\"module\":null,\"name\":\"NotificationArea1\",\"overrides\":[],\"properties\":[{\"default\":[],\"kind\":null,\"name\":\"notifications\"},{\"default\":\"bottom-right\",\"kind\":null,\"name\":\"position\"},{\"default\":0,\"kind\":null,\"name\":\"_clear\"},{\"default\":[{\"background\":\"#ffc107\",\"icon\":{\"className\":\"fas fa-exclamation-triangle\",\"color\":\"white\",\"tagName\":\"i\"},\"type\":\"warning\"},{\"background\":\"#007bff\",\"icon\":{\"className\":\"fas fa-info-circle\",\"color\":\"white\",\"tagName\":\"i\"},\"type\":\"info\"}],\"kind\":null,\"name\":\"types\"}]},{\"extends\":null,\"module\":null,\"name\":\"Notification\",\"overrides\":[],\"properties\":[{\"default\":null,\"kind\":null,\"name\":\"background\"},{\"default\":3000,\"kind\":null,\"name\":\"duration\"},{\"default\":null,\"kind\":null,\"name\":\"icon\"},{\"default\":\"\",\"kind\":null,\"name\":\"message\"},{\"default\":null,\"kind\":null,\"name\":\"notification_type\"},{\"default\":false,\"kind\":null,\"name\":\"_destroyed\"}]},{\"extends\":null,\"module\":null,\"name\":\"TemplateActions1\",\"overrides\":[],\"properties\":[{\"default\":0,\"kind\":null,\"name\":\"open_modal\"},{\"default\":0,\"kind\":null,\"name\":\"close_modal\"}]},{\"extends\":null,\"module\":null,\"name\":\"MaterialTemplateActions1\",\"overrides\":[],\"properties\":[{\"default\":0,\"kind\":null,\"name\":\"open_modal\"},{\"default\":0,\"kind\":null,\"name\":\"close_modal\"}]}],\"roots\":{\"references\":[{\"attributes\":{\"data\":{\"MODEL_NAME_NM\":[\"C-MAX\",\"ESCAPE\",\"TRANSIT CONNECT\"],\"RECALL_NUMBER_NUM\":[18,24,27]},\"selected\":{\"id\":\"2357\"},\"selection_policy\":{\"id\":\"2384\"}},\"id\":\"2356\",\"type\":\"ColumnDataSource\"},{\"attributes\":{},\"id\":\"2343\",\"type\":\"SaveTool\"},{\"attributes\":{},\"id\":\"2347\",\"type\":\"ResetTool\"},{\"attributes\":{\"margin\":[20,20,20,20],\"min_width\":250,\"options\":[\"FORD\",\"HYUNDAI\",\"PORSCHE\",\"MERCEDES-BENZ\",\"CAMPAGNA MOTORS\",\"NOVA BUS\",\"BMW\"],\"title\":\"MAKE_NAME_NM\",\"value\":\"FORD\",\"width\":250},\"id\":\"2391\",\"type\":\"panel.models.widgets.CustomSelect\"},{\"attributes\":{\"bottom_units\":\"screen\",\"coordinates\":null,\"fill_alpha\":0.5,\"fill_color\":\"lightgrey\",\"group\":null,\"left_units\":\"screen\",\"level\":\"overlay\",\"line_alpha\":1.0,\"line_color\":\"black\",\"line_dash\":[4,4],\"line_width\":2,\"right_units\":\"screen\",\"syncable\":false,\"top_units\":\"screen\"},\"id\":\"2348\",\"type\":\"BoxAnnotation\"},{\"attributes\":{\"line_alpha\":0.2,\"line_color\":\"#30a2da\",\"line_width\":2,\"x\":{\"field\":\"MODEL_NAME_NM\"},\"y\":{\"field\":\"RECALL_NUMBER_NUM\"}},\"id\":\"2361\",\"type\":\"Line\"},{\"attributes\":{\"overlay\":{\"id\":\"2348\"}},\"id\":\"2346\",\"type\":\"BoxZoomTool\"},{\"attributes\":{\"coordinates\":null,\"data_source\":{\"id\":\"2356\"},\"glyph\":{\"id\":\"2359\"},\"group\":null,\"hover_glyph\":null,\"muted_glyph\":{\"id\":\"2361\"},\"nonselection_glyph\":{\"id\":\"2360\"},\"selection_glyph\":{\"id\":\"2364\"},\"view\":{\"id\":\"2363\"}},\"id\":\"2362\",\"type\":\"GlyphRenderer\"},{\"attributes\":{\"axis\":{\"id\":\"2339\"},\"coordinates\":null,\"dimension\":1,\"grid_line_color\":null,\"group\":null,\"ticker\":null},\"id\":\"2342\",\"type\":\"Grid\"},{\"attributes\":{\"children\":[{\"id\":\"2389\"},{\"id\":\"2390\"},{\"id\":\"2392\"}],\"margin\":[0,0,0,0],\"name\":\"Column02196\"},\"id\":\"2388\",\"type\":\"Column\"},{\"attributes\":{\"line_color\":\"#30a2da\",\"line_width\":2,\"x\":{\"field\":\"MODEL_NAME_NM\"},\"y\":{\"field\":\"RECALL_NUMBER_NUM\"}},\"id\":\"2364\",\"type\":\"Line\"},{\"attributes\":{},\"id\":\"2332\",\"type\":\"CategoricalScale\"},{\"attributes\":{\"line_alpha\":0.1,\"line_color\":\"#30a2da\",\"line_width\":2,\"x\":{\"field\":\"MODEL_NAME_NM\"},\"y\":{\"field\":\"RECALL_NUMBER_NUM\"}},\"id\":\"2360\",\"type\":\"Line\"},{\"attributes\":{},\"id\":\"2345\",\"type\":\"WheelZoomTool\"},{\"attributes\":{\"tools\":[{\"id\":\"2326\"},{\"id\":\"2343\"},{\"id\":\"2344\"},{\"id\":\"2345\"},{\"id\":\"2346\"},{\"id\":\"2347\"}]},\"id\":\"2349\",\"type\":\"Toolbar\"},{\"attributes\":{\"line_color\":\"#30a2da\",\"line_width\":2,\"x\":{\"field\":\"MODEL_NAME_NM\"},\"y\":{\"field\":\"RECALL_NUMBER_NUM\"}},\"id\":\"2359\",\"type\":\"Line\"},{\"attributes\":{},\"id\":\"2366\",\"type\":\"CategoricalTickFormatter\"},{\"attributes\":{\"children\":[{\"id\":\"2391\"}],\"css_classes\":[\"panel-widget-box\"],\"margin\":[5,5,5,5],\"name\":\"WidgetBox02189\"},\"id\":\"2390\",\"type\":\"Column\"},{\"attributes\":{},\"id\":\"2334\",\"type\":\"LinearScale\"},{\"attributes\":{\"axis\":{\"id\":\"2336\"},\"coordinates\":null,\"grid_line_color\":null,\"group\":null,\"ticker\":null},\"id\":\"2338\",\"type\":\"Grid\"},{\"attributes\":{\"margin\":[5,5,5,5],\"name\":\"VSpacer02195\",\"sizing_mode\":\"stretch_height\"},\"id\":\"2392\",\"type\":\"Spacer\"},{\"attributes\":{},\"id\":\"2370\",\"type\":\"AllLabels\"},{\"attributes\":{\"coordinates\":null,\"group\":null,\"text\":\"Number of recalls for a specific brand models\",\"text_color\":\"black\",\"text_font_size\":\"35pt\"},\"id\":\"2328\",\"type\":\"Title\"},{\"attributes\":{},\"id\":\"2384\",\"type\":\"UnionRenderers\"},{\"attributes\":{},\"id\":\"2357\",\"type\":\"Selection\"},{\"attributes\":{\"below\":[{\"id\":\"2336\"}],\"center\":[{\"id\":\"2338\"},{\"id\":\"2342\"}],\"height\":768,\"left\":[{\"id\":\"2339\"}],\"margin\":[5,5,5,5],\"min_border_bottom\":10,\"min_border_left\":10,\"min_border_right\":10,\"min_border_top\":10,\"renderers\":[{\"id\":\"2362\"}],\"sizing_mode\":\"fixed\",\"title\":{\"id\":\"2328\"},\"toolbar\":{\"id\":\"2349\"},\"width\":1536,\"x_range\":{\"id\":\"2324\"},\"x_scale\":{\"id\":\"2332\"},\"y_range\":{\"id\":\"2325\"},\"y_scale\":{\"id\":\"2334\"}},\"id\":\"2327\",\"subtype\":\"Figure\",\"type\":\"Plot\"},{\"attributes\":{\"margin\":[5,5,5,5],\"name\":\"HSpacer02198\",\"sizing_mode\":\"stretch_width\"},\"id\":\"2387\",\"type\":\"Spacer\"},{\"attributes\":{\"axis_label\":\"Number of recalls\",\"axis_label_text_font_size\":\"25px\",\"coordinates\":null,\"formatter\":{\"id\":\"2369\"},\"group\":null,\"major_label_policy\":{\"id\":\"2370\"},\"major_label_text_font_size\":\"20pt\",\"ticker\":{\"id\":\"2340\"}},\"id\":\"2339\",\"type\":\"LinearAxis\"},{\"attributes\":{\"callback\":null,\"renderers\":[{\"id\":\"2362\"}],\"tags\":[\"hv_created\"],\"tooltips\":[[\"MODEL_NAME_NM\",\"@{MODEL_NAME_NM}\"],[\"RECALL_NUMBER_NUM\",\"@{RECALL_NUMBER_NUM}\"]]},\"id\":\"2326\",\"type\":\"HoverTool\"},{\"attributes\":{\"source\":{\"id\":\"2356\"}},\"id\":\"2363\",\"type\":\"CDSView\"},{\"attributes\":{\"client_comm_id\":\"093f7ed1a0744da58f962aabcd3c516b\",\"comm_id\":\"82a3741e4d51487fbedaa1685e2954ef\",\"plot_id\":\"2322\"},\"id\":\"2423\",\"type\":\"panel.models.comm_manager.CommManager\"},{\"attributes\":{},\"id\":\"2340\",\"type\":\"BasicTicker\"},{\"attributes\":{},\"id\":\"2369\",\"type\":\"BasicTickFormatter\"},{\"attributes\":{\"margin\":[5,5,5,5],\"name\":\"HSpacer02197\",\"sizing_mode\":\"stretch_width\"},\"id\":\"2323\",\"type\":\"Spacer\"},{\"attributes\":{\"factors\":[\"C-MAX\",\"ESCAPE\",\"TRANSIT CONNECT\"],\"tags\":[[[\"MODEL_NAME_NM\",\"MODEL_NAME_NM\",null]]]},\"id\":\"2324\",\"type\":\"FactorRange\"},{\"attributes\":{},\"id\":\"2367\",\"type\":\"AllLabels\"},{\"attributes\":{\"axis_label\":\"Model Name\",\"axis_label_text_font_size\":\"25px\",\"coordinates\":null,\"formatter\":{\"id\":\"2366\"},\"group\":null,\"group_text_font_size\":\"20pt\",\"major_label_policy\":{\"id\":\"2367\"},\"major_label_text_font_size\":\"20pt\",\"ticker\":{\"id\":\"2337\"}},\"id\":\"2336\",\"type\":\"CategoricalAxis\"},{\"attributes\":{},\"id\":\"2337\",\"type\":\"CategoricalTicker\"},{\"attributes\":{},\"id\":\"2344\",\"type\":\"PanTool\"},{\"attributes\":{\"margin\":[5,5,5,5],\"name\":\"VSpacer02194\",\"sizing_mode\":\"stretch_height\"},\"id\":\"2389\",\"type\":\"Spacer\"},{\"attributes\":{\"end\":27.9,\"reset_end\":27.9,\"reset_start\":17.1,\"start\":17.1,\"tags\":[[[\"RECALL_NUMBER_NUM\",\"RECALL_NUMBER_NUM\",null]]]},\"id\":\"2325\",\"type\":\"Range1d\"},{\"attributes\":{\"children\":[{\"id\":\"2323\"},{\"id\":\"2327\"},{\"id\":\"2387\"},{\"id\":\"2388\"}],\"margin\":[0,0,0,0],\"name\":\"Row02188\"},\"id\":\"2322\",\"type\":\"Row\"}],\"root_ids\":[\"2322\",\"2423\"]},\"title\":\"Bokeh Application\",\"version\":\"2.4.3\"}};\n",
       "    var render_items = [{\"docid\":\"80dd4803-d75f-4aa4-9a5e-387fc7021132\",\"root_ids\":[\"2322\"],\"roots\":{\"2322\":\"205365d8-a971-42f8-bd93-0dd509707f20\"}}];\n",
       "    root.Bokeh.embed.embed_items_notebook(docs_json, render_items);\n",
       "    for (const render_item of render_items) {\n",
       "      for (const root_id of render_item.root_ids) {\n",
       "\tconst id_el = document.getElementById(root_id)\n",
       "\tif (id_el.children.length && (id_el.children[0].className === 'bk-root')) {\n",
       "\t  const root_el = id_el.children[0]\n",
       "\t  root_el.id = root_el.id + '-rendered'\n",
       "\t}\n",
       "      }\n",
       "    }\n",
       "  }\n",
       "  if (root.Bokeh !== undefined && root.Bokeh.Panel !== undefined) {\n",
       "    embed_document(root);\n",
       "  } else {\n",
       "    var attempts = 0;\n",
       "    var timer = setInterval(function(root) {\n",
       "      if (root.Bokeh !== undefined && root.Bokeh.Panel !== undefined) {\n",
       "        clearInterval(timer);\n",
       "        embed_document(root);\n",
       "      } else if (document.readyState == \"complete\") {\n",
       "        attempts++;\n",
       "        if (attempts > 200) {\n",
       "          clearInterval(timer);\n",
       "          console.log(\"Bokeh: ERROR: Unable to run BokehJS code because BokehJS library is missing\");\n",
       "        }\n",
       "      }\n",
       "    }, 25, root)\n",
       "  }\n",
       "})(window);</script>"
      ],
      "text/plain": [
       ":DynamicMap   [MAKE_NAME_NM]\n",
       "   :Curve   [MODEL_NAME_NM]   (RECALL_NUMBER_NUM)"
      ]
     },
     "execution_count": 37,
     "metadata": {
      "application/vnd.holoviews_exec.v0+json": {
       "id": "2322"
      }
     },
     "output_type": "execute_result"
    }
   ],
   "source": [
    "def line_chart():\n",
    "    vehicle_df = get_df()\n",
    "    return vehicle_df.hvplot.line(\n",
    "    groupby=col_make,\n",
    "    width=1024+512, height=512+256,\n",
    "    xlabel=\"Model Name\", ylabel=\"Number of recalls\",\n",
    "    title=\"Number of recalls for a specific brand models\",\n",
    "    fontsize={'title': '35pt', 'ylabel': '25px',\n",
    "              'xlabel': '25px', 'ticks': 20},\n",
    "    )\n",
    "\n",
    "\n",
    "\n",
    "line_chart()"
   ]
  },
  {
   "cell_type": "code",
   "execution_count": 44,
   "metadata": {},
   "outputs": [
    {
     "data": {},
     "metadata": {},
     "output_type": "display_data"
    },
    {
     "data": {
      "application/vnd.holoviews_exec.v0+json": "",
      "text/html": [
       "<div id='4514'>\n",
       "  <div class=\"bk-root\" id=\"b24b90ed-e2f6-4a00-a608-3a4d19d52f15\" data-root-id=\"4514\"></div>\n",
       "</div>\n",
       "<script type=\"application/javascript\">(function(root) {\n",
       "  function embed_document(root) {\n",
       "    var docs_json = {\"76c81bde-91b9-4892-afe6-69dc77113fef\":{\"defs\":[{\"extends\":null,\"module\":null,\"name\":\"ReactiveHTML1\",\"overrides\":[],\"properties\":[]},{\"extends\":null,\"module\":null,\"name\":\"FlexBox1\",\"overrides\":[],\"properties\":[{\"default\":\"flex-start\",\"kind\":null,\"name\":\"align_content\"},{\"default\":\"flex-start\",\"kind\":null,\"name\":\"align_items\"},{\"default\":\"row\",\"kind\":null,\"name\":\"flex_direction\"},{\"default\":\"wrap\",\"kind\":null,\"name\":\"flex_wrap\"},{\"default\":\"flex-start\",\"kind\":null,\"name\":\"justify_content\"}]},{\"extends\":null,\"module\":null,\"name\":\"GridStack1\",\"overrides\":[],\"properties\":[{\"default\":\"warn\",\"kind\":null,\"name\":\"mode\"},{\"default\":null,\"kind\":null,\"name\":\"ncols\"},{\"default\":null,\"kind\":null,\"name\":\"nrows\"},{\"default\":true,\"kind\":null,\"name\":\"allow_resize\"},{\"default\":true,\"kind\":null,\"name\":\"allow_drag\"},{\"default\":[],\"kind\":null,\"name\":\"state\"}]},{\"extends\":null,\"module\":null,\"name\":\"click1\",\"overrides\":[],\"properties\":[{\"default\":\"\",\"kind\":null,\"name\":\"terminal_output\"},{\"default\":\"\",\"kind\":null,\"name\":\"debug_name\"},{\"default\":0,\"kind\":null,\"name\":\"clears\"}]},{\"extends\":null,\"module\":null,\"name\":\"NotificationAreaBase1\",\"overrides\":[],\"properties\":[{\"default\":\"bottom-right\",\"kind\":null,\"name\":\"position\"},{\"default\":0,\"kind\":null,\"name\":\"_clear\"}]},{\"extends\":null,\"module\":null,\"name\":\"NotificationArea1\",\"overrides\":[],\"properties\":[{\"default\":[],\"kind\":null,\"name\":\"notifications\"},{\"default\":\"bottom-right\",\"kind\":null,\"name\":\"position\"},{\"default\":0,\"kind\":null,\"name\":\"_clear\"},{\"default\":[{\"background\":\"#ffc107\",\"icon\":{\"className\":\"fas fa-exclamation-triangle\",\"color\":\"white\",\"tagName\":\"i\"},\"type\":\"warning\"},{\"background\":\"#007bff\",\"icon\":{\"className\":\"fas fa-info-circle\",\"color\":\"white\",\"tagName\":\"i\"},\"type\":\"info\"}],\"kind\":null,\"name\":\"types\"}]},{\"extends\":null,\"module\":null,\"name\":\"Notification\",\"overrides\":[],\"properties\":[{\"default\":null,\"kind\":null,\"name\":\"background\"},{\"default\":3000,\"kind\":null,\"name\":\"duration\"},{\"default\":null,\"kind\":null,\"name\":\"icon\"},{\"default\":\"\",\"kind\":null,\"name\":\"message\"},{\"default\":null,\"kind\":null,\"name\":\"notification_type\"},{\"default\":false,\"kind\":null,\"name\":\"_destroyed\"}]},{\"extends\":null,\"module\":null,\"name\":\"TemplateActions1\",\"overrides\":[],\"properties\":[{\"default\":0,\"kind\":null,\"name\":\"open_modal\"},{\"default\":0,\"kind\":null,\"name\":\"close_modal\"}]},{\"extends\":null,\"module\":null,\"name\":\"MaterialTemplateActions1\",\"overrides\":[],\"properties\":[{\"default\":0,\"kind\":null,\"name\":\"open_modal\"},{\"default\":0,\"kind\":null,\"name\":\"close_modal\"}]}],\"roots\":{\"references\":[{\"attributes\":{\"angle\":{\"value\":0.0},\"fill_alpha\":{\"value\":1.0},\"fill_color\":{\"value\":\"#e5ae38\"},\"hatch_alpha\":{\"value\":1.0},\"hatch_color\":{\"value\":\"#e5ae38\"},\"hatch_scale\":{\"value\":12.0},\"hatch_weight\":{\"value\":1.0},\"line_alpha\":{\"value\":1.0},\"line_cap\":{\"value\":\"butt\"},\"line_color\":{\"value\":\"#e5ae38\"},\"line_dash\":{\"value\":[]},\"line_dash_offset\":{\"value\":0},\"line_join\":{\"value\":\"bevel\"},\"line_width\":{\"value\":1},\"marker\":{\"value\":\"circle\"},\"size\":{\"value\":5.477225575051661},\"x\":{\"field\":\"MAKE_NAME_NM\"},\"y\":{\"field\":\"RECALL_NUMBER_NUM\"}},\"id\":\"4626\",\"type\":\"Scatter\"},{\"attributes\":{\"source\":{\"id\":\"4681\"}},\"id\":\"4688\",\"type\":\"CDSView\"},{\"attributes\":{\"fill_alpha\":{\"value\":0.1},\"fill_color\":{\"value\":\"#17becf\"},\"hatch_alpha\":{\"value\":0.1},\"hatch_color\":{\"value\":\"#17becf\"},\"line_alpha\":{\"value\":0.1},\"line_color\":{\"value\":\"#17becf\"},\"size\":{\"value\":5.477225575051661},\"x\":{\"field\":\"MAKE_NAME_NM\"},\"y\":{\"field\":\"RECALL_NUMBER_NUM\"}},\"id\":\"4685\",\"type\":\"Scatter\"},{\"attributes\":{\"axis\":{\"id\":\"4537\"},\"coordinates\":null,\"dimension\":1,\"grid_line_color\":null,\"group\":null,\"ticker\":null},\"id\":\"4540\",\"type\":\"Grid\"},{\"attributes\":{\"fill_color\":{\"value\":\"#8b8b8b\"},\"hatch_color\":{\"value\":\"#8b8b8b\"},\"line_color\":{\"value\":\"#8b8b8b\"},\"size\":{\"value\":5.477225575051661},\"x\":{\"field\":\"MAKE_NAME_NM\"},\"y\":{\"field\":\"RECALL_NUMBER_NUM\"}},\"id\":\"4656\",\"type\":\"Scatter\"},{\"attributes\":{\"source\":{\"id\":\"4711\"}},\"id\":\"4718\",\"type\":\"CDSView\"},{\"attributes\":{\"tools\":[{\"id\":\"4518\"},{\"id\":\"4541\"},{\"id\":\"4542\"},{\"id\":\"4543\"},{\"id\":\"4544\"},{\"id\":\"4545\"}]},\"id\":\"4547\",\"type\":\"Toolbar\"},{\"attributes\":{\"angle\":{\"value\":0.0},\"fill_alpha\":{\"value\":1.0},\"fill_color\":{\"value\":\"#fc4f30\"},\"hatch_alpha\":{\"value\":1.0},\"hatch_color\":{\"value\":\"#fc4f30\"},\"hatch_scale\":{\"value\":12.0},\"hatch_weight\":{\"value\":1.0},\"line_alpha\":{\"value\":1.0},\"line_cap\":{\"value\":\"butt\"},\"line_color\":{\"value\":\"#fc4f30\"},\"line_dash\":{\"value\":[]},\"line_dash_offset\":{\"value\":0},\"line_join\":{\"value\":\"bevel\"},\"line_width\":{\"value\":1},\"marker\":{\"value\":\"circle\"},\"size\":{\"value\":5.477225575051661},\"x\":{\"field\":\"MAKE_NAME_NM\"},\"y\":{\"field\":\"RECALL_NUMBER_NUM\"}},\"id\":\"4602\",\"type\":\"Scatter\"},{\"attributes\":{\"source\":{\"id\":\"4653\"}},\"id\":\"4660\",\"type\":\"CDSView\"},{\"attributes\":{\"fill_color\":{\"value\":\"#9467bd\"},\"hatch_color\":{\"value\":\"#9467bd\"},\"line_color\":{\"value\":\"#9467bd\"},\"size\":{\"value\":5.477225575051661},\"x\":{\"field\":\"MAKE_NAME_NM\"},\"y\":{\"field\":\"RECALL_NUMBER_NUM\"}},\"id\":\"4714\",\"type\":\"Scatter\"},{\"attributes\":{\"bottom_units\":\"screen\",\"coordinates\":null,\"fill_alpha\":0.5,\"fill_color\":\"lightgrey\",\"group\":null,\"left_units\":\"screen\",\"level\":\"overlay\",\"line_alpha\":1.0,\"line_color\":\"black\",\"line_dash\":[4,4],\"line_width\":2,\"right_units\":\"screen\",\"syncable\":false,\"top_units\":\"screen\"},\"id\":\"4546\",\"type\":\"BoxAnnotation\"},{\"attributes\":{\"source\":{\"id\":\"4627\"}},\"id\":\"4634\",\"type\":\"CDSView\"},{\"attributes\":{\"angle\":{\"value\":0.0},\"fill_alpha\":{\"value\":1.0},\"fill_color\":{\"value\":\"#17becf\"},\"hatch_alpha\":{\"value\":1.0},\"hatch_color\":{\"value\":\"#17becf\"},\"hatch_scale\":{\"value\":12.0},\"hatch_weight\":{\"value\":1.0},\"line_alpha\":{\"value\":1.0},\"line_cap\":{\"value\":\"butt\"},\"line_color\":{\"value\":\"#17becf\"},\"line_dash\":{\"value\":[]},\"line_dash_offset\":{\"value\":0},\"line_join\":{\"value\":\"bevel\"},\"line_width\":{\"value\":1},\"marker\":{\"value\":\"circle\"},\"size\":{\"value\":5.477225575051661},\"x\":{\"field\":\"MAKE_NAME_NM\"},\"y\":{\"field\":\"RECALL_NUMBER_NUM\"}},\"id\":\"4710\",\"type\":\"Scatter\"},{\"attributes\":{},\"id\":\"4541\",\"type\":\"SaveTool\"},{\"attributes\":{},\"id\":\"4538\",\"type\":\"BasicTicker\"},{\"attributes\":{\"fill_alpha\":{\"value\":0.1},\"fill_color\":{\"value\":\"#e5ae38\"},\"hatch_alpha\":{\"value\":0.1},\"hatch_color\":{\"value\":\"#e5ae38\"},\"line_alpha\":{\"value\":0.1},\"line_color\":{\"value\":\"#e5ae38\"},\"size\":{\"value\":5.477225575051661},\"x\":{\"field\":\"MAKE_NAME_NM\"},\"y\":{\"field\":\"RECALL_NUMBER_NUM\"}},\"id\":\"4607\",\"type\":\"Scatter\"},{\"attributes\":{},\"id\":\"4542\",\"type\":\"PanTool\"},{\"attributes\":{},\"id\":\"4582\",\"type\":\"Selection\"},{\"attributes\":{},\"id\":\"4545\",\"type\":\"ResetTool\"},{\"attributes\":{\"label\":{\"value\":\"BMW\"},\"renderers\":[{\"id\":\"4566\"}]},\"id\":\"4579\",\"type\":\"LegendItem\"},{\"attributes\":{},\"id\":\"4543\",\"type\":\"WheelZoomTool\"},{\"attributes\":{\"angle\":{\"value\":0.0},\"fill_alpha\":{\"value\":1.0},\"fill_color\":{\"value\":\"#30a2da\"},\"hatch_alpha\":{\"value\":1.0},\"hatch_color\":{\"value\":\"#30a2da\"},\"hatch_scale\":{\"value\":12.0},\"hatch_weight\":{\"value\":1.0},\"line_alpha\":{\"value\":1.0},\"line_cap\":{\"value\":\"butt\"},\"line_color\":{\"value\":\"#30a2da\"},\"line_dash\":{\"value\":[]},\"line_dash_offset\":{\"value\":0},\"line_join\":{\"value\":\"bevel\"},\"line_width\":{\"value\":1},\"marker\":{\"value\":\"circle\"},\"size\":{\"value\":5.477225575051661},\"x\":{\"field\":\"MAKE_NAME_NM\"},\"y\":{\"field\":\"RECALL_NUMBER_NUM\"}},\"id\":\"4580\",\"type\":\"Scatter\"},{\"attributes\":{\"fill_alpha\":{\"value\":0.2},\"fill_color\":{\"value\":\"#e5ae38\"},\"hatch_alpha\":{\"value\":0.2},\"hatch_color\":{\"value\":\"#e5ae38\"},\"line_alpha\":{\"value\":0.2},\"line_color\":{\"value\":\"#e5ae38\"},\"size\":{\"value\":5.477225575051661},\"x\":{\"field\":\"MAKE_NAME_NM\"},\"y\":{\"field\":\"RECALL_NUMBER_NUM\"}},\"id\":\"4608\",\"type\":\"Scatter\"},{\"attributes\":{\"overlay\":{\"id\":\"4546\"}},\"id\":\"4544\",\"type\":\"BoxZoomTool\"},{\"attributes\":{},\"id\":\"4712\",\"type\":\"Selection\"},{\"attributes\":{\"angle\":{\"value\":0.0},\"fill_alpha\":{\"value\":1.0},\"fill_color\":{\"value\":\"#6d904f\"},\"hatch_alpha\":{\"value\":1.0},\"hatch_color\":{\"value\":\"#6d904f\"},\"hatch_scale\":{\"value\":12.0},\"hatch_weight\":{\"value\":1.0},\"line_alpha\":{\"value\":1.0},\"line_cap\":{\"value\":\"butt\"},\"line_color\":{\"value\":\"#6d904f\"},\"line_dash\":{\"value\":[]},\"line_dash_offset\":{\"value\":0},\"line_join\":{\"value\":\"bevel\"},\"line_width\":{\"value\":1},\"marker\":{\"value\":\"circle\"},\"size\":{\"value\":5.477225575051661},\"x\":{\"field\":\"MAKE_NAME_NM\"},\"y\":{\"field\":\"RECALL_NUMBER_NUM\"}},\"id\":\"4652\",\"type\":\"Scatter\"},{\"attributes\":{\"label\":{\"value\":\"FORD\"},\"renderers\":[{\"id\":\"4609\"}]},\"id\":\"4625\",\"type\":\"LegendItem\"},{\"attributes\":{\"margin\":[5,5,5,5],\"name\":\"HSpacer04394\",\"sizing_mode\":\"stretch_width\"},\"id\":\"4765\",\"type\":\"Spacer\"},{\"attributes\":{\"coordinates\":null,\"data_source\":{\"id\":\"4603\"},\"glyph\":{\"id\":\"4606\"},\"group\":null,\"hover_glyph\":null,\"muted_glyph\":{\"id\":\"4608\"},\"nonselection_glyph\":{\"id\":\"4607\"},\"selection_glyph\":{\"id\":\"4626\"},\"view\":{\"id\":\"4610\"}},\"id\":\"4609\",\"type\":\"GlyphRenderer\"},{\"attributes\":{\"coordinates\":null,\"data_source\":{\"id\":\"4627\"},\"glyph\":{\"id\":\"4630\"},\"group\":null,\"hover_glyph\":null,\"muted_glyph\":{\"id\":\"4632\"},\"nonselection_glyph\":{\"id\":\"4631\"},\"selection_glyph\":{\"id\":\"4652\"},\"view\":{\"id\":\"4634\"}},\"id\":\"4633\",\"type\":\"GlyphRenderer\"},{\"attributes\":{},\"id\":\"4648\",\"type\":\"UnionRenderers\"},{\"attributes\":{\"margin\":[5,5,5,5],\"name\":\"HSpacer04393\",\"sizing_mode\":\"stretch_width\"},\"id\":\"4515\",\"type\":\"Spacer\"},{\"attributes\":{},\"id\":\"4738\",\"type\":\"UnionRenderers\"},{\"attributes\":{\"coordinates\":null,\"data_source\":{\"id\":\"4681\"},\"glyph\":{\"id\":\"4684\"},\"group\":null,\"hover_glyph\":null,\"muted_glyph\":{\"id\":\"4686\"},\"nonselection_glyph\":{\"id\":\"4685\"},\"selection_glyph\":{\"id\":\"4710\"},\"view\":{\"id\":\"4688\"}},\"id\":\"4687\",\"type\":\"GlyphRenderer\"},{\"attributes\":{\"source\":{\"id\":\"4603\"}},\"id\":\"4610\",\"type\":\"CDSView\"},{\"attributes\":{\"fill_alpha\":{\"value\":0.2},\"fill_color\":{\"value\":\"#8b8b8b\"},\"hatch_alpha\":{\"value\":0.2},\"hatch_color\":{\"value\":\"#8b8b8b\"},\"line_alpha\":{\"value\":0.2},\"line_color\":{\"value\":\"#8b8b8b\"},\"size\":{\"value\":5.477225575051661},\"x\":{\"field\":\"MAKE_NAME_NM\"},\"y\":{\"field\":\"RECALL_NUMBER_NUM\"}},\"id\":\"4658\",\"type\":\"Scatter\"},{\"attributes\":{},\"id\":\"4598\",\"type\":\"UnionRenderers\"},{\"attributes\":{\"coordinates\":null,\"data_source\":{\"id\":\"4581\"},\"glyph\":{\"id\":\"4584\"},\"group\":null,\"hover_glyph\":null,\"muted_glyph\":{\"id\":\"4586\"},\"nonselection_glyph\":{\"id\":\"4585\"},\"selection_glyph\":{\"id\":\"4602\"},\"view\":{\"id\":\"4588\"}},\"id\":\"4587\",\"type\":\"GlyphRenderer\"},{\"attributes\":{\"fill_color\":{\"value\":\"#fc4f30\"},\"hatch_color\":{\"value\":\"#fc4f30\"},\"line_color\":{\"value\":\"#fc4f30\"},\"size\":{\"value\":5.477225575051661},\"x\":{\"field\":\"MAKE_NAME_NM\"},\"y\":{\"field\":\"RECALL_NUMBER_NUM\"}},\"id\":\"4584\",\"type\":\"Scatter\"},{\"attributes\":{},\"id\":\"4682\",\"type\":\"Selection\"},{\"attributes\":{},\"id\":\"4561\",\"type\":\"Selection\"},{\"attributes\":{},\"id\":\"4654\",\"type\":\"Selection\"},{\"attributes\":{\"data\":{\"MAKE_NAME_NM\":[\"CAMPAGNA MOTORS\"],\"RECALL_NUMBER_NUM\":[24]},\"selected\":{\"id\":\"4582\"},\"selection_policy\":{\"id\":\"4598\"}},\"id\":\"4581\",\"type\":\"ColumnDataSource\"},{\"attributes\":{\"coordinates\":null,\"data_source\":{\"id\":\"4653\"},\"glyph\":{\"id\":\"4656\"},\"group\":null,\"hover_glyph\":null,\"muted_glyph\":{\"id\":\"4658\"},\"nonselection_glyph\":{\"id\":\"4657\"},\"selection_glyph\":{\"id\":\"4680\"},\"view\":{\"id\":\"4660\"}},\"id\":\"4659\",\"type\":\"GlyphRenderer\"},{\"attributes\":{\"fill_alpha\":{\"value\":0.1},\"fill_color\":{\"value\":\"#fc4f30\"},\"hatch_alpha\":{\"value\":0.1},\"hatch_color\":{\"value\":\"#fc4f30\"},\"line_alpha\":{\"value\":0.1},\"line_color\":{\"value\":\"#fc4f30\"},\"size\":{\"value\":5.477225575051661},\"x\":{\"field\":\"MAKE_NAME_NM\"},\"y\":{\"field\":\"RECALL_NUMBER_NUM\"}},\"id\":\"4585\",\"type\":\"Scatter\"},{\"attributes\":{\"data\":{\"MAKE_NAME_NM\":[\"MERCEDES-BENZ\",\"MERCEDES-BENZ\",\"MERCEDES-BENZ\",\"MERCEDES-BENZ\"],\"RECALL_NUMBER_NUM\":[22,22,22,22]},\"selected\":{\"id\":\"4654\"},\"selection_policy\":{\"id\":\"4676\"}},\"id\":\"4653\",\"type\":\"ColumnDataSource\"},{\"attributes\":{\"axis\":{\"id\":\"4534\"},\"coordinates\":null,\"grid_line_color\":null,\"group\":null,\"ticker\":null},\"id\":\"4536\",\"type\":\"Grid\"},{\"attributes\":{\"click_policy\":\"mute\",\"coordinates\":null,\"group\":null,\"items\":[{\"id\":\"4579\"},{\"id\":\"4601\"},{\"id\":\"4625\"},{\"id\":\"4651\"},{\"id\":\"4679\"},{\"id\":\"4709\"},{\"id\":\"4741\"}],\"location\":[0,0],\"orientation\":\"horizontal\",\"title\":\"MAKE_NAME_NM\"},\"id\":\"4578\",\"type\":\"Legend\"},{\"attributes\":{\"fill_color\":{\"value\":\"#6d904f\"},\"hatch_color\":{\"value\":\"#6d904f\"},\"line_color\":{\"value\":\"#6d904f\"},\"size\":{\"value\":5.477225575051661},\"x\":{\"field\":\"MAKE_NAME_NM\"},\"y\":{\"field\":\"RECALL_NUMBER_NUM\"}},\"id\":\"4630\",\"type\":\"Scatter\"},{\"attributes\":{\"coordinates\":null,\"data_source\":{\"id\":\"4560\"},\"glyph\":{\"id\":\"4563\"},\"group\":null,\"hover_glyph\":null,\"muted_glyph\":{\"id\":\"4565\"},\"nonselection_glyph\":{\"id\":\"4564\"},\"selection_glyph\":{\"id\":\"4580\"},\"view\":{\"id\":\"4567\"}},\"id\":\"4566\",\"type\":\"GlyphRenderer\"},{\"attributes\":{\"fill_alpha\":{\"value\":0.2},\"fill_color\":{\"value\":\"#6d904f\"},\"hatch_alpha\":{\"value\":0.2},\"hatch_color\":{\"value\":\"#6d904f\"},\"line_alpha\":{\"value\":0.2},\"line_color\":{\"value\":\"#6d904f\"},\"size\":{\"value\":5.477225575051661},\"x\":{\"field\":\"MAKE_NAME_NM\"},\"y\":{\"field\":\"RECALL_NUMBER_NUM\"}},\"id\":\"4632\",\"type\":\"Scatter\"},{\"attributes\":{\"fill_alpha\":{\"value\":0.1},\"fill_color\":{\"value\":\"#6d904f\"},\"hatch_alpha\":{\"value\":0.1},\"hatch_color\":{\"value\":\"#6d904f\"},\"line_alpha\":{\"value\":0.1},\"line_color\":{\"value\":\"#6d904f\"},\"size\":{\"value\":5.477225575051661},\"x\":{\"field\":\"MAKE_NAME_NM\"},\"y\":{\"field\":\"RECALL_NUMBER_NUM\"}},\"id\":\"4631\",\"type\":\"Scatter\"},{\"attributes\":{\"source\":{\"id\":\"4560\"}},\"id\":\"4567\",\"type\":\"CDSView\"},{\"attributes\":{\"fill_color\":{\"value\":\"#17becf\"},\"hatch_color\":{\"value\":\"#17becf\"},\"line_color\":{\"value\":\"#17becf\"},\"size\":{\"value\":5.477225575051661},\"x\":{\"field\":\"MAKE_NAME_NM\"},\"y\":{\"field\":\"RECALL_NUMBER_NUM\"}},\"id\":\"4684\",\"type\":\"Scatter\"},{\"attributes\":{\"fill_alpha\":{\"value\":0.2},\"fill_color\":{\"value\":\"#30a2da\"},\"hatch_alpha\":{\"value\":0.2},\"hatch_color\":{\"value\":\"#30a2da\"},\"line_alpha\":{\"value\":0.2},\"line_color\":{\"value\":\"#30a2da\"},\"size\":{\"value\":5.477225575051661},\"x\":{\"field\":\"MAKE_NAME_NM\"},\"y\":{\"field\":\"RECALL_NUMBER_NUM\"}},\"id\":\"4565\",\"type\":\"Scatter\"},{\"attributes\":{},\"id\":\"4604\",\"type\":\"Selection\"},{\"attributes\":{\"label\":{\"value\":\"CAMPAGNA MOTORS\"},\"renderers\":[{\"id\":\"4587\"}]},\"id\":\"4601\",\"type\":\"LegendItem\"},{\"attributes\":{},\"id\":\"4555\",\"type\":\"CategoricalTickFormatter\"},{\"attributes\":{\"fill_color\":{\"value\":\"#e5ae38\"},\"hatch_color\":{\"value\":\"#e5ae38\"},\"line_color\":{\"value\":\"#e5ae38\"},\"size\":{\"value\":5.477225575051661},\"x\":{\"field\":\"MAKE_NAME_NM\"},\"y\":{\"field\":\"RECALL_NUMBER_NUM\"}},\"id\":\"4606\",\"type\":\"Scatter\"},{\"attributes\":{},\"id\":\"4628\",\"type\":\"Selection\"},{\"attributes\":{\"data\":{\"MAKE_NAME_NM\":[\"FORD\",\"FORD\",\"FORD\"],\"RECALL_NUMBER_NUM\":[18,24,27]},\"selected\":{\"id\":\"4604\"},\"selection_policy\":{\"id\":\"4622\"}},\"id\":\"4603\",\"type\":\"ColumnDataSource\"},{\"attributes\":{\"data\":{\"MAKE_NAME_NM\":[\"PORSCHE\",\"PORSCHE\",\"PORSCHE\",\"PORSCHE\"],\"RECALL_NUMBER_NUM\":[18,26,26,32]},\"selected\":{\"id\":\"4712\"},\"selection_policy\":{\"id\":\"4738\"}},\"id\":\"4711\",\"type\":\"ColumnDataSource\"},{\"attributes\":{\"label\":{\"value\":\"PORSCHE\"},\"renderers\":[{\"id\":\"4717\"}]},\"id\":\"4741\",\"type\":\"LegendItem\"},{\"attributes\":{\"source\":{\"id\":\"4581\"}},\"id\":\"4588\",\"type\":\"CDSView\"},{\"attributes\":{\"angle\":{\"value\":0.0},\"fill_alpha\":{\"value\":1.0},\"fill_color\":{\"value\":\"#9467bd\"},\"hatch_alpha\":{\"value\":1.0},\"hatch_color\":{\"value\":\"#9467bd\"},\"hatch_scale\":{\"value\":12.0},\"hatch_weight\":{\"value\":1.0},\"line_alpha\":{\"value\":1.0},\"line_cap\":{\"value\":\"butt\"},\"line_color\":{\"value\":\"#9467bd\"},\"line_dash\":{\"value\":[]},\"line_dash_offset\":{\"value\":0},\"line_join\":{\"value\":\"bevel\"},\"line_width\":{\"value\":1},\"marker\":{\"value\":\"circle\"},\"size\":{\"value\":5.477225575051661},\"x\":{\"field\":\"MAKE_NAME_NM\"},\"y\":{\"field\":\"RECALL_NUMBER_NUM\"}},\"id\":\"4742\",\"type\":\"Scatter\"},{\"attributes\":{\"above\":[{\"id\":\"4578\"}],\"below\":[{\"id\":\"4534\"}],\"center\":[{\"id\":\"4536\"},{\"id\":\"4540\"}],\"height\":768,\"left\":[{\"id\":\"4537\"}],\"margin\":[5,5,5,5],\"min_border_bottom\":10,\"min_border_left\":10,\"min_border_right\":10,\"min_border_top\":10,\"renderers\":[{\"id\":\"4566\"},{\"id\":\"4587\"},{\"id\":\"4609\"},{\"id\":\"4633\"},{\"id\":\"4659\"},{\"id\":\"4687\"},{\"id\":\"4717\"}],\"sizing_mode\":\"fixed\",\"title\":{\"id\":\"4526\"},\"toolbar\":{\"id\":\"4547\"},\"width\":1536,\"x_range\":{\"id\":\"4516\"},\"x_scale\":{\"id\":\"4530\"},\"y_range\":{\"id\":\"4517\"},\"y_scale\":{\"id\":\"4532\"}},\"id\":\"4525\",\"subtype\":\"Figure\",\"type\":\"Plot\"},{\"attributes\":{\"children\":[{\"id\":\"4515\"},{\"id\":\"4525\"},{\"id\":\"4765\"}],\"margin\":[0,0,0,0],\"name\":\"Row04389\",\"tags\":[\"embedded\"]},\"id\":\"4514\",\"type\":\"Row\"},{\"attributes\":{},\"id\":\"4559\",\"type\":\"AllLabels\"},{\"attributes\":{\"end\":46.6,\"reset_end\":46.6,\"reset_start\":15.4,\"start\":15.4,\"tags\":[[[\"RECALL_NUMBER_NUM\",\"RECALL_NUMBER_NUM\",null]]]},\"id\":\"4517\",\"type\":\"Range1d\"},{\"attributes\":{\"data\":{\"MAKE_NAME_NM\":[\"HYUNDAI\",\"HYUNDAI\",\"HYUNDAI\",\"HYUNDAI\"],\"RECALL_NUMBER_NUM\":[18,21,31,36]},\"selected\":{\"id\":\"4628\"},\"selection_policy\":{\"id\":\"4648\"}},\"id\":\"4627\",\"type\":\"ColumnDataSource\"},{\"attributes\":{\"factors\":[\"BMW\",\"CAMPAGNA MOTORS\",\"FORD\",\"HYUNDAI\",\"MERCEDES-BENZ\",\"NOVA BUS\",\"PORSCHE\"],\"tags\":[[[\"MAKE_NAME_NM\",\"MAKE_NAME_NM\",null]]]},\"id\":\"4516\",\"type\":\"FactorRange\"},{\"attributes\":{},\"id\":\"4676\",\"type\":\"UnionRenderers\"},{\"attributes\":{},\"id\":\"4575\",\"type\":\"UnionRenderers\"},{\"attributes\":{\"axis_label\":\"MAKE_NAME_NM\",\"coordinates\":null,\"formatter\":{\"id\":\"4555\"},\"group\":null,\"major_label_policy\":{\"id\":\"4556\"},\"ticker\":{\"id\":\"4535\"}},\"id\":\"4534\",\"type\":\"CategoricalAxis\"},{\"attributes\":{},\"id\":\"4706\",\"type\":\"UnionRenderers\"},{\"attributes\":{},\"id\":\"4530\",\"type\":\"CategoricalScale\"},{\"attributes\":{\"coordinates\":null,\"group\":null,\"text_color\":\"black\",\"text_font_size\":\"12pt\"},\"id\":\"4526\",\"type\":\"Title\"},{\"attributes\":{\"label\":{\"value\":\"MERCEDES-BENZ\"},\"renderers\":[{\"id\":\"4659\"}]},\"id\":\"4679\",\"type\":\"LegendItem\"},{\"attributes\":{\"label\":{\"value\":\"NOVA BUS\"},\"renderers\":[{\"id\":\"4687\"}]},\"id\":\"4709\",\"type\":\"LegendItem\"},{\"attributes\":{},\"id\":\"4556\",\"type\":\"AllLabels\"},{\"attributes\":{\"angle\":{\"value\":0.0},\"fill_alpha\":{\"value\":1.0},\"fill_color\":{\"value\":\"#8b8b8b\"},\"hatch_alpha\":{\"value\":1.0},\"hatch_color\":{\"value\":\"#8b8b8b\"},\"hatch_scale\":{\"value\":12.0},\"hatch_weight\":{\"value\":1.0},\"line_alpha\":{\"value\":1.0},\"line_cap\":{\"value\":\"butt\"},\"line_color\":{\"value\":\"#8b8b8b\"},\"line_dash\":{\"value\":[]},\"line_dash_offset\":{\"value\":0},\"line_join\":{\"value\":\"bevel\"},\"line_width\":{\"value\":1},\"marker\":{\"value\":\"circle\"},\"size\":{\"value\":5.477225575051661},\"x\":{\"field\":\"MAKE_NAME_NM\"},\"y\":{\"field\":\"RECALL_NUMBER_NUM\"}},\"id\":\"4680\",\"type\":\"Scatter\"},{\"attributes\":{\"fill_alpha\":{\"value\":0.1},\"fill_color\":{\"value\":\"#9467bd\"},\"hatch_alpha\":{\"value\":0.1},\"hatch_color\":{\"value\":\"#9467bd\"},\"line_alpha\":{\"value\":0.1},\"line_color\":{\"value\":\"#9467bd\"},\"size\":{\"value\":5.477225575051661},\"x\":{\"field\":\"MAKE_NAME_NM\"},\"y\":{\"field\":\"RECALL_NUMBER_NUM\"}},\"id\":\"4715\",\"type\":\"Scatter\"},{\"attributes\":{\"fill_alpha\":{\"value\":0.2},\"fill_color\":{\"value\":\"#9467bd\"},\"hatch_alpha\":{\"value\":0.2},\"hatch_color\":{\"value\":\"#9467bd\"},\"line_alpha\":{\"value\":0.2},\"line_color\":{\"value\":\"#9467bd\"},\"size\":{\"value\":5.477225575051661},\"x\":{\"field\":\"MAKE_NAME_NM\"},\"y\":{\"field\":\"RECALL_NUMBER_NUM\"}},\"id\":\"4716\",\"type\":\"Scatter\"},{\"attributes\":{\"data\":{\"MAKE_NAME_NM\":[\"NOVA BUS\"],\"RECALL_NUMBER_NUM\":[28]},\"selected\":{\"id\":\"4682\"},\"selection_policy\":{\"id\":\"4706\"}},\"id\":\"4681\",\"type\":\"ColumnDataSource\"},{\"attributes\":{},\"id\":\"4532\",\"type\":\"LinearScale\"},{\"attributes\":{\"fill_alpha\":{\"value\":0.2},\"fill_color\":{\"value\":\"#fc4f30\"},\"hatch_alpha\":{\"value\":0.2},\"hatch_color\":{\"value\":\"#fc4f30\"},\"line_alpha\":{\"value\":0.2},\"line_color\":{\"value\":\"#fc4f30\"},\"size\":{\"value\":5.477225575051661},\"x\":{\"field\":\"MAKE_NAME_NM\"},\"y\":{\"field\":\"RECALL_NUMBER_NUM\"}},\"id\":\"4586\",\"type\":\"Scatter\"},{\"attributes\":{\"data\":{\"MAKE_NAME_NM\":[\"BMW\",\"BMW\"],\"RECALL_NUMBER_NUM\":[30,44]},\"selected\":{\"id\":\"4561\"},\"selection_policy\":{\"id\":\"4575\"}},\"id\":\"4560\",\"type\":\"ColumnDataSource\"},{\"attributes\":{},\"id\":\"4535\",\"type\":\"CategoricalTicker\"},{\"attributes\":{\"fill_color\":{\"value\":\"#30a2da\"},\"hatch_color\":{\"value\":\"#30a2da\"},\"line_color\":{\"value\":\"#30a2da\"},\"size\":{\"value\":5.477225575051661},\"x\":{\"field\":\"MAKE_NAME_NM\"},\"y\":{\"field\":\"RECALL_NUMBER_NUM\"}},\"id\":\"4563\",\"type\":\"Scatter\"},{\"attributes\":{\"fill_alpha\":{\"value\":0.1},\"fill_color\":{\"value\":\"#8b8b8b\"},\"hatch_alpha\":{\"value\":0.1},\"hatch_color\":{\"value\":\"#8b8b8b\"},\"line_alpha\":{\"value\":0.1},\"line_color\":{\"value\":\"#8b8b8b\"},\"size\":{\"value\":5.477225575051661},\"x\":{\"field\":\"MAKE_NAME_NM\"},\"y\":{\"field\":\"RECALL_NUMBER_NUM\"}},\"id\":\"4657\",\"type\":\"Scatter\"},{\"attributes\":{},\"id\":\"4558\",\"type\":\"BasicTickFormatter\"},{\"attributes\":{\"axis_label\":\"RECALL_NUMBER_NUM\",\"coordinates\":null,\"formatter\":{\"id\":\"4558\"},\"group\":null,\"major_label_policy\":{\"id\":\"4559\"},\"ticker\":{\"id\":\"4538\"}},\"id\":\"4537\",\"type\":\"LinearAxis\"},{\"attributes\":{\"fill_alpha\":{\"value\":0.2},\"fill_color\":{\"value\":\"#17becf\"},\"hatch_alpha\":{\"value\":0.2},\"hatch_color\":{\"value\":\"#17becf\"},\"line_alpha\":{\"value\":0.2},\"line_color\":{\"value\":\"#17becf\"},\"size\":{\"value\":5.477225575051661},\"x\":{\"field\":\"MAKE_NAME_NM\"},\"y\":{\"field\":\"RECALL_NUMBER_NUM\"}},\"id\":\"4686\",\"type\":\"Scatter\"},{\"attributes\":{\"fill_alpha\":{\"value\":0.1},\"fill_color\":{\"value\":\"#30a2da\"},\"hatch_alpha\":{\"value\":0.1},\"hatch_color\":{\"value\":\"#30a2da\"},\"line_alpha\":{\"value\":0.1},\"line_color\":{\"value\":\"#30a2da\"},\"size\":{\"value\":5.477225575051661},\"x\":{\"field\":\"MAKE_NAME_NM\"},\"y\":{\"field\":\"RECALL_NUMBER_NUM\"}},\"id\":\"4564\",\"type\":\"Scatter\"},{\"attributes\":{\"coordinates\":null,\"data_source\":{\"id\":\"4711\"},\"glyph\":{\"id\":\"4714\"},\"group\":null,\"hover_glyph\":null,\"muted_glyph\":{\"id\":\"4716\"},\"nonselection_glyph\":{\"id\":\"4715\"},\"selection_glyph\":{\"id\":\"4742\"},\"view\":{\"id\":\"4718\"}},\"id\":\"4717\",\"type\":\"GlyphRenderer\"},{\"attributes\":{\"label\":{\"value\":\"HYUNDAI\"},\"renderers\":[{\"id\":\"4633\"}]},\"id\":\"4651\",\"type\":\"LegendItem\"},{\"attributes\":{\"callback\":null,\"renderers\":[{\"id\":\"4566\"},{\"id\":\"4587\"},{\"id\":\"4609\"},{\"id\":\"4633\"},{\"id\":\"4659\"},{\"id\":\"4687\"},{\"id\":\"4717\"}],\"tags\":[\"hv_created\"],\"tooltips\":[[\"MAKE_NAME_NM\",\"@{MAKE_NAME_NM}\"],[\"RECALL_NUMBER_NUM\",\"@{RECALL_NUMBER_NUM}\"]]},\"id\":\"4518\",\"type\":\"HoverTool\"},{\"attributes\":{},\"id\":\"4622\",\"type\":\"UnionRenderers\"}],\"root_ids\":[\"4514\"]},\"title\":\"Bokeh Application\",\"version\":\"2.4.3\"}};\n",
       "    var render_items = [{\"docid\":\"76c81bde-91b9-4892-afe6-69dc77113fef\",\"root_ids\":[\"4514\"],\"roots\":{\"4514\":\"b24b90ed-e2f6-4a00-a608-3a4d19d52f15\"}}];\n",
       "    root.Bokeh.embed.embed_items_notebook(docs_json, render_items);\n",
       "    for (const render_item of render_items) {\n",
       "      for (const root_id of render_item.root_ids) {\n",
       "\tconst id_el = document.getElementById(root_id)\n",
       "\tif (id_el.children.length && (id_el.children[0].className === 'bk-root')) {\n",
       "\t  const root_el = id_el.children[0]\n",
       "\t  root_el.id = root_el.id + '-rendered'\n",
       "\t}\n",
       "      }\n",
       "    }\n",
       "  }\n",
       "  if (root.Bokeh !== undefined && root.Bokeh.Panel !== undefined) {\n",
       "    embed_document(root);\n",
       "  } else {\n",
       "    var attempts = 0;\n",
       "    var timer = setInterval(function(root) {\n",
       "      if (root.Bokeh !== undefined && root.Bokeh.Panel !== undefined) {\n",
       "        clearInterval(timer);\n",
       "        embed_document(root);\n",
       "      } else if (document.readyState == \"complete\") {\n",
       "        attempts++;\n",
       "        if (attempts > 200) {\n",
       "          clearInterval(timer);\n",
       "          console.log(\"Bokeh: ERROR: Unable to run BokehJS code because BokehJS library is missing\");\n",
       "        }\n",
       "      }\n",
       "    }, 25, root)\n",
       "  }\n",
       "})(window);</script>"
      ],
      "text/plain": [
       ":NdOverlay   [MAKE_NAME_NM]\n",
       "   :Scatter   [MAKE_NAME_NM]   (RECALL_NUMBER_NUM)"
      ]
     },
     "execution_count": 44,
     "metadata": {
      "application/vnd.holoviews_exec.v0+json": {
       "id": "4514"
      }
     },
     "output_type": "execute_result"
    }
   ],
   "source": [
    "def scatter_chart():\n",
    "    vehicle_df = get_df()\n",
    "    return vehicle_df.hvplot.scatter(x=col_make, y=col_recall_number, by=col_make, \n",
    "                  legend='top', width=1024+512, height=512+256,)\n",
    "\n",
    "scatter_chart()"
   ]
  }
 ],
 "metadata": {
  "kernelspec": {
   "display_name": "Python 3.7.15 ('dev')",
   "language": "python",
   "name": "python3"
  },
  "language_info": {
   "codemirror_mode": {
    "name": "ipython",
    "version": 3
   },
   "file_extension": ".py",
   "mimetype": "text/x-python",
   "name": "python",
   "nbconvert_exporter": "python",
   "pygments_lexer": "ipython3",
   "version": "3.7.15"
  },
  "orig_nbformat": 4,
  "vscode": {
   "interpreter": {
    "hash": "30b884da31d8c13a610cda2d27fe25286c638aaabfac5f03b43d7871615fddd8"
   }
  }
 },
 "nbformat": 4,
 "nbformat_minor": 2
}
