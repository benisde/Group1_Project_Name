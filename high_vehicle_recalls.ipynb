{
 "cells": [
  {
   "cell_type": "code",
   "execution_count": 5,
   "metadata": {},
   "outputs": [],
   "source": [
    "import pandas as pd\n",
    "import numpy as np\n",
    "from pathlib import Path\n",
    "import hvplot.pandas\n",
    "\n",
    "#import make_model_count as mm\n",
    "\n",
    "#const variables \n",
    "col_recall_number = \"RecallCount\"\n",
    "col_make = \"Make\"\n",
    "col_model = \"Model\"\n",
    "\n",
    "def get_df():\n",
    "    # get_df function load the csv file and creates the panda dataframe and return it\n",
    "    # Furthermore, it also change the names of the columns in order to make these names are more readable\n",
    "    vehicle_df = pd.read_csv(\"./resources/vrdb_60days_daily.csv\")\n",
    "    vehicle_df.head()\n",
    "    vehicle_df = vehicle_df[[\"RECALL_NUMBER_NUM\", \"MAKE_NAME_NM\",\"MODEL_NAME_NM\"]]\n",
    "    vehicle_df.columns = [col_recall_number, col_make, col_model]\n",
    "    vehicle_df = vehicle_df.groupby([col_make, col_model]).count()\n",
    "    vehicle_df = vehicle_df.sort_values(by=col_recall_number)\n",
    "    vehicle_df = vehicle_df[vehicle_df.RecallCount>= 17]\n",
    "\n",
    "    return vehicle_df\n"
   ]
  },
  {
   "cell_type": "code",
   "execution_count": 6,
   "metadata": {},
   "outputs": [
    {
     "data": {},
     "metadata": {},
     "output_type": "display_data"
    },
    {
     "data": {
      "application/vnd.holoviews_exec.v0+json": "",
      "text/html": [
       "<div id='1262'>\n",
       "  <div class=\"bk-root\" id=\"8f750c8a-2db6-4941-af93-4b8d2d117e8a\" data-root-id=\"1262\"></div>\n",
       "</div>\n",
       "<script type=\"application/javascript\">(function(root) {\n",
       "  function embed_document(root) {\n",
       "    var docs_json = {\"050832d2-40a1-4cc9-8890-41a992cfe6d5\":{\"defs\":[{\"extends\":null,\"module\":null,\"name\":\"ReactiveHTML1\",\"overrides\":[],\"properties\":[]},{\"extends\":null,\"module\":null,\"name\":\"FlexBox1\",\"overrides\":[],\"properties\":[{\"default\":\"flex-start\",\"kind\":null,\"name\":\"align_content\"},{\"default\":\"flex-start\",\"kind\":null,\"name\":\"align_items\"},{\"default\":\"row\",\"kind\":null,\"name\":\"flex_direction\"},{\"default\":\"wrap\",\"kind\":null,\"name\":\"flex_wrap\"},{\"default\":\"flex-start\",\"kind\":null,\"name\":\"justify_content\"}]},{\"extends\":null,\"module\":null,\"name\":\"GridStack1\",\"overrides\":[],\"properties\":[{\"default\":\"warn\",\"kind\":null,\"name\":\"mode\"},{\"default\":null,\"kind\":null,\"name\":\"ncols\"},{\"default\":null,\"kind\":null,\"name\":\"nrows\"},{\"default\":true,\"kind\":null,\"name\":\"allow_resize\"},{\"default\":true,\"kind\":null,\"name\":\"allow_drag\"},{\"default\":[],\"kind\":null,\"name\":\"state\"}]},{\"extends\":null,\"module\":null,\"name\":\"click1\",\"overrides\":[],\"properties\":[{\"default\":\"\",\"kind\":null,\"name\":\"terminal_output\"},{\"default\":\"\",\"kind\":null,\"name\":\"debug_name\"},{\"default\":0,\"kind\":null,\"name\":\"clears\"}]},{\"extends\":null,\"module\":null,\"name\":\"NotificationAreaBase1\",\"overrides\":[],\"properties\":[{\"default\":\"bottom-right\",\"kind\":null,\"name\":\"position\"},{\"default\":0,\"kind\":null,\"name\":\"_clear\"}]},{\"extends\":null,\"module\":null,\"name\":\"NotificationArea1\",\"overrides\":[],\"properties\":[{\"default\":[],\"kind\":null,\"name\":\"notifications\"},{\"default\":\"bottom-right\",\"kind\":null,\"name\":\"position\"},{\"default\":0,\"kind\":null,\"name\":\"_clear\"},{\"default\":[{\"background\":\"#ffc107\",\"icon\":{\"className\":\"fas fa-exclamation-triangle\",\"color\":\"white\",\"tagName\":\"i\"},\"type\":\"warning\"},{\"background\":\"#007bff\",\"icon\":{\"className\":\"fas fa-info-circle\",\"color\":\"white\",\"tagName\":\"i\"},\"type\":\"info\"}],\"kind\":null,\"name\":\"types\"}]},{\"extends\":null,\"module\":null,\"name\":\"Notification\",\"overrides\":[],\"properties\":[{\"default\":null,\"kind\":null,\"name\":\"background\"},{\"default\":3000,\"kind\":null,\"name\":\"duration\"},{\"default\":null,\"kind\":null,\"name\":\"icon\"},{\"default\":\"\",\"kind\":null,\"name\":\"message\"},{\"default\":null,\"kind\":null,\"name\":\"notification_type\"},{\"default\":false,\"kind\":null,\"name\":\"_destroyed\"}]},{\"extends\":null,\"module\":null,\"name\":\"TemplateActions1\",\"overrides\":[],\"properties\":[{\"default\":0,\"kind\":null,\"name\":\"open_modal\"},{\"default\":0,\"kind\":null,\"name\":\"close_modal\"}]},{\"extends\":null,\"module\":null,\"name\":\"MaterialTemplateActions1\",\"overrides\":[],\"properties\":[{\"default\":0,\"kind\":null,\"name\":\"open_modal\"},{\"default\":0,\"kind\":null,\"name\":\"close_modal\"}]}],\"roots\":{\"references\":[{\"attributes\":{\"axis\":{\"id\":\"1276\"},\"coordinates\":null,\"grid_line_color\":null,\"group\":null,\"ticker\":null},\"id\":\"1278\",\"type\":\"Grid\"},{\"attributes\":{\"line_alpha\":0.1,\"line_color\":\"#30a2da\",\"line_width\":2,\"x\":{\"field\":\"Model\"},\"y\":{\"field\":\"RecallCount\"}},\"id\":\"1300\",\"type\":\"Line\"},{\"attributes\":{\"margin\":[5,5,5,5],\"name\":\"HSpacer01074\",\"sizing_mode\":\"stretch_width\"},\"id\":\"1263\",\"type\":\"Spacer\"},{\"attributes\":{\"coordinates\":null,\"group\":null,\"text\":\"Number of recalls for a specific brand models\",\"text_color\":\"black\",\"text_font_size\":\"35pt\"},\"id\":\"1268\",\"type\":\"Title\"},{\"attributes\":{\"factors\":[\"C-MAX\",\"ESCAPE\",\"TRANSIT CONNECT\"],\"tags\":[[[\"Model\",\"Model\",null]]]},\"id\":\"1264\",\"type\":\"FactorRange\"},{\"attributes\":{},\"id\":\"1306\",\"type\":\"CategoricalTickFormatter\"},{\"attributes\":{\"data\":{\"Model\":[\"C-MAX\",\"ESCAPE\",\"TRANSIT CONNECT\"],\"RecallCount\":[18,24,27]},\"selected\":{\"id\":\"1297\"},\"selection_policy\":{\"id\":\"1324\"}},\"id\":\"1296\",\"type\":\"ColumnDataSource\"},{\"attributes\":{\"line_alpha\":0.2,\"line_color\":\"#30a2da\",\"line_width\":2,\"x\":{\"field\":\"Model\"},\"y\":{\"field\":\"RecallCount\"}},\"id\":\"1301\",\"type\":\"Line\"},{\"attributes\":{\"margin\":[5,5,5,5],\"name\":\"VSpacer01072\",\"sizing_mode\":\"stretch_height\"},\"id\":\"1332\",\"type\":\"Spacer\"},{\"attributes\":{\"callback\":null,\"renderers\":[{\"id\":\"1302\"}],\"tags\":[\"hv_created\"],\"tooltips\":[[\"Model\",\"@{Model}\"],[\"RecallCount\",\"@{RecallCount}\"]]},\"id\":\"1266\",\"type\":\"HoverTool\"},{\"attributes\":{},\"id\":\"1309\",\"type\":\"BasicTickFormatter\"},{\"attributes\":{\"axis_label\":\"Model Name\",\"axis_label_text_font_size\":\"25px\",\"coordinates\":null,\"formatter\":{\"id\":\"1306\"},\"group\":null,\"group_text_font_size\":\"20pt\",\"major_label_policy\":{\"id\":\"1307\"},\"major_label_text_font_size\":\"20pt\",\"ticker\":{\"id\":\"1277\"}},\"id\":\"1276\",\"type\":\"CategoricalAxis\"},{\"attributes\":{\"line_color\":\"#30a2da\",\"line_width\":2,\"x\":{\"field\":\"Model\"},\"y\":{\"field\":\"RecallCount\"}},\"id\":\"1304\",\"type\":\"Line\"},{\"attributes\":{},\"id\":\"1280\",\"type\":\"BasicTicker\"},{\"attributes\":{\"margin\":[5,5,5,5],\"name\":\"HSpacer01075\",\"sizing_mode\":\"stretch_width\"},\"id\":\"1327\",\"type\":\"Spacer\"},{\"attributes\":{},\"id\":\"1277\",\"type\":\"CategoricalTicker\"},{\"attributes\":{\"line_color\":\"#30a2da\",\"line_width\":2,\"x\":{\"field\":\"Model\"},\"y\":{\"field\":\"RecallCount\"}},\"id\":\"1299\",\"type\":\"Line\"},{\"attributes\":{},\"id\":\"1307\",\"type\":\"AllLabels\"},{\"attributes\":{\"below\":[{\"id\":\"1276\"}],\"center\":[{\"id\":\"1278\"},{\"id\":\"1282\"}],\"height\":768,\"left\":[{\"id\":\"1279\"}],\"margin\":[5,5,5,5],\"min_border_bottom\":10,\"min_border_left\":10,\"min_border_right\":10,\"min_border_top\":10,\"renderers\":[{\"id\":\"1302\"}],\"sizing_mode\":\"fixed\",\"title\":{\"id\":\"1268\"},\"toolbar\":{\"id\":\"1289\"},\"width\":1536,\"x_range\":{\"id\":\"1264\"},\"x_scale\":{\"id\":\"1272\"},\"y_range\":{\"id\":\"1265\"},\"y_scale\":{\"id\":\"1274\"}},\"id\":\"1267\",\"subtype\":\"Figure\",\"type\":\"Plot\"},{\"attributes\":{\"coordinates\":null,\"data_source\":{\"id\":\"1296\"},\"glyph\":{\"id\":\"1299\"},\"group\":null,\"hover_glyph\":null,\"muted_glyph\":{\"id\":\"1301\"},\"nonselection_glyph\":{\"id\":\"1300\"},\"selection_glyph\":{\"id\":\"1304\"},\"view\":{\"id\":\"1303\"}},\"id\":\"1302\",\"type\":\"GlyphRenderer\"},{\"attributes\":{\"tools\":[{\"id\":\"1266\"},{\"id\":\"1283\"},{\"id\":\"1284\"},{\"id\":\"1285\"},{\"id\":\"1286\"},{\"id\":\"1287\"}]},\"id\":\"1289\",\"type\":\"Toolbar\"},{\"attributes\":{\"axis_label\":\"Number of recalls\",\"axis_label_text_font_size\":\"25px\",\"coordinates\":null,\"formatter\":{\"id\":\"1309\"},\"group\":null,\"major_label_policy\":{\"id\":\"1310\"},\"major_label_text_font_size\":\"20pt\",\"ticker\":{\"id\":\"1280\"}},\"id\":\"1279\",\"type\":\"LinearAxis\"},{\"attributes\":{\"axis\":{\"id\":\"1279\"},\"coordinates\":null,\"dimension\":1,\"grid_line_color\":null,\"group\":null,\"ticker\":null},\"id\":\"1282\",\"type\":\"Grid\"},{\"attributes\":{\"children\":[{\"id\":\"1329\"},{\"id\":\"1330\"},{\"id\":\"1332\"}],\"margin\":[0,0,0,0],\"name\":\"Column01073\"},\"id\":\"1328\",\"type\":\"Column\"},{\"attributes\":{},\"id\":\"1310\",\"type\":\"AllLabels\"},{\"attributes\":{\"bottom_units\":\"screen\",\"coordinates\":null,\"fill_alpha\":0.5,\"fill_color\":\"lightgrey\",\"group\":null,\"left_units\":\"screen\",\"level\":\"overlay\",\"line_alpha\":1.0,\"line_color\":\"black\",\"line_dash\":[4,4],\"line_width\":2,\"right_units\":\"screen\",\"syncable\":false,\"top_units\":\"screen\"},\"id\":\"1288\",\"type\":\"BoxAnnotation\"},{\"attributes\":{\"end\":27.9,\"reset_end\":27.9,\"reset_start\":17.1,\"start\":17.1,\"tags\":[[[\"RecallCount\",\"RecallCount\",null]]]},\"id\":\"1265\",\"type\":\"Range1d\"},{\"attributes\":{\"margin\":[20,20,20,20],\"min_width\":250,\"options\":[\"FORD\",\"HYUNDAI\",\"PORSCHE\",\"MERCEDES-BENZ\",\"CAMPAGNA MOTORS\",\"NOVA BUS\",\"BMW\"],\"title\":\"Make\",\"value\":\"FORD\",\"width\":250},\"id\":\"1331\",\"type\":\"panel.models.widgets.CustomSelect\"},{\"attributes\":{},\"id\":\"1324\",\"type\":\"UnionRenderers\"},{\"attributes\":{},\"id\":\"1274\",\"type\":\"LinearScale\"},{\"attributes\":{},\"id\":\"1283\",\"type\":\"SaveTool\"},{\"attributes\":{\"client_comm_id\":\"0adf307489474c2fb86851c70d586775\",\"comm_id\":\"716f057620104371a25f80435d79db5f\",\"plot_id\":\"1262\"},\"id\":\"1363\",\"type\":\"panel.models.comm_manager.CommManager\"},{\"attributes\":{\"source\":{\"id\":\"1296\"}},\"id\":\"1303\",\"type\":\"CDSView\"},{\"attributes\":{},\"id\":\"1284\",\"type\":\"PanTool\"},{\"attributes\":{},\"id\":\"1287\",\"type\":\"ResetTool\"},{\"attributes\":{},\"id\":\"1285\",\"type\":\"WheelZoomTool\"},{\"attributes\":{},\"id\":\"1297\",\"type\":\"Selection\"},{\"attributes\":{\"margin\":[5,5,5,5],\"name\":\"VSpacer01071\",\"sizing_mode\":\"stretch_height\"},\"id\":\"1329\",\"type\":\"Spacer\"},{\"attributes\":{\"children\":[{\"id\":\"1263\"},{\"id\":\"1267\"},{\"id\":\"1327\"},{\"id\":\"1328\"}],\"margin\":[0,0,0,0],\"name\":\"Row01065\"},\"id\":\"1262\",\"type\":\"Row\"},{\"attributes\":{\"overlay\":{\"id\":\"1288\"}},\"id\":\"1286\",\"type\":\"BoxZoomTool\"},{\"attributes\":{\"children\":[{\"id\":\"1331\"}],\"css_classes\":[\"panel-widget-box\"],\"margin\":[5,5,5,5],\"name\":\"WidgetBox01066\"},\"id\":\"1330\",\"type\":\"Column\"},{\"attributes\":{},\"id\":\"1272\",\"type\":\"CategoricalScale\"}],\"root_ids\":[\"1262\",\"1363\"]},\"title\":\"Bokeh Application\",\"version\":\"2.4.3\"}};\n",
       "    var render_items = [{\"docid\":\"050832d2-40a1-4cc9-8890-41a992cfe6d5\",\"root_ids\":[\"1262\"],\"roots\":{\"1262\":\"8f750c8a-2db6-4941-af93-4b8d2d117e8a\"}}];\n",
       "    root.Bokeh.embed.embed_items_notebook(docs_json, render_items);\n",
       "    for (const render_item of render_items) {\n",
       "      for (const root_id of render_item.root_ids) {\n",
       "\tconst id_el = document.getElementById(root_id)\n",
       "\tif (id_el.children.length && (id_el.children[0].className === 'bk-root')) {\n",
       "\t  const root_el = id_el.children[0]\n",
       "\t  root_el.id = root_el.id + '-rendered'\n",
       "\t}\n",
       "      }\n",
       "    }\n",
       "  }\n",
       "  if (root.Bokeh !== undefined && root.Bokeh.Panel !== undefined) {\n",
       "    embed_document(root);\n",
       "  } else {\n",
       "    var attempts = 0;\n",
       "    var timer = setInterval(function(root) {\n",
       "      if (root.Bokeh !== undefined && root.Bokeh.Panel !== undefined) {\n",
       "        clearInterval(timer);\n",
       "        embed_document(root);\n",
       "      } else if (document.readyState == \"complete\") {\n",
       "        attempts++;\n",
       "        if (attempts > 200) {\n",
       "          clearInterval(timer);\n",
       "          console.log(\"Bokeh: ERROR: Unable to run BokehJS code because BokehJS library is missing\");\n",
       "        }\n",
       "      }\n",
       "    }, 25, root)\n",
       "  }\n",
       "})(window);</script>"
      ],
      "text/plain": [
       ":DynamicMap   [Make]\n",
       "   :Curve   [Model]   (RecallCount)"
      ]
     },
     "execution_count": 6,
     "metadata": {
      "application/vnd.holoviews_exec.v0+json": {
       "id": "1262"
      }
     },
     "output_type": "execute_result"
    }
   ],
   "source": [
    "def line():\n",
    "    # line function plot an interactive line graph to get the recall count for a selected brand\n",
    "    vehicle_df = get_df()\n",
    "    return vehicle_df.hvplot.line(\n",
    "    groupby=col_make,\n",
    "    width=1024+512, height=512+256,\n",
    "    xlabel=\"Model Name\", ylabel=\"Number of recalls\",\n",
    "    title=\"Number of recalls for a specific brand models\",\n",
    "    fontsize={'title': '35pt', 'ylabel': '25px',\n",
    "              'xlabel': '25px', 'ticks': 20},\n",
    "    )\n",
    "\n",
    "\n",
    "\n",
    "line()"
   ]
  },
  {
   "cell_type": "markdown",
   "metadata": {},
   "source": [
    "![A screenshot of the result.](Images/high_vehicle_recalls.png)"
   ]
  },
  {
   "cell_type": "code",
   "execution_count": null,
   "metadata": {},
   "outputs": [],
   "source": []
  }
 ],
 "metadata": {
  "kernelspec": {
   "display_name": "Python 3 (ipykernel)",
   "language": "python",
   "name": "python3"
  },
  "language_info": {
   "codemirror_mode": {
    "name": "ipython",
    "version": 3
   },
   "file_extension": ".py",
   "mimetype": "text/x-python",
   "name": "python",
   "nbconvert_exporter": "python",
   "pygments_lexer": "ipython3",
   "version": "3.7.13"
  },
  "vscode": {
   "interpreter": {
    "hash": "30b884da31d8c13a610cda2d27fe25286c638aaabfac5f03b43d7871615fddd8"
   }
  }
 },
 "nbformat": 4,
 "nbformat_minor": 4
}
